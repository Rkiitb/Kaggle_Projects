{
 "cells": [
  {
   "cell_type": "code",
   "execution_count": 1,
   "id": "98722459",
   "metadata": {
    "_cell_guid": "b1076dfc-b9ad-4769-8c92-a6c4dae69d19",
    "_uuid": "8f2839f25d086af736a60e9eeb907d3b93b6e0e5",
    "execution": {
     "iopub.execute_input": "2023-12-16T07:46:41.095565Z",
     "iopub.status.busy": "2023-12-16T07:46:41.094796Z",
     "iopub.status.idle": "2023-12-16T07:46:41.490266Z",
     "shell.execute_reply": "2023-12-16T07:46:41.488991Z"
    },
    "papermill": {
     "duration": 0.415293,
     "end_time": "2023-12-16T07:46:41.492472",
     "exception": false,
     "start_time": "2023-12-16T07:46:41.077179",
     "status": "completed"
    },
    "tags": []
   },
   "outputs": [
    {
     "name": "stdout",
     "output_type": "stream",
     "text": [
      "/kaggle/input/heart-failure-prediction/heart.csv\n"
     ]
    }
   ],
   "source": [
    "# This Python 3 environment comes with many helpful analytics libraries installed\n",
    "# It is defined by the kaggle/python Docker image: https://github.com/kaggle/docker-python\n",
    "# For example, here's several helpful packages to load\n",
    "\n",
    "import numpy as np # linear algebra\n",
    "import pandas as pd # data processing, CSV file I/O (e.g. pd.read_csv)\n",
    "\n",
    "# Input data files are available in the read-only \"../input/\" directory\n",
    "# For example, running this (by clicking run or pressing Shift+Enter) will list all files under the input directory\n",
    "\n",
    "import os\n",
    "for dirname, _, filenames in os.walk('/kaggle/input'):\n",
    "    for filename in filenames:\n",
    "        print(os.path.join(dirname, filename))\n",
    "\n",
    "# You can write up to 20GB to the current directory (/kaggle/working/) that gets preserved as output when you create a version using \"Save & Run All\" \n",
    "# You can also write temporary files to /kaggle/temp/, but they won't be saved outside of the current session"
   ]
  },
  {
   "cell_type": "code",
   "execution_count": 2,
   "id": "f243dd1a",
   "metadata": {
    "execution": {
     "iopub.execute_input": "2023-12-16T07:46:41.523985Z",
     "iopub.status.busy": "2023-12-16T07:46:41.523421Z",
     "iopub.status.idle": "2023-12-16T07:46:42.995606Z",
     "shell.execute_reply": "2023-12-16T07:46:42.994760Z"
    },
    "papermill": {
     "duration": 1.490525,
     "end_time": "2023-12-16T07:46:42.997985",
     "exception": false,
     "start_time": "2023-12-16T07:46:41.507460",
     "status": "completed"
    },
    "tags": []
   },
   "outputs": [],
   "source": [
    "import pandas as pd\n",
    "import numpy as np\n",
    "import matplotlib.pyplot as plt\n",
    "import seaborn as sns"
   ]
  },
  {
   "cell_type": "code",
   "execution_count": 3,
   "id": "ca7bcafe",
   "metadata": {
    "execution": {
     "iopub.execute_input": "2023-12-16T07:46:43.030374Z",
     "iopub.status.busy": "2023-12-16T07:46:43.029767Z",
     "iopub.status.idle": "2023-12-16T07:46:43.050854Z",
     "shell.execute_reply": "2023-12-16T07:46:43.049689Z"
    },
    "papermill": {
     "duration": 0.040556,
     "end_time": "2023-12-16T07:46:43.053401",
     "exception": false,
     "start_time": "2023-12-16T07:46:43.012845",
     "status": "completed"
    },
    "tags": []
   },
   "outputs": [],
   "source": [
    "df=pd.read_csv(\"/kaggle/input/heart-failure-prediction/heart.csv\")"
   ]
  },
  {
   "cell_type": "code",
   "execution_count": 4,
   "id": "e822a23e",
   "metadata": {
    "execution": {
     "iopub.execute_input": "2023-12-16T07:46:43.085750Z",
     "iopub.status.busy": "2023-12-16T07:46:43.085330Z",
     "iopub.status.idle": "2023-12-16T07:46:43.121741Z",
     "shell.execute_reply": "2023-12-16T07:46:43.120861Z"
    },
    "papermill": {
     "duration": 0.055393,
     "end_time": "2023-12-16T07:46:43.123755",
     "exception": false,
     "start_time": "2023-12-16T07:46:43.068362",
     "status": "completed"
    },
    "tags": []
   },
   "outputs": [
    {
     "data": {
      "text/html": [
       "<div>\n",
       "<style scoped>\n",
       "    .dataframe tbody tr th:only-of-type {\n",
       "        vertical-align: middle;\n",
       "    }\n",
       "\n",
       "    .dataframe tbody tr th {\n",
       "        vertical-align: top;\n",
       "    }\n",
       "\n",
       "    .dataframe thead th {\n",
       "        text-align: right;\n",
       "    }\n",
       "</style>\n",
       "<table border=\"1\" class=\"dataframe\">\n",
       "  <thead>\n",
       "    <tr style=\"text-align: right;\">\n",
       "      <th></th>\n",
       "      <th>Age</th>\n",
       "      <th>Sex</th>\n",
       "      <th>ChestPainType</th>\n",
       "      <th>RestingBP</th>\n",
       "      <th>Cholesterol</th>\n",
       "      <th>FastingBS</th>\n",
       "      <th>RestingECG</th>\n",
       "      <th>MaxHR</th>\n",
       "      <th>ExerciseAngina</th>\n",
       "      <th>Oldpeak</th>\n",
       "      <th>ST_Slope</th>\n",
       "      <th>HeartDisease</th>\n",
       "    </tr>\n",
       "  </thead>\n",
       "  <tbody>\n",
       "    <tr>\n",
       "      <th>0</th>\n",
       "      <td>40</td>\n",
       "      <td>M</td>\n",
       "      <td>ATA</td>\n",
       "      <td>140</td>\n",
       "      <td>289</td>\n",
       "      <td>0</td>\n",
       "      <td>Normal</td>\n",
       "      <td>172</td>\n",
       "      <td>N</td>\n",
       "      <td>0.0</td>\n",
       "      <td>Up</td>\n",
       "      <td>0</td>\n",
       "    </tr>\n",
       "    <tr>\n",
       "      <th>1</th>\n",
       "      <td>49</td>\n",
       "      <td>F</td>\n",
       "      <td>NAP</td>\n",
       "      <td>160</td>\n",
       "      <td>180</td>\n",
       "      <td>0</td>\n",
       "      <td>Normal</td>\n",
       "      <td>156</td>\n",
       "      <td>N</td>\n",
       "      <td>1.0</td>\n",
       "      <td>Flat</td>\n",
       "      <td>1</td>\n",
       "    </tr>\n",
       "    <tr>\n",
       "      <th>2</th>\n",
       "      <td>37</td>\n",
       "      <td>M</td>\n",
       "      <td>ATA</td>\n",
       "      <td>130</td>\n",
       "      <td>283</td>\n",
       "      <td>0</td>\n",
       "      <td>ST</td>\n",
       "      <td>98</td>\n",
       "      <td>N</td>\n",
       "      <td>0.0</td>\n",
       "      <td>Up</td>\n",
       "      <td>0</td>\n",
       "    </tr>\n",
       "    <tr>\n",
       "      <th>3</th>\n",
       "      <td>48</td>\n",
       "      <td>F</td>\n",
       "      <td>ASY</td>\n",
       "      <td>138</td>\n",
       "      <td>214</td>\n",
       "      <td>0</td>\n",
       "      <td>Normal</td>\n",
       "      <td>108</td>\n",
       "      <td>Y</td>\n",
       "      <td>1.5</td>\n",
       "      <td>Flat</td>\n",
       "      <td>1</td>\n",
       "    </tr>\n",
       "    <tr>\n",
       "      <th>4</th>\n",
       "      <td>54</td>\n",
       "      <td>M</td>\n",
       "      <td>NAP</td>\n",
       "      <td>150</td>\n",
       "      <td>195</td>\n",
       "      <td>0</td>\n",
       "      <td>Normal</td>\n",
       "      <td>122</td>\n",
       "      <td>N</td>\n",
       "      <td>0.0</td>\n",
       "      <td>Up</td>\n",
       "      <td>0</td>\n",
       "    </tr>\n",
       "    <tr>\n",
       "      <th>...</th>\n",
       "      <td>...</td>\n",
       "      <td>...</td>\n",
       "      <td>...</td>\n",
       "      <td>...</td>\n",
       "      <td>...</td>\n",
       "      <td>...</td>\n",
       "      <td>...</td>\n",
       "      <td>...</td>\n",
       "      <td>...</td>\n",
       "      <td>...</td>\n",
       "      <td>...</td>\n",
       "      <td>...</td>\n",
       "    </tr>\n",
       "    <tr>\n",
       "      <th>913</th>\n",
       "      <td>45</td>\n",
       "      <td>M</td>\n",
       "      <td>TA</td>\n",
       "      <td>110</td>\n",
       "      <td>264</td>\n",
       "      <td>0</td>\n",
       "      <td>Normal</td>\n",
       "      <td>132</td>\n",
       "      <td>N</td>\n",
       "      <td>1.2</td>\n",
       "      <td>Flat</td>\n",
       "      <td>1</td>\n",
       "    </tr>\n",
       "    <tr>\n",
       "      <th>914</th>\n",
       "      <td>68</td>\n",
       "      <td>M</td>\n",
       "      <td>ASY</td>\n",
       "      <td>144</td>\n",
       "      <td>193</td>\n",
       "      <td>1</td>\n",
       "      <td>Normal</td>\n",
       "      <td>141</td>\n",
       "      <td>N</td>\n",
       "      <td>3.4</td>\n",
       "      <td>Flat</td>\n",
       "      <td>1</td>\n",
       "    </tr>\n",
       "    <tr>\n",
       "      <th>915</th>\n",
       "      <td>57</td>\n",
       "      <td>M</td>\n",
       "      <td>ASY</td>\n",
       "      <td>130</td>\n",
       "      <td>131</td>\n",
       "      <td>0</td>\n",
       "      <td>Normal</td>\n",
       "      <td>115</td>\n",
       "      <td>Y</td>\n",
       "      <td>1.2</td>\n",
       "      <td>Flat</td>\n",
       "      <td>1</td>\n",
       "    </tr>\n",
       "    <tr>\n",
       "      <th>916</th>\n",
       "      <td>57</td>\n",
       "      <td>F</td>\n",
       "      <td>ATA</td>\n",
       "      <td>130</td>\n",
       "      <td>236</td>\n",
       "      <td>0</td>\n",
       "      <td>LVH</td>\n",
       "      <td>174</td>\n",
       "      <td>N</td>\n",
       "      <td>0.0</td>\n",
       "      <td>Flat</td>\n",
       "      <td>1</td>\n",
       "    </tr>\n",
       "    <tr>\n",
       "      <th>917</th>\n",
       "      <td>38</td>\n",
       "      <td>M</td>\n",
       "      <td>NAP</td>\n",
       "      <td>138</td>\n",
       "      <td>175</td>\n",
       "      <td>0</td>\n",
       "      <td>Normal</td>\n",
       "      <td>173</td>\n",
       "      <td>N</td>\n",
       "      <td>0.0</td>\n",
       "      <td>Up</td>\n",
       "      <td>0</td>\n",
       "    </tr>\n",
       "  </tbody>\n",
       "</table>\n",
       "<p>918 rows × 12 columns</p>\n",
       "</div>"
      ],
      "text/plain": [
       "     Age Sex ChestPainType  RestingBP  Cholesterol  FastingBS RestingECG  \\\n",
       "0     40   M           ATA        140          289          0     Normal   \n",
       "1     49   F           NAP        160          180          0     Normal   \n",
       "2     37   M           ATA        130          283          0         ST   \n",
       "3     48   F           ASY        138          214          0     Normal   \n",
       "4     54   M           NAP        150          195          0     Normal   \n",
       "..   ...  ..           ...        ...          ...        ...        ...   \n",
       "913   45   M            TA        110          264          0     Normal   \n",
       "914   68   M           ASY        144          193          1     Normal   \n",
       "915   57   M           ASY        130          131          0     Normal   \n",
       "916   57   F           ATA        130          236          0        LVH   \n",
       "917   38   M           NAP        138          175          0     Normal   \n",
       "\n",
       "     MaxHR ExerciseAngina  Oldpeak ST_Slope  HeartDisease  \n",
       "0      172              N      0.0       Up             0  \n",
       "1      156              N      1.0     Flat             1  \n",
       "2       98              N      0.0       Up             0  \n",
       "3      108              Y      1.5     Flat             1  \n",
       "4      122              N      0.0       Up             0  \n",
       "..     ...            ...      ...      ...           ...  \n",
       "913    132              N      1.2     Flat             1  \n",
       "914    141              N      3.4     Flat             1  \n",
       "915    115              Y      1.2     Flat             1  \n",
       "916    174              N      0.0     Flat             1  \n",
       "917    173              N      0.0       Up             0  \n",
       "\n",
       "[918 rows x 12 columns]"
      ]
     },
     "execution_count": 4,
     "metadata": {},
     "output_type": "execute_result"
    }
   ],
   "source": [
    "df"
   ]
  },
  {
   "cell_type": "markdown",
   "id": "b12742cd",
   "metadata": {
    "papermill": {
     "duration": 0.015113,
     "end_time": "2023-12-16T07:46:43.154906",
     "exception": false,
     "start_time": "2023-12-16T07:46:43.139793",
     "status": "completed"
    },
    "tags": []
   },
   "source": [
    "# Explanation of data\n",
    "* We have a very small dataset of 918 rows and 12 columns \n",
    "* 0= Normal , 1 = heart Disease\n",
    "* Chest Pain Type- \n",
    "1. Typical Angina (TA):This type of chest pain is considered typical or characteristic of angina pectoris, a condition caused by reduced blood flow to the heart muscle.\n",
    "2. Atypical Angina (ATA):Atypical angina refers to chest pain that does not fit the typical pattern of angina but still may be related to heart issues. The discomfort may be sharp, burning, or stabbing.\n",
    "3. Non-Anginal Pain (NAP): Non-anginal pain is chest discomfort that is not related to angina or heart-related issues. It may be caused by other conditions such as musculoskeletal problems, gastrointestinal issues, or anxiety.\n",
    "4. Asymptomatic (ASY): Asymptomatic means the absence of symptoms. In the context of chest pain types, it indicates that the individual does not experience chest pain or discomfort.\n",
    "\n",
    "* Resting BP- blood pressure at resting position [mm Hg]\n",
    "\n",
    "* FastingBS- \"Fasting BS\" refers to the measurement of blood glucose (sugar) levels after a period of fasting. It is commonly used to assess and diagnose diabetes or to monitor blood sugar control in individuals with diabetes. The term \"BS\" stands for \"blood sugar. [1: if FastingBS > 120 mg/dl, 0: otherwise]\n",
    "* RestingECG: resting electrocardiogram results [Normal: Normal, ST: having ST-T wave abnormality (T wave inversions and/or ST elevation or depression of > 0.05 mV), LVH: showing probable or definite left ventricular hypertrophy by Estes' criteria]\n",
    "* Maximum Heart Rate (MaxHR):is the highest heart rate an individual can achieve during intense physical exertion.\n",
    "* \"Exercise angina\" refers to angina pectoris that is triggered or worsened by physical exertion or exercise.\n",
    "* Oldpeak :\"ST depression induced by exercise relative to rest. [Up: upsloping, Flat: flat, Down: downsloping]\n",
    "* ST slope :direction or inclination of the ST segment on an electrocardiogram (ECG or EKG).\n"
   ]
  },
  {
   "cell_type": "code",
   "execution_count": 5,
   "id": "35a179ba",
   "metadata": {
    "execution": {
     "iopub.execute_input": "2023-12-16T07:46:43.187811Z",
     "iopub.status.busy": "2023-12-16T07:46:43.187376Z",
     "iopub.status.idle": "2023-12-16T07:46:43.289018Z",
     "shell.execute_reply": "2023-12-16T07:46:43.287886Z"
    },
    "papermill": {
     "duration": 0.121068,
     "end_time": "2023-12-16T07:46:43.291423",
     "exception": false,
     "start_time": "2023-12-16T07:46:43.170355",
     "status": "completed"
    },
    "tags": []
   },
   "outputs": [
    {
     "name": "stdout",
     "output_type": "stream",
     "text": [
      "<class 'pandas.core.frame.DataFrame'>\n",
      "RangeIndex: 918 entries, 0 to 917\n",
      "Data columns (total 12 columns):\n",
      " #   Column          Non-Null Count  Dtype  \n",
      "---  ------          --------------  -----  \n",
      " 0   Age             918 non-null    int64  \n",
      " 1   Sex             918 non-null    object \n",
      " 2   ChestPainType   918 non-null    object \n",
      " 3   RestingBP       918 non-null    int64  \n",
      " 4   Cholesterol     918 non-null    int64  \n",
      " 5   FastingBS       918 non-null    int64  \n",
      " 6   RestingECG      918 non-null    object \n",
      " 7   MaxHR           918 non-null    int64  \n",
      " 8   ExerciseAngina  918 non-null    object \n",
      " 9   Oldpeak         918 non-null    float64\n",
      " 10  ST_Slope        918 non-null    object \n",
      " 11  HeartDisease    918 non-null    int64  \n",
      "dtypes: float64(1), int64(6), object(5)\n",
      "memory usage: 86.2+ KB\n"
     ]
    }
   ],
   "source": [
    "df.info()"
   ]
  },
  {
   "cell_type": "code",
   "execution_count": 6,
   "id": "e7e3973e",
   "metadata": {
    "execution": {
     "iopub.execute_input": "2023-12-16T07:46:43.324436Z",
     "iopub.status.busy": "2023-12-16T07:46:43.323865Z",
     "iopub.status.idle": "2023-12-16T07:46:43.352380Z",
     "shell.execute_reply": "2023-12-16T07:46:43.351602Z"
    },
    "papermill": {
     "duration": 0.047386,
     "end_time": "2023-12-16T07:46:43.354572",
     "exception": false,
     "start_time": "2023-12-16T07:46:43.307186",
     "status": "completed"
    },
    "tags": []
   },
   "outputs": [
    {
     "data": {
      "text/html": [
       "<div>\n",
       "<style scoped>\n",
       "    .dataframe tbody tr th:only-of-type {\n",
       "        vertical-align: middle;\n",
       "    }\n",
       "\n",
       "    .dataframe tbody tr th {\n",
       "        vertical-align: top;\n",
       "    }\n",
       "\n",
       "    .dataframe thead th {\n",
       "        text-align: right;\n",
       "    }\n",
       "</style>\n",
       "<table border=\"1\" class=\"dataframe\">\n",
       "  <thead>\n",
       "    <tr style=\"text-align: right;\">\n",
       "      <th></th>\n",
       "      <th>Age</th>\n",
       "      <th>RestingBP</th>\n",
       "      <th>Cholesterol</th>\n",
       "      <th>FastingBS</th>\n",
       "      <th>MaxHR</th>\n",
       "      <th>Oldpeak</th>\n",
       "      <th>HeartDisease</th>\n",
       "    </tr>\n",
       "  </thead>\n",
       "  <tbody>\n",
       "    <tr>\n",
       "      <th>count</th>\n",
       "      <td>918.000000</td>\n",
       "      <td>918.000000</td>\n",
       "      <td>918.000000</td>\n",
       "      <td>918.000000</td>\n",
       "      <td>918.000000</td>\n",
       "      <td>918.000000</td>\n",
       "      <td>918.000000</td>\n",
       "    </tr>\n",
       "    <tr>\n",
       "      <th>mean</th>\n",
       "      <td>53.510893</td>\n",
       "      <td>132.396514</td>\n",
       "      <td>198.799564</td>\n",
       "      <td>0.233115</td>\n",
       "      <td>136.809368</td>\n",
       "      <td>0.887364</td>\n",
       "      <td>0.553377</td>\n",
       "    </tr>\n",
       "    <tr>\n",
       "      <th>std</th>\n",
       "      <td>9.432617</td>\n",
       "      <td>18.514154</td>\n",
       "      <td>109.384145</td>\n",
       "      <td>0.423046</td>\n",
       "      <td>25.460334</td>\n",
       "      <td>1.066570</td>\n",
       "      <td>0.497414</td>\n",
       "    </tr>\n",
       "    <tr>\n",
       "      <th>min</th>\n",
       "      <td>28.000000</td>\n",
       "      <td>0.000000</td>\n",
       "      <td>0.000000</td>\n",
       "      <td>0.000000</td>\n",
       "      <td>60.000000</td>\n",
       "      <td>-2.600000</td>\n",
       "      <td>0.000000</td>\n",
       "    </tr>\n",
       "    <tr>\n",
       "      <th>25%</th>\n",
       "      <td>47.000000</td>\n",
       "      <td>120.000000</td>\n",
       "      <td>173.250000</td>\n",
       "      <td>0.000000</td>\n",
       "      <td>120.000000</td>\n",
       "      <td>0.000000</td>\n",
       "      <td>0.000000</td>\n",
       "    </tr>\n",
       "    <tr>\n",
       "      <th>50%</th>\n",
       "      <td>54.000000</td>\n",
       "      <td>130.000000</td>\n",
       "      <td>223.000000</td>\n",
       "      <td>0.000000</td>\n",
       "      <td>138.000000</td>\n",
       "      <td>0.600000</td>\n",
       "      <td>1.000000</td>\n",
       "    </tr>\n",
       "    <tr>\n",
       "      <th>75%</th>\n",
       "      <td>60.000000</td>\n",
       "      <td>140.000000</td>\n",
       "      <td>267.000000</td>\n",
       "      <td>0.000000</td>\n",
       "      <td>156.000000</td>\n",
       "      <td>1.500000</td>\n",
       "      <td>1.000000</td>\n",
       "    </tr>\n",
       "    <tr>\n",
       "      <th>max</th>\n",
       "      <td>77.000000</td>\n",
       "      <td>200.000000</td>\n",
       "      <td>603.000000</td>\n",
       "      <td>1.000000</td>\n",
       "      <td>202.000000</td>\n",
       "      <td>6.200000</td>\n",
       "      <td>1.000000</td>\n",
       "    </tr>\n",
       "  </tbody>\n",
       "</table>\n",
       "</div>"
      ],
      "text/plain": [
       "              Age   RestingBP  Cholesterol   FastingBS       MaxHR  \\\n",
       "count  918.000000  918.000000   918.000000  918.000000  918.000000   \n",
       "mean    53.510893  132.396514   198.799564    0.233115  136.809368   \n",
       "std      9.432617   18.514154   109.384145    0.423046   25.460334   \n",
       "min     28.000000    0.000000     0.000000    0.000000   60.000000   \n",
       "25%     47.000000  120.000000   173.250000    0.000000  120.000000   \n",
       "50%     54.000000  130.000000   223.000000    0.000000  138.000000   \n",
       "75%     60.000000  140.000000   267.000000    0.000000  156.000000   \n",
       "max     77.000000  200.000000   603.000000    1.000000  202.000000   \n",
       "\n",
       "          Oldpeak  HeartDisease  \n",
       "count  918.000000    918.000000  \n",
       "mean     0.887364      0.553377  \n",
       "std      1.066570      0.497414  \n",
       "min     -2.600000      0.000000  \n",
       "25%      0.000000      0.000000  \n",
       "50%      0.600000      1.000000  \n",
       "75%      1.500000      1.000000  \n",
       "max      6.200000      1.000000  "
      ]
     },
     "execution_count": 6,
     "metadata": {},
     "output_type": "execute_result"
    }
   ],
   "source": [
    "df.describe()"
   ]
  },
  {
   "cell_type": "code",
   "execution_count": 7,
   "id": "4fcb3bc4",
   "metadata": {
    "execution": {
     "iopub.execute_input": "2023-12-16T07:46:43.388448Z",
     "iopub.status.busy": "2023-12-16T07:46:43.387462Z",
     "iopub.status.idle": "2023-12-16T07:46:43.396488Z",
     "shell.execute_reply": "2023-12-16T07:46:43.395688Z"
    },
    "papermill": {
     "duration": 0.028197,
     "end_time": "2023-12-16T07:46:43.398798",
     "exception": false,
     "start_time": "2023-12-16T07:46:43.370601",
     "status": "completed"
    },
    "tags": []
   },
   "outputs": [
    {
     "data": {
      "text/plain": [
       "Age               0\n",
       "Sex               0\n",
       "ChestPainType     0\n",
       "RestingBP         0\n",
       "Cholesterol       0\n",
       "FastingBS         0\n",
       "RestingECG        0\n",
       "MaxHR             0\n",
       "ExerciseAngina    0\n",
       "Oldpeak           0\n",
       "ST_Slope          0\n",
       "HeartDisease      0\n",
       "dtype: int64"
      ]
     },
     "execution_count": 7,
     "metadata": {},
     "output_type": "execute_result"
    }
   ],
   "source": [
    "df.isnull().sum()"
   ]
  },
  {
   "cell_type": "code",
   "execution_count": 8,
   "id": "8d594c26",
   "metadata": {
    "execution": {
     "iopub.execute_input": "2023-12-16T07:46:43.432081Z",
     "iopub.status.busy": "2023-12-16T07:46:43.431364Z",
     "iopub.status.idle": "2023-12-16T07:46:43.442011Z",
     "shell.execute_reply": "2023-12-16T07:46:43.441169Z"
    },
    "papermill": {
     "duration": 0.029674,
     "end_time": "2023-12-16T07:46:43.444057",
     "exception": false,
     "start_time": "2023-12-16T07:46:43.414383",
     "status": "completed"
    },
    "tags": []
   },
   "outputs": [
    {
     "data": {
      "text/plain": [
       "0"
      ]
     },
     "execution_count": 8,
     "metadata": {},
     "output_type": "execute_result"
    }
   ],
   "source": [
    "df.duplicated().sum()"
   ]
  },
  {
   "cell_type": "markdown",
   "id": "7ae36047",
   "metadata": {
    "papermill": {
     "duration": 0.015328,
     "end_time": "2023-12-16T07:46:43.475134",
     "exception": false,
     "start_time": "2023-12-16T07:46:43.459806",
     "status": "completed"
    },
    "tags": []
   },
   "source": [
    "**Note-** Our Data is quite clean and there are no duplicate values are present and no null values are there "
   ]
  },
  {
   "cell_type": "markdown",
   "id": "96851ac0",
   "metadata": {
    "papermill": {
     "duration": 0.073118,
     "end_time": "2023-12-16T07:46:43.564075",
     "exception": false,
     "start_time": "2023-12-16T07:46:43.490957",
     "status": "completed"
    },
    "tags": []
   },
   "source": [
    "# Outlier Detection\n",
    "\n",
    "Outlier detection, also known as anomaly detection, is a process of identifying observations or data points that deviate significantly from the majority of the data in a dataset. These observations are called outliers, anomalies, or exceptions, and they may indicate errors in the data, interesting patterns, or rare events.The presence of outliers can have a significant impact on statistical analysis and machine learning models. Outliers may arise due to errors in data collection, measurement noise, or they could represent genuine but rare events that are of particular interest"
   ]
  },
  {
   "cell_type": "markdown",
   "id": "8cc32c43",
   "metadata": {
    "papermill": {
     "duration": 0.01583,
     "end_time": "2023-12-16T07:46:43.595820",
     "exception": false,
     "start_time": "2023-12-16T07:46:43.579990",
     "status": "completed"
    },
    "tags": []
   },
   "source": [
    "##### Step 1: Check if there's any outlier present or not \n",
    "To do that we will use boxplot . Using a boxplot is a quick and effective way to visually identify the presence of outliers in a dataset. "
   ]
  },
  {
   "cell_type": "code",
   "execution_count": 9,
   "id": "f19735eb",
   "metadata": {
    "execution": {
     "iopub.execute_input": "2023-12-16T07:46:43.629782Z",
     "iopub.status.busy": "2023-12-16T07:46:43.629090Z",
     "iopub.status.idle": "2023-12-16T07:46:44.376412Z",
     "shell.execute_reply": "2023-12-16T07:46:44.375321Z"
    },
    "papermill": {
     "duration": 0.767169,
     "end_time": "2023-12-16T07:46:44.379003",
     "exception": false,
     "start_time": "2023-12-16T07:46:43.611834",
     "status": "completed"
    },
    "tags": []
   },
   "outputs": [
    {
     "data": {
      "text/plain": [
       "Text(0.5, 1.0, 'Age')"
      ]
     },
     "execution_count": 9,
     "metadata": {},
     "output_type": "execute_result"
    },
    {
     "data": {
      "image/png": "[encoded data removed]",
      "text/plain": [
       "<Figure size 1400x1000 with 4 Axes>"
      ]
     },
     "metadata": {},
     "output_type": "display_data"
    }
   ],
   "source": [
    "fig, axes = plt.subplots(nrows=2, ncols=2, figsize=(14,10))\n",
    "sns.boxplot(df['Cholesterol'],ax=axes[0,0])\n",
    "axes[0,0].set_title('Cholesterol')\n",
    "\n",
    "sns.boxplot(df['MaxHR'],ax=axes[0,1])\n",
    "axes[0,1].set_title('MaxHR')\n",
    "\n",
    "sns.boxplot(df['Oldpeak'],ax=axes[1,0])\n",
    "axes[1,0].set_title('Oldpeak')\n",
    "\n",
    "sns.boxplot(df['Age'],ax=axes[1,1])\n",
    "axes[1,1].set_title('Age')"
   ]
  },
  {
   "cell_type": "markdown",
   "id": "b22c2a64",
   "metadata": {
    "papermill": {
     "duration": 0.016451,
     "end_time": "2023-12-16T07:46:44.412438",
     "exception": false,
     "start_time": "2023-12-16T07:46:44.395987",
     "status": "completed"
    },
    "tags": []
   },
   "source": [
    "So from above we can see that there are many outliers present in Cholestrol and OldPeak.\n",
    "Since we have very small dataset we can't remove the rows so we will apply capping\n",
    "\n",
    "**Capping-** also known as \"clipping\" or \"winsorizing,\" is a technique used in outlier handling to limit extreme values in a dataset. It involves setting a predefined threshold beyond which values are considered outliers, and these extreme values are then replaced or \"capped\" at that threshold. The goal is to mitigate the impact of outliers on statistical analysis without entirely removing the data points."
   ]
  },
  {
   "cell_type": "code",
   "execution_count": 10,
   "id": "ad37ca46",
   "metadata": {
    "execution": {
     "iopub.execute_input": "2023-12-16T07:46:44.448493Z",
     "iopub.status.busy": "2023-12-16T07:46:44.447424Z",
     "iopub.status.idle": "2023-12-16T07:46:44.454983Z",
     "shell.execute_reply": "2023-12-16T07:46:44.454215Z"
    },
    "papermill": {
     "duration": 0.027957,
     "end_time": "2023-12-16T07:46:44.457189",
     "exception": false,
     "start_time": "2023-12-16T07:46:44.429232",
     "status": "completed"
    },
    "tags": []
   },
   "outputs": [],
   "source": [
    "#we will define the lower and upper limit of these features and replace the extreme value with these\n",
    "cholesterol_upper_limit=df['Cholesterol'].mean()+3*df['Cholesterol'].std()\n",
    "cholesterol_lower_limit=0\n",
    "OldPeak_upper_limit=df['Oldpeak'].mean()+3*df['Oldpeak'].std()\n",
    "OldPeak_lower_limit=df['Oldpeak'].mean()-3*df['Oldpeak'].std()"
   ]
  },
  {
   "cell_type": "code",
   "execution_count": 11,
   "id": "ca3fe5f5",
   "metadata": {
    "execution": {
     "iopub.execute_input": "2023-12-16T07:46:44.492751Z",
     "iopub.status.busy": "2023-12-16T07:46:44.492098Z",
     "iopub.status.idle": "2023-12-16T07:46:44.507988Z",
     "shell.execute_reply": "2023-12-16T07:46:44.506757Z"
    },
    "papermill": {
     "duration": 0.036269,
     "end_time": "2023-12-16T07:46:44.510179",
     "exception": false,
     "start_time": "2023-12-16T07:46:44.473910",
     "status": "completed"
    },
    "tags": []
   },
   "outputs": [
    {
     "data": {
      "text/html": [
       "<div>\n",
       "<style scoped>\n",
       "    .dataframe tbody tr th:only-of-type {\n",
       "        vertical-align: middle;\n",
       "    }\n",
       "\n",
       "    .dataframe tbody tr th {\n",
       "        vertical-align: top;\n",
       "    }\n",
       "\n",
       "    .dataframe thead th {\n",
       "        text-align: right;\n",
       "    }\n",
       "</style>\n",
       "<table border=\"1\" class=\"dataframe\">\n",
       "  <thead>\n",
       "    <tr style=\"text-align: right;\">\n",
       "      <th></th>\n",
       "      <th>Age</th>\n",
       "      <th>Sex</th>\n",
       "      <th>ChestPainType</th>\n",
       "      <th>RestingBP</th>\n",
       "      <th>Cholesterol</th>\n",
       "      <th>FastingBS</th>\n",
       "      <th>RestingECG</th>\n",
       "      <th>MaxHR</th>\n",
       "      <th>ExerciseAngina</th>\n",
       "      <th>Oldpeak</th>\n",
       "      <th>ST_Slope</th>\n",
       "      <th>HeartDisease</th>\n",
       "    </tr>\n",
       "  </thead>\n",
       "  <tbody>\n",
       "    <tr>\n",
       "      <th>76</th>\n",
       "      <td>32</td>\n",
       "      <td>M</td>\n",
       "      <td>ASY</td>\n",
       "      <td>118</td>\n",
       "      <td>529</td>\n",
       "      <td>0</td>\n",
       "      <td>Normal</td>\n",
       "      <td>130</td>\n",
       "      <td>N</td>\n",
       "      <td>0.0</td>\n",
       "      <td>Flat</td>\n",
       "      <td>1</td>\n",
       "    </tr>\n",
       "    <tr>\n",
       "      <th>149</th>\n",
       "      <td>54</td>\n",
       "      <td>M</td>\n",
       "      <td>ASY</td>\n",
       "      <td>130</td>\n",
       "      <td>603</td>\n",
       "      <td>1</td>\n",
       "      <td>Normal</td>\n",
       "      <td>125</td>\n",
       "      <td>Y</td>\n",
       "      <td>1.0</td>\n",
       "      <td>Flat</td>\n",
       "      <td>1</td>\n",
       "    </tr>\n",
       "    <tr>\n",
       "      <th>616</th>\n",
       "      <td>67</td>\n",
       "      <td>F</td>\n",
       "      <td>NAP</td>\n",
       "      <td>115</td>\n",
       "      <td>564</td>\n",
       "      <td>0</td>\n",
       "      <td>LVH</td>\n",
       "      <td>160</td>\n",
       "      <td>N</td>\n",
       "      <td>1.6</td>\n",
       "      <td>Flat</td>\n",
       "      <td>0</td>\n",
       "    </tr>\n",
       "  </tbody>\n",
       "</table>\n",
       "</div>"
      ],
      "text/plain": [
       "     Age Sex ChestPainType  RestingBP  Cholesterol  FastingBS RestingECG  \\\n",
       "76    32   M           ASY        118          529          0     Normal   \n",
       "149   54   M           ASY        130          603          1     Normal   \n",
       "616   67   F           NAP        115          564          0        LVH   \n",
       "\n",
       "     MaxHR ExerciseAngina  Oldpeak ST_Slope  HeartDisease  \n",
       "76     130              N      0.0     Flat             1  \n",
       "149    125              Y      1.0     Flat             1  \n",
       "616    160              N      1.6     Flat             0  "
      ]
     },
     "execution_count": 11,
     "metadata": {},
     "output_type": "execute_result"
    }
   ],
   "source": [
    "df[df['Cholesterol']>cholesterol_upper_limit] \n"
   ]
  },
  {
   "cell_type": "code",
   "execution_count": 12,
   "id": "16554b0b",
   "metadata": {
    "execution": {
     "iopub.execute_input": "2023-12-16T07:46:44.545894Z",
     "iopub.status.busy": "2023-12-16T07:46:44.545504Z",
     "iopub.status.idle": "2023-12-16T07:46:44.557021Z",
     "shell.execute_reply": "2023-12-16T07:46:44.556019Z"
    },
    "papermill": {
     "duration": 0.031934,
     "end_time": "2023-12-16T07:46:44.559230",
     "exception": false,
     "start_time": "2023-12-16T07:46:44.527296",
     "status": "completed"
    },
    "tags": []
   },
   "outputs": [
    {
     "data": {
      "text/html": [
       "<div>\n",
       "<style scoped>\n",
       "    .dataframe tbody tr th:only-of-type {\n",
       "        vertical-align: middle;\n",
       "    }\n",
       "\n",
       "    .dataframe tbody tr th {\n",
       "        vertical-align: top;\n",
       "    }\n",
       "\n",
       "    .dataframe thead th {\n",
       "        text-align: right;\n",
       "    }\n",
       "</style>\n",
       "<table border=\"1\" class=\"dataframe\">\n",
       "  <thead>\n",
       "    <tr style=\"text-align: right;\">\n",
       "      <th></th>\n",
       "      <th>Age</th>\n",
       "      <th>Sex</th>\n",
       "      <th>ChestPainType</th>\n",
       "      <th>RestingBP</th>\n",
       "      <th>Cholesterol</th>\n",
       "      <th>FastingBS</th>\n",
       "      <th>RestingECG</th>\n",
       "      <th>MaxHR</th>\n",
       "      <th>ExerciseAngina</th>\n",
       "      <th>Oldpeak</th>\n",
       "      <th>ST_Slope</th>\n",
       "      <th>HeartDisease</th>\n",
       "    </tr>\n",
       "  </thead>\n",
       "  <tbody>\n",
       "  </tbody>\n",
       "</table>\n",
       "</div>"
      ],
      "text/plain": [
       "Empty DataFrame\n",
       "Columns: [Age, Sex, ChestPainType, RestingBP, Cholesterol, FastingBS, RestingECG, MaxHR, ExerciseAngina, Oldpeak, ST_Slope, HeartDisease]\n",
       "Index: []"
      ]
     },
     "execution_count": 12,
     "metadata": {},
     "output_type": "execute_result"
    }
   ],
   "source": [
    "df[df['Cholesterol']<cholesterol_lower_limit]"
   ]
  },
  {
   "cell_type": "code",
   "execution_count": 13,
   "id": "18e93a92",
   "metadata": {
    "execution": {
     "iopub.execute_input": "2023-12-16T07:46:44.595647Z",
     "iopub.status.busy": "2023-12-16T07:46:44.595245Z",
     "iopub.status.idle": "2023-12-16T07:46:44.610548Z",
     "shell.execute_reply": "2023-12-16T07:46:44.609503Z"
    },
    "papermill": {
     "duration": 0.036156,
     "end_time": "2023-12-16T07:46:44.612603",
     "exception": false,
     "start_time": "2023-12-16T07:46:44.576447",
     "status": "completed"
    },
    "tags": []
   },
   "outputs": [
    {
     "data": {
      "text/html": [
       "<div>\n",
       "<style scoped>\n",
       "    .dataframe tbody tr th:only-of-type {\n",
       "        vertical-align: middle;\n",
       "    }\n",
       "\n",
       "    .dataframe tbody tr th {\n",
       "        vertical-align: top;\n",
       "    }\n",
       "\n",
       "    .dataframe thead th {\n",
       "        text-align: right;\n",
       "    }\n",
       "</style>\n",
       "<table border=\"1\" class=\"dataframe\">\n",
       "  <thead>\n",
       "    <tr style=\"text-align: right;\">\n",
       "      <th></th>\n",
       "      <th>Age</th>\n",
       "      <th>Sex</th>\n",
       "      <th>ChestPainType</th>\n",
       "      <th>RestingBP</th>\n",
       "      <th>Cholesterol</th>\n",
       "      <th>FastingBS</th>\n",
       "      <th>RestingECG</th>\n",
       "      <th>MaxHR</th>\n",
       "      <th>ExerciseAngina</th>\n",
       "      <th>Oldpeak</th>\n",
       "      <th>ST_Slope</th>\n",
       "      <th>HeartDisease</th>\n",
       "    </tr>\n",
       "  </thead>\n",
       "  <tbody>\n",
       "    <tr>\n",
       "      <th>324</th>\n",
       "      <td>46</td>\n",
       "      <td>M</td>\n",
       "      <td>ASY</td>\n",
       "      <td>100</td>\n",
       "      <td>0</td>\n",
       "      <td>1</td>\n",
       "      <td>ST</td>\n",
       "      <td>133</td>\n",
       "      <td>N</td>\n",
       "      <td>-2.6</td>\n",
       "      <td>Flat</td>\n",
       "      <td>1</td>\n",
       "    </tr>\n",
       "  </tbody>\n",
       "</table>\n",
       "</div>"
      ],
      "text/plain": [
       "     Age Sex ChestPainType  RestingBP  Cholesterol  FastingBS RestingECG  \\\n",
       "324   46   M           ASY        100            0          1         ST   \n",
       "\n",
       "     MaxHR ExerciseAngina  Oldpeak ST_Slope  HeartDisease  \n",
       "324    133              N     -2.6     Flat             1  "
      ]
     },
     "execution_count": 13,
     "metadata": {},
     "output_type": "execute_result"
    }
   ],
   "source": [
    "df[df['Oldpeak']<OldPeak_lower_limit]"
   ]
  },
  {
   "cell_type": "code",
   "execution_count": 14,
   "id": "2254bd49",
   "metadata": {
    "execution": {
     "iopub.execute_input": "2023-12-16T07:46:44.649220Z",
     "iopub.status.busy": "2023-12-16T07:46:44.648804Z",
     "iopub.status.idle": "2023-12-16T07:46:44.667086Z",
     "shell.execute_reply": "2023-12-16T07:46:44.665548Z"
    },
    "papermill": {
     "duration": 0.040469,
     "end_time": "2023-12-16T07:46:44.670496",
     "exception": false,
     "start_time": "2023-12-16T07:46:44.630027",
     "status": "completed"
    },
    "tags": []
   },
   "outputs": [
    {
     "data": {
      "text/html": [
       "<div>\n",
       "<style scoped>\n",
       "    .dataframe tbody tr th:only-of-type {\n",
       "        vertical-align: middle;\n",
       "    }\n",
       "\n",
       "    .dataframe tbody tr th {\n",
       "        vertical-align: top;\n",
       "    }\n",
       "\n",
       "    .dataframe thead th {\n",
       "        text-align: right;\n",
       "    }\n",
       "</style>\n",
       "<table border=\"1\" class=\"dataframe\">\n",
       "  <thead>\n",
       "    <tr style=\"text-align: right;\">\n",
       "      <th></th>\n",
       "      <th>Age</th>\n",
       "      <th>Sex</th>\n",
       "      <th>ChestPainType</th>\n",
       "      <th>RestingBP</th>\n",
       "      <th>Cholesterol</th>\n",
       "      <th>FastingBS</th>\n",
       "      <th>RestingECG</th>\n",
       "      <th>MaxHR</th>\n",
       "      <th>ExerciseAngina</th>\n",
       "      <th>Oldpeak</th>\n",
       "      <th>ST_Slope</th>\n",
       "      <th>HeartDisease</th>\n",
       "    </tr>\n",
       "  </thead>\n",
       "  <tbody>\n",
       "    <tr>\n",
       "      <th>166</th>\n",
       "      <td>50</td>\n",
       "      <td>M</td>\n",
       "      <td>ASY</td>\n",
       "      <td>140</td>\n",
       "      <td>231</td>\n",
       "      <td>0</td>\n",
       "      <td>ST</td>\n",
       "      <td>140</td>\n",
       "      <td>Y</td>\n",
       "      <td>5.0</td>\n",
       "      <td>Flat</td>\n",
       "      <td>1</td>\n",
       "    </tr>\n",
       "    <tr>\n",
       "      <th>702</th>\n",
       "      <td>59</td>\n",
       "      <td>M</td>\n",
       "      <td>TA</td>\n",
       "      <td>178</td>\n",
       "      <td>270</td>\n",
       "      <td>0</td>\n",
       "      <td>LVH</td>\n",
       "      <td>145</td>\n",
       "      <td>N</td>\n",
       "      <td>4.2</td>\n",
       "      <td>Down</td>\n",
       "      <td>0</td>\n",
       "    </tr>\n",
       "    <tr>\n",
       "      <th>771</th>\n",
       "      <td>55</td>\n",
       "      <td>M</td>\n",
       "      <td>ASY</td>\n",
       "      <td>140</td>\n",
       "      <td>217</td>\n",
       "      <td>0</td>\n",
       "      <td>Normal</td>\n",
       "      <td>111</td>\n",
       "      <td>Y</td>\n",
       "      <td>5.6</td>\n",
       "      <td>Down</td>\n",
       "      <td>1</td>\n",
       "    </tr>\n",
       "    <tr>\n",
       "      <th>791</th>\n",
       "      <td>51</td>\n",
       "      <td>M</td>\n",
       "      <td>ASY</td>\n",
       "      <td>140</td>\n",
       "      <td>298</td>\n",
       "      <td>0</td>\n",
       "      <td>Normal</td>\n",
       "      <td>122</td>\n",
       "      <td>Y</td>\n",
       "      <td>4.2</td>\n",
       "      <td>Flat</td>\n",
       "      <td>1</td>\n",
       "    </tr>\n",
       "    <tr>\n",
       "      <th>850</th>\n",
       "      <td>62</td>\n",
       "      <td>F</td>\n",
       "      <td>ASY</td>\n",
       "      <td>160</td>\n",
       "      <td>164</td>\n",
       "      <td>0</td>\n",
       "      <td>LVH</td>\n",
       "      <td>145</td>\n",
       "      <td>N</td>\n",
       "      <td>6.2</td>\n",
       "      <td>Down</td>\n",
       "      <td>1</td>\n",
       "    </tr>\n",
       "    <tr>\n",
       "      <th>900</th>\n",
       "      <td>58</td>\n",
       "      <td>M</td>\n",
       "      <td>ASY</td>\n",
       "      <td>114</td>\n",
       "      <td>318</td>\n",
       "      <td>0</td>\n",
       "      <td>ST</td>\n",
       "      <td>140</td>\n",
       "      <td>N</td>\n",
       "      <td>4.4</td>\n",
       "      <td>Down</td>\n",
       "      <td>1</td>\n",
       "    </tr>\n",
       "  </tbody>\n",
       "</table>\n",
       "</div>"
      ],
      "text/plain": [
       "     Age Sex ChestPainType  RestingBP  Cholesterol  FastingBS RestingECG  \\\n",
       "166   50   M           ASY        140          231          0         ST   \n",
       "702   59   M            TA        178          270          0        LVH   \n",
       "771   55   M           ASY        140          217          0     Normal   \n",
       "791   51   M           ASY        140          298          0     Normal   \n",
       "850   62   F           ASY        160          164          0        LVH   \n",
       "900   58   M           ASY        114          318          0         ST   \n",
       "\n",
       "     MaxHR ExerciseAngina  Oldpeak ST_Slope  HeartDisease  \n",
       "166    140              Y      5.0     Flat             1  \n",
       "702    145              N      4.2     Down             0  \n",
       "771    111              Y      5.6     Down             1  \n",
       "791    122              Y      4.2     Flat             1  \n",
       "850    145              N      6.2     Down             1  \n",
       "900    140              N      4.4     Down             1  "
      ]
     },
     "execution_count": 14,
     "metadata": {},
     "output_type": "execute_result"
    }
   ],
   "source": [
    "df[df['Oldpeak']>OldPeak_upper_limit]"
   ]
  },
  {
   "cell_type": "markdown",
   "id": "6132760f",
   "metadata": {
    "papermill": {
     "duration": 0.017118,
     "end_time": "2023-12-16T07:46:44.705262",
     "exception": false,
     "start_time": "2023-12-16T07:46:44.688144",
     "status": "completed"
    },
    "tags": []
   },
   "source": [
    "⬆️ All these are outliers "
   ]
  },
  {
   "cell_type": "code",
   "execution_count": 15,
   "id": "cbc76dc4",
   "metadata": {
    "execution": {
     "iopub.execute_input": "2023-12-16T07:46:44.741707Z",
     "iopub.status.busy": "2023-12-16T07:46:44.741322Z",
     "iopub.status.idle": "2023-12-16T07:46:44.746596Z",
     "shell.execute_reply": "2023-12-16T07:46:44.745550Z"
    },
    "papermill": {
     "duration": 0.026208,
     "end_time": "2023-12-16T07:46:44.748733",
     "exception": false,
     "start_time": "2023-12-16T07:46:44.722525",
     "status": "completed"
    },
    "tags": []
   },
   "outputs": [],
   "source": [
    "# This function will replace the outlier values with limiting values\n",
    "def Capping(df,column_name,upper_limit,lower_limit):\n",
    "    df[column_name]=np.where(df[column_name]>upper_limit,upper_limit,df[column_name])\n",
    "    df[column_name]=np.where(df[column_name]<lower_limit,lower_limit,df[column_name])"
   ]
  },
  {
   "cell_type": "code",
   "execution_count": 16,
   "id": "6260762e",
   "metadata": {
    "execution": {
     "iopub.execute_input": "2023-12-16T07:46:44.787386Z",
     "iopub.status.busy": "2023-12-16T07:46:44.786953Z",
     "iopub.status.idle": "2023-12-16T07:46:44.794195Z",
     "shell.execute_reply": "2023-12-16T07:46:44.793105Z"
    },
    "papermill": {
     "duration": 0.028636,
     "end_time": "2023-12-16T07:46:44.796249",
     "exception": false,
     "start_time": "2023-12-16T07:46:44.767613",
     "status": "completed"
    },
    "tags": []
   },
   "outputs": [],
   "source": [
    "Capping(df,'Oldpeak',OldPeak_upper_limit,OldPeak_lower_limit)\n",
    "Capping(df,'Cholesterol',cholesterol_upper_limit,cholesterol_lower_limit)\n"
   ]
  },
  {
   "cell_type": "code",
   "execution_count": 17,
   "id": "b33e96b7",
   "metadata": {
    "execution": {
     "iopub.execute_input": "2023-12-16T07:46:44.834577Z",
     "iopub.status.busy": "2023-12-16T07:46:44.834182Z",
     "iopub.status.idle": "2023-12-16T07:46:44.863920Z",
     "shell.execute_reply": "2023-12-16T07:46:44.862739Z"
    },
    "papermill": {
     "duration": 0.052418,
     "end_time": "2023-12-16T07:46:44.866194",
     "exception": false,
     "start_time": "2023-12-16T07:46:44.813776",
     "status": "completed"
    },
    "tags": []
   },
   "outputs": [
    {
     "data": {
      "text/html": [
       "<div>\n",
       "<style scoped>\n",
       "    .dataframe tbody tr th:only-of-type {\n",
       "        vertical-align: middle;\n",
       "    }\n",
       "\n",
       "    .dataframe tbody tr th {\n",
       "        vertical-align: top;\n",
       "    }\n",
       "\n",
       "    .dataframe thead th {\n",
       "        text-align: right;\n",
       "    }\n",
       "</style>\n",
       "<table border=\"1\" class=\"dataframe\">\n",
       "  <thead>\n",
       "    <tr style=\"text-align: right;\">\n",
       "      <th></th>\n",
       "      <th>Age</th>\n",
       "      <th>RestingBP</th>\n",
       "      <th>Cholesterol</th>\n",
       "      <th>FastingBS</th>\n",
       "      <th>MaxHR</th>\n",
       "      <th>Oldpeak</th>\n",
       "      <th>HeartDisease</th>\n",
       "    </tr>\n",
       "  </thead>\n",
       "  <tbody>\n",
       "    <tr>\n",
       "      <th>count</th>\n",
       "      <td>918.000000</td>\n",
       "      <td>918.000000</td>\n",
       "      <td>918.000000</td>\n",
       "      <td>918.000000</td>\n",
       "      <td>918.000000</td>\n",
       "      <td>918.000000</td>\n",
       "      <td>918.000000</td>\n",
       "    </tr>\n",
       "    <tr>\n",
       "      <th>mean</th>\n",
       "      <td>53.510893</td>\n",
       "      <td>132.396514</td>\n",
       "      <td>198.674135</td>\n",
       "      <td>0.233115</td>\n",
       "      <td>136.809368</td>\n",
       "      <td>0.882146</td>\n",
       "      <td>0.553377</td>\n",
       "    </tr>\n",
       "    <tr>\n",
       "      <th>std</th>\n",
       "      <td>9.432617</td>\n",
       "      <td>18.514154</td>\n",
       "      <td>108.970903</td>\n",
       "      <td>0.423046</td>\n",
       "      <td>25.460334</td>\n",
       "      <td>1.044799</td>\n",
       "      <td>0.497414</td>\n",
       "    </tr>\n",
       "    <tr>\n",
       "      <th>min</th>\n",
       "      <td>28.000000</td>\n",
       "      <td>0.000000</td>\n",
       "      <td>0.000000</td>\n",
       "      <td>0.000000</td>\n",
       "      <td>60.000000</td>\n",
       "      <td>-2.312347</td>\n",
       "      <td>0.000000</td>\n",
       "    </tr>\n",
       "    <tr>\n",
       "      <th>25%</th>\n",
       "      <td>47.000000</td>\n",
       "      <td>120.000000</td>\n",
       "      <td>173.250000</td>\n",
       "      <td>0.000000</td>\n",
       "      <td>120.000000</td>\n",
       "      <td>0.000000</td>\n",
       "      <td>0.000000</td>\n",
       "    </tr>\n",
       "    <tr>\n",
       "      <th>50%</th>\n",
       "      <td>54.000000</td>\n",
       "      <td>130.000000</td>\n",
       "      <td>223.000000</td>\n",
       "      <td>0.000000</td>\n",
       "      <td>138.000000</td>\n",
       "      <td>0.600000</td>\n",
       "      <td>1.000000</td>\n",
       "    </tr>\n",
       "    <tr>\n",
       "      <th>75%</th>\n",
       "      <td>60.000000</td>\n",
       "      <td>140.000000</td>\n",
       "      <td>267.000000</td>\n",
       "      <td>0.000000</td>\n",
       "      <td>156.000000</td>\n",
       "      <td>1.500000</td>\n",
       "      <td>1.000000</td>\n",
       "    </tr>\n",
       "    <tr>\n",
       "      <th>max</th>\n",
       "      <td>77.000000</td>\n",
       "      <td>200.000000</td>\n",
       "      <td>526.951998</td>\n",
       "      <td>1.000000</td>\n",
       "      <td>202.000000</td>\n",
       "      <td>4.087074</td>\n",
       "      <td>1.000000</td>\n",
       "    </tr>\n",
       "  </tbody>\n",
       "</table>\n",
       "</div>"
      ],
      "text/plain": [
       "              Age   RestingBP  Cholesterol   FastingBS       MaxHR  \\\n",
       "count  918.000000  918.000000   918.000000  918.000000  918.000000   \n",
       "mean    53.510893  132.396514   198.674135    0.233115  136.809368   \n",
       "std      9.432617   18.514154   108.970903    0.423046   25.460334   \n",
       "min     28.000000    0.000000     0.000000    0.000000   60.000000   \n",
       "25%     47.000000  120.000000   173.250000    0.000000  120.000000   \n",
       "50%     54.000000  130.000000   223.000000    0.000000  138.000000   \n",
       "75%     60.000000  140.000000   267.000000    0.000000  156.000000   \n",
       "max     77.000000  200.000000   526.951998    1.000000  202.000000   \n",
       "\n",
       "          Oldpeak  HeartDisease  \n",
       "count  918.000000    918.000000  \n",
       "mean     0.882146      0.553377  \n",
       "std      1.044799      0.497414  \n",
       "min     -2.312347      0.000000  \n",
       "25%      0.000000      0.000000  \n",
       "50%      0.600000      1.000000  \n",
       "75%      1.500000      1.000000  \n",
       "max      4.087074      1.000000  "
      ]
     },
     "execution_count": 17,
     "metadata": {},
     "output_type": "execute_result"
    }
   ],
   "source": [
    "df.describe()"
   ]
  },
  {
   "cell_type": "markdown",
   "id": "f8b200f2",
   "metadata": {
    "papermill": {
     "duration": 0.017559,
     "end_time": "2023-12-16T07:46:44.901638",
     "exception": false,
     "start_time": "2023-12-16T07:46:44.884079",
     "status": "completed"
    },
    "tags": []
   },
   "source": [
    "The application of capping has effectively reduced the maximum values of Cholesterol to 526 and OldPeak to 4.08, compared to their initial values of 603 and 6.2, respectively. \n",
    "So we have succesfully handled the outliers "
   ]
  },
  {
   "cell_type": "markdown",
   "id": "ca15688f",
   "metadata": {
    "papermill": {
     "duration": 0.017805,
     "end_time": "2023-12-16T07:46:44.937235",
     "exception": false,
     "start_time": "2023-12-16T07:46:44.919430",
     "status": "completed"
    },
    "tags": []
   },
   "source": [
    "SO we have successfully handled the outliers"
   ]
  },
  {
   "cell_type": "markdown",
   "id": "ba7df9ab",
   "metadata": {
    "papermill": {
     "duration": 0.017605,
     "end_time": "2023-12-16T07:46:44.972734",
     "exception": false,
     "start_time": "2023-12-16T07:46:44.955129",
     "status": "completed"
    },
    "tags": []
   },
   "source": [
    "# EDA\n",
    "EDA stands for Exploratory Data Analysis. It is a critical phase in the data analysis process, particularly in the context of machine learning. The primary goal of EDA is to summarize the main characteristics of a dataset, often employing statistical and graphical methods. In simple words we perform EDA to understand the data in more depth "
   ]
  },
  {
   "cell_type": "code",
   "execution_count": 18,
   "id": "75eee6ff",
   "metadata": {
    "execution": {
     "iopub.execute_input": "2023-12-16T07:46:45.010358Z",
     "iopub.status.busy": "2023-12-16T07:46:45.009946Z",
     "iopub.status.idle": "2023-12-16T07:46:45.015175Z",
     "shell.execute_reply": "2023-12-16T07:46:45.014088Z"
    },
    "papermill": {
     "duration": 0.026696,
     "end_time": "2023-12-16T07:46:45.017231",
     "exception": false,
     "start_time": "2023-12-16T07:46:44.990535",
     "status": "completed"
    },
    "tags": []
   },
   "outputs": [],
   "source": [
    "import matplotlib.pyplot as plt\n",
    "import seaborn as sns"
   ]
  },
  {
   "cell_type": "code",
   "execution_count": 19,
   "id": "c1e8e500",
   "metadata": {
    "execution": {
     "iopub.execute_input": "2023-12-16T07:46:45.056378Z",
     "iopub.status.busy": "2023-12-16T07:46:45.055968Z",
     "iopub.status.idle": "2023-12-16T07:46:45.744974Z",
     "shell.execute_reply": "2023-12-16T07:46:45.743826Z"
    },
    "papermill": {
     "duration": 0.712052,
     "end_time": "2023-12-16T07:46:45.747846",
     "exception": false,
     "start_time": "2023-12-16T07:46:45.035794",
     "status": "completed"
    },
    "tags": []
   },
   "outputs": [
    {
     "data": {
      "text/plain": [
       "Text(0.5, 1.0, 'Age scatter plot')"
      ]
     },
     "execution_count": 19,
     "metadata": {},
     "output_type": "execute_result"
    },
    {
     "data": {
      "image/png": "[encoded data removed]",
      "text/plain": [
       "<Figure size 1600x600 with 2 Axes>"
      ]
     },
     "metadata": {},
     "output_type": "display_data"
    }
   ],
   "source": [
    "fig, axes = plt.subplots(nrows=1, ncols=2, figsize=(16, 6))   # this is to create 2*2 grid \n",
    "\n",
    "#density plot for Age column \n",
    "sns.histplot(df['Age'],kde=True,stat=\"density\",ax=axes[0])\n",
    "axes[0].set_title('PDF of Age')\n",
    "\n",
    "sns.scatterplot(df[\"Age\"],ax=axes[1])\n",
    "axes[1].set_title('Age scatter plot')"
   ]
  },
  {
   "cell_type": "markdown",
   "id": "ca09717c",
   "metadata": {
    "papermill": {
     "duration": 0.019189,
     "end_time": "2023-12-16T07:46:45.786940",
     "exception": false,
     "start_time": "2023-12-16T07:46:45.767751",
     "status": "completed"
    },
    "tags": []
   },
   "source": [
    "**Obseravtions**: Age column is almost normally distributed "
   ]
  },
  {
   "cell_type": "code",
   "execution_count": 20,
   "id": "5f465563",
   "metadata": {
    "execution": {
     "iopub.execute_input": "2023-12-16T07:46:45.828899Z",
     "iopub.status.busy": "2023-12-16T07:46:45.828198Z",
     "iopub.status.idle": "2023-12-16T07:46:46.333246Z",
     "shell.execute_reply": "2023-12-16T07:46:46.332369Z"
    },
    "papermill": {
     "duration": 0.529231,
     "end_time": "2023-12-16T07:46:46.335538",
     "exception": false,
     "start_time": "2023-12-16T07:46:45.806307",
     "status": "completed"
    },
    "tags": []
   },
   "outputs": [
    {
     "data": {
      "text/plain": [
       "Text(0.5, 1.0, 'comapriosn between sex and Disease')"
      ]
     },
     "execution_count": 20,
     "metadata": {},
     "output_type": "execute_result"
    },
    {
     "data": {
      "image/png": "[encoded data removed]",
      "text/plain": [
       "<Figure size 1600x600 with 2 Axes>"
      ]
     },
     "metadata": {},
     "output_type": "display_data"
    }
   ],
   "source": [
    "fig, axes = plt.subplots(nrows=1, ncols=2, figsize=(16, 6))\n",
    "sns.histplot(df['Sex'],ax=axes[0])\n",
    "axes[0].set_title('histogram of sex')\n",
    "\n",
    "sns.countplot(df,x=df['Sex'],hue='HeartDisease')\n",
    "axes[1].set_title('comapriosn between sex and Disease')"
   ]
  },
  {
   "cell_type": "markdown",
   "id": "a0b3cb0c",
   "metadata": {
    "papermill": {
     "duration": 0.023265,
     "end_time": "2023-12-16T07:46:46.379834",
     "exception": false,
     "start_time": "2023-12-16T07:46:46.356569",
     "status": "completed"
    },
    "tags": []
   },
   "source": [
    "**Obervations-**\n",
    "1. Our data contains more observations for males than females.\n",
    "2. Males exhibit a higher prevalence of heart disease compared to females.\n"
   ]
  },
  {
   "cell_type": "code",
   "execution_count": 21,
   "id": "d2323d3b",
   "metadata": {
    "execution": {
     "iopub.execute_input": "2023-12-16T07:46:46.423426Z",
     "iopub.status.busy": "2023-12-16T07:46:46.422565Z",
     "iopub.status.idle": "2023-12-16T07:46:47.467755Z",
     "shell.execute_reply": "2023-12-16T07:46:47.466521Z"
    },
    "papermill": {
     "duration": 1.070253,
     "end_time": "2023-12-16T07:46:47.470566",
     "exception": false,
     "start_time": "2023-12-16T07:46:46.400313",
     "status": "completed"
    },
    "tags": []
   },
   "outputs": [
    {
     "data": {
      "text/plain": [
       "Text(0.5, 1.0, 'ST Slope and HeartDisease ')"
      ]
     },
     "execution_count": 21,
     "metadata": {},
     "output_type": "execute_result"
    },
    {
     "data": {
      "image/png": "[encoded data removed]",
      "text/plain": [
       "<Figure size 1400x1000 with 4 Axes>"
      ]
     },
     "metadata": {},
     "output_type": "display_data"
    }
   ],
   "source": [
    "fig, axes = plt.subplots(nrows=2, ncols=2, figsize=(14,10))\n",
    "\n",
    "sns.countplot(df,x=df['ChestPainType'],hue='HeartDisease',ax=axes[0,0])\n",
    "axes[0,0].set_title('Chest Pain and HeartDisease')\n",
    "\n",
    "sns.countplot(df,x=df['RestingECG'],hue='HeartDisease',ax=axes[0,1])\n",
    "axes[0,1].set_title('RestingECG and HeartDisease ')\n",
    "\n",
    "\n",
    "sns.countplot(df,x=df['ExerciseAngina'],hue='HeartDisease',ax=axes[1,0])\n",
    "axes[1,0].set_title('ExerciseAngina and HeartDisease ')\n",
    "\n",
    "\n",
    "sns.countplot(df,x=df['ExerciseAngina'],hue='HeartDisease',ax=axes[1,0])\n",
    "axes[1,0].set_title('ExerciseAngina and HeartDisease ')\n",
    "\n",
    "sns.countplot(df,x=df['ST_Slope'],hue='HeartDisease',ax=axes[1,1])\n",
    "axes[1,1].set_title('ST Slope and HeartDisease ')"
   ]
  },
  {
   "cell_type": "markdown",
   "id": "9dbb17ce",
   "metadata": {
    "papermill": {
     "duration": 0.02094,
     "end_time": "2023-12-16T07:46:47.512896",
     "exception": false,
     "start_time": "2023-12-16T07:46:47.491956",
     "status": "completed"
    },
    "tags": []
   },
   "source": [
    "**obervations:**\n",
    "1. ASY (Asymptomatic), indicating the absence of chest pain symptoms, is the leading cause of heart disease. This is concerning as individuals with no symptoms may neglect necessary precautions.\n",
    "2. People who have exercise Angina have more chances of heart Disease\n",
    "3. People with Flat ST Slope have high chances of Heart disease"
   ]
  },
  {
   "cell_type": "code",
   "execution_count": 22,
   "id": "24484ae1",
   "metadata": {
    "execution": {
     "iopub.execute_input": "2023-12-16T07:46:47.556780Z",
     "iopub.status.busy": "2023-12-16T07:46:47.556404Z",
     "iopub.status.idle": "2023-12-16T07:46:47.961504Z",
     "shell.execute_reply": "2023-12-16T07:46:47.960366Z"
    },
    "papermill": {
     "duration": 0.430503,
     "end_time": "2023-12-16T07:46:47.964525",
     "exception": false,
     "start_time": "2023-12-16T07:46:47.534022",
     "status": "completed"
    },
    "tags": []
   },
   "outputs": [
    {
     "data": {
      "image/png": "[encoded data removed]",
      "text/plain": [
       "<Figure size 640x480 with 2 Axes>"
      ]
     },
     "metadata": {},
     "output_type": "display_data"
    }
   ],
   "source": [
    "sns.heatmap(df[['Age','RestingBP','Cholesterol','FastingBS','MaxHR','Oldpeak','HeartDisease']].corr(), annot=True, cmap='coolwarm', fmt='.2f')\n",
    "plt.show()\n"
   ]
  },
  {
   "cell_type": "markdown",
   "id": "6eef85ae",
   "metadata": {
    "papermill": {
     "duration": 0.023254,
     "end_time": "2023-12-16T07:46:48.010247",
     "exception": false,
     "start_time": "2023-12-16T07:46:47.986993",
     "status": "completed"
    },
    "tags": []
   },
   "source": [
    "### Observations-\n",
    "1. Our data contains more observations for males than females.\n",
    "2. Males exhibit a higher prevalence of heart disease compared to females.\n",
    "\n",
    "3. ASY (Asymptomatic), indicating the absence of chest pain symptoms, is the leading cause of heart disease. This is concerning as individuals with no symptoms may neglect necessary precautions.\n",
    "\n",
    "4. Individuals experiencing exercise-induced Angina are more likely to have heart disease.\n",
    "\n",
    "5. Those with a Flat ST Slope demonstrate an elevated risk of heart disease.\n",
    "\n",
    "6. Cholesterol and MaxHr are negatively correlated with HeartDisease"
   ]
  },
  {
   "cell_type": "raw",
   "id": "18dbcc6f",
   "metadata": {
    "papermill": {
     "duration": 0.022928,
     "end_time": "2023-12-16T07:46:48.056204",
     "exception": false,
     "start_time": "2023-12-16T07:46:48.033276",
     "status": "completed"
    },
    "tags": []
   },
   "source": []
  },
  {
   "cell_type": "markdown",
   "id": "7dacfdda",
   "metadata": {
    "papermill": {
     "duration": 0.022165,
     "end_time": "2023-12-16T07:46:48.100764",
     "exception": false,
     "start_time": "2023-12-16T07:46:48.078599",
     "status": "completed"
    },
    "tags": []
   },
   "source": [
    "# Train test Split"
   ]
  },
  {
   "cell_type": "code",
   "execution_count": 23,
   "id": "004fbf02",
   "metadata": {
    "execution": {
     "iopub.execute_input": "2023-12-16T07:46:48.147186Z",
     "iopub.status.busy": "2023-12-16T07:46:48.146777Z",
     "iopub.status.idle": "2023-12-16T07:46:48.152304Z",
     "shell.execute_reply": "2023-12-16T07:46:48.151124Z"
    },
    "papermill": {
     "duration": 0.031563,
     "end_time": "2023-12-16T07:46:48.154493",
     "exception": false,
     "start_time": "2023-12-16T07:46:48.122930",
     "status": "completed"
    },
    "tags": []
   },
   "outputs": [],
   "source": [
    "X=df.iloc[:,:-1]\n",
    "Y=df.iloc[:,-1]"
   ]
  },
  {
   "cell_type": "code",
   "execution_count": 24,
   "id": "edaba391",
   "metadata": {
    "execution": {
     "iopub.execute_input": "2023-12-16T07:46:48.201081Z",
     "iopub.status.busy": "2023-12-16T07:46:48.200705Z",
     "iopub.status.idle": "2023-12-16T07:46:48.512305Z",
     "shell.execute_reply": "2023-12-16T07:46:48.511105Z"
    },
    "papermill": {
     "duration": 0.338115,
     "end_time": "2023-12-16T07:46:48.514958",
     "exception": false,
     "start_time": "2023-12-16T07:46:48.176843",
     "status": "completed"
    },
    "tags": []
   },
   "outputs": [],
   "source": [
    "from sklearn.model_selection import train_test_split\n",
    "x_train,x_test,y_train,y_test =train_test_split(X,Y,test_size=0.2,random_state=42)\n"
   ]
  },
  {
   "cell_type": "code",
   "execution_count": 25,
   "id": "14e1bcab",
   "metadata": {
    "execution": {
     "iopub.execute_input": "2023-12-16T07:46:48.562665Z",
     "iopub.status.busy": "2023-12-16T07:46:48.562271Z",
     "iopub.status.idle": "2023-12-16T07:46:48.568018Z",
     "shell.execute_reply": "2023-12-16T07:46:48.567199Z"
    },
    "papermill": {
     "duration": 0.032638,
     "end_time": "2023-12-16T07:46:48.570014",
     "exception": false,
     "start_time": "2023-12-16T07:46:48.537376",
     "status": "completed"
    },
    "tags": []
   },
   "outputs": [
    {
     "data": {
      "text/plain": [
       "(184, 11)"
      ]
     },
     "execution_count": 25,
     "metadata": {},
     "output_type": "execute_result"
    }
   ],
   "source": [
    "x_test.shape"
   ]
  },
  {
   "cell_type": "code",
   "execution_count": 26,
   "id": "f6e7bdcd",
   "metadata": {
    "execution": {
     "iopub.execute_input": "2023-12-16T07:46:48.618339Z",
     "iopub.status.busy": "2023-12-16T07:46:48.617315Z",
     "iopub.status.idle": "2023-12-16T07:46:48.624412Z",
     "shell.execute_reply": "2023-12-16T07:46:48.623000Z"
    },
    "papermill": {
     "duration": 0.033379,
     "end_time": "2023-12-16T07:46:48.626420",
     "exception": false,
     "start_time": "2023-12-16T07:46:48.593041",
     "status": "completed"
    },
    "tags": []
   },
   "outputs": [
    {
     "data": {
      "text/plain": [
       "(734, 11)"
      ]
     },
     "execution_count": 26,
     "metadata": {},
     "output_type": "execute_result"
    }
   ],
   "source": [
    "x_train.shape"
   ]
  },
  {
   "cell_type": "markdown",
   "id": "832b1a23",
   "metadata": {
    "papermill": {
     "duration": 0.022662,
     "end_time": "2023-12-16T07:46:48.671744",
     "exception": false,
     "start_time": "2023-12-16T07:46:48.649082",
     "status": "completed"
    },
    "tags": []
   },
   "source": [
    "# Building Pipeline\n",
    "**Machine learning pipelines** are a set of processes and workflows that facilitate the end-to-end development and deployment of machine learning models. These pipelines help streamline and automate various steps involved in the machine learning lifecycle, from data preparation and feature engineering to model training, evaluation, and deployment\n"
   ]
  },
  {
   "cell_type": "code",
   "execution_count": 27,
   "id": "1b04a4bd",
   "metadata": {
    "execution": {
     "iopub.execute_input": "2023-12-16T07:46:48.722908Z",
     "iopub.status.busy": "2023-12-16T07:46:48.721243Z",
     "iopub.status.idle": "2023-12-16T07:46:48.736508Z",
     "shell.execute_reply": "2023-12-16T07:46:48.735430Z"
    },
    "papermill": {
     "duration": 0.044698,
     "end_time": "2023-12-16T07:46:48.739033",
     "exception": false,
     "start_time": "2023-12-16T07:46:48.694335",
     "status": "completed"
    },
    "tags": []
   },
   "outputs": [],
   "source": [
    "from sklearn.preprocessing import OneHotEncoder\n",
    "from sklearn.preprocessing import FunctionTransformer\n",
    "from sklearn.compose import ColumnTransformer\n",
    "from sklearn.pipeline import Pipeline\n",
    "from sklearn.preprocessing import MinMaxScaler"
   ]
  },
  {
   "cell_type": "markdown",
   "id": "57782f70",
   "metadata": {
    "papermill": {
     "duration": 0.02242,
     "end_time": "2023-12-16T07:46:48.786760",
     "exception": false,
     "start_time": "2023-12-16T07:46:48.764340",
     "status": "completed"
    },
    "tags": []
   },
   "source": [
    "# OHE\n",
    "**OHE**-One-hot encoding is a technique used in machine learning to represent categorical variables as binary vectors. In simpler terms, it's a way to turn categories or labels into numbers that can be used as input to train a machine learning model.\n",
    "\n",
    "**Column transformers** are used to apply multiple transformation together "
   ]
  },
  {
   "cell_type": "code",
   "execution_count": 28,
   "id": "c396a6c6",
   "metadata": {
    "execution": {
     "iopub.execute_input": "2023-12-16T07:46:48.834930Z",
     "iopub.status.busy": "2023-12-16T07:46:48.834531Z",
     "iopub.status.idle": "2023-12-16T07:46:48.839466Z",
     "shell.execute_reply": "2023-12-16T07:46:48.838669Z"
    },
    "papermill": {
     "duration": 0.031749,
     "end_time": "2023-12-16T07:46:48.841222",
     "exception": false,
     "start_time": "2023-12-16T07:46:48.809473",
     "status": "completed"
    },
    "tags": []
   },
   "outputs": [],
   "source": [
    "transformer1= ColumnTransformer(\n",
    "    transformers=[\n",
    "        ('tnf1', OneHotEncoder(), ['Sex','ChestPainType', 'RestingECG', 'ExerciseAngina', 'ST_Slope'])\n",
    "    ],\n",
    "    remainder='passthrough'\n",
    ")\n",
    "\n"
   ]
  },
  {
   "cell_type": "code",
   "execution_count": 29,
   "id": "163ca8cb",
   "metadata": {
    "execution": {
     "iopub.execute_input": "2023-12-16T07:46:48.888531Z",
     "iopub.status.busy": "2023-12-16T07:46:48.887914Z",
     "iopub.status.idle": "2023-12-16T07:46:48.892596Z",
     "shell.execute_reply": "2023-12-16T07:46:48.891851Z"
    },
    "papermill": {
     "duration": 0.030947,
     "end_time": "2023-12-16T07:46:48.894677",
     "exception": false,
     "start_time": "2023-12-16T07:46:48.863730",
     "status": "completed"
    },
    "tags": []
   },
   "outputs": [],
   "source": [
    "transformer2 = ColumnTransformer(\n",
    "    transformers=[\n",
    "        ('scale', MinMaxScaler(), [0,3,4,7]),\n",
    "    ],\n",
    "    remainder='passthrough'\n",
    ")\n"
   ]
  },
  {
   "cell_type": "code",
   "execution_count": 30,
   "id": "8d185a69",
   "metadata": {
    "execution": {
     "iopub.execute_input": "2023-12-16T07:46:48.941943Z",
     "iopub.status.busy": "2023-12-16T07:46:48.941254Z",
     "iopub.status.idle": "2023-12-16T07:46:48.945480Z",
     "shell.execute_reply": "2023-12-16T07:46:48.944738Z"
    },
    "papermill": {
     "duration": 0.030485,
     "end_time": "2023-12-16T07:46:48.947735",
     "exception": false,
     "start_time": "2023-12-16T07:46:48.917250",
     "status": "completed"
    },
    "tags": []
   },
   "outputs": [],
   "source": [
    "pipe=Pipeline([\n",
    "    ('trf1',transformer1),\n",
    "    ('trf2',transformer2)\n",
    "])"
   ]
  },
  {
   "cell_type": "code",
   "execution_count": 31,
   "id": "c4ddb109",
   "metadata": {
    "execution": {
     "iopub.execute_input": "2023-12-16T07:46:48.994713Z",
     "iopub.status.busy": "2023-12-16T07:46:48.994023Z",
     "iopub.status.idle": "2023-12-16T07:46:49.015838Z",
     "shell.execute_reply": "2023-12-16T07:46:49.014834Z"
    },
    "papermill": {
     "duration": 0.048092,
     "end_time": "2023-12-16T07:46:49.018406",
     "exception": false,
     "start_time": "2023-12-16T07:46:48.970314",
     "status": "completed"
    },
    "tags": []
   },
   "outputs": [],
   "source": [
    "x_train_processed=pipe.fit_transform(x_train)\n",
    "x_test_processed=pipe.transform(x_test)"
   ]
  },
  {
   "cell_type": "code",
   "execution_count": 32,
   "id": "a849b352",
   "metadata": {
    "execution": {
     "iopub.execute_input": "2023-12-16T07:46:49.065438Z",
     "iopub.status.busy": "2023-12-16T07:46:49.065067Z",
     "iopub.status.idle": "2023-12-16T07:46:49.071495Z",
     "shell.execute_reply": "2023-12-16T07:46:49.070295Z"
    },
    "papermill": {
     "duration": 0.032783,
     "end_time": "2023-12-16T07:46:49.073711",
     "exception": false,
     "start_time": "2023-12-16T07:46:49.040928",
     "status": "completed"
    },
    "tags": []
   },
   "outputs": [
    {
     "data": {
      "text/plain": [
       "(734, 20)"
      ]
     },
     "execution_count": 32,
     "metadata": {},
     "output_type": "execute_result"
    }
   ],
   "source": [
    "x_train_processed.shape"
   ]
  },
  {
   "cell_type": "code",
   "execution_count": 33,
   "id": "27d75217",
   "metadata": {
    "execution": {
     "iopub.execute_input": "2023-12-16T07:46:49.121070Z",
     "iopub.status.busy": "2023-12-16T07:46:49.120688Z",
     "iopub.status.idle": "2023-12-16T07:46:49.126516Z",
     "shell.execute_reply": "2023-12-16T07:46:49.125485Z"
    },
    "papermill": {
     "duration": 0.032389,
     "end_time": "2023-12-16T07:46:49.128986",
     "exception": false,
     "start_time": "2023-12-16T07:46:49.096597",
     "status": "completed"
    },
    "tags": []
   },
   "outputs": [
    {
     "name": "stdout",
     "output_type": "stream",
     "text": [
      "['tnf1__Sex_F' 'tnf1__Sex_M' 'tnf1__ChestPainType_ASY'\n",
      " 'tnf1__ChestPainType_ATA' 'tnf1__ChestPainType_NAP'\n",
      " 'tnf1__ChestPainType_TA' 'tnf1__RestingECG_LVH' 'tnf1__RestingECG_Normal'\n",
      " 'tnf1__RestingECG_ST' 'tnf1__ExerciseAngina_N' 'tnf1__ExerciseAngina_Y'\n",
      " 'tnf1__ST_Slope_Down' 'tnf1__ST_Slope_Flat' 'tnf1__ST_Slope_Up'\n",
      " 'remainder__Age' 'remainder__RestingBP' 'remainder__Cholesterol'\n",
      " 'remainder__FastingBS' 'remainder__MaxHR' 'remainder__Oldpeak']\n"
     ]
    }
   ],
   "source": [
    "ohe_transformer = pipe.named_steps['trf1']\n",
    "ohe_feature_names = ohe_transformer.get_feature_names_out()\n",
    "print(ohe_feature_names)"
   ]
  },
  {
   "cell_type": "markdown",
   "id": "19b70748",
   "metadata": {
    "papermill": {
     "duration": 0.022571,
     "end_time": "2023-12-16T07:46:49.174717",
     "exception": false,
     "start_time": "2023-12-16T07:46:49.152146",
     "status": "completed"
    },
    "tags": []
   },
   "source": [
    "⬆️ these are new fetures after one hot encoding and feature scalling"
   ]
  },
  {
   "cell_type": "markdown",
   "id": "811c46a5",
   "metadata": {
    "papermill": {
     "duration": 0.022467,
     "end_time": "2023-12-16T07:46:49.220222",
     "exception": false,
     "start_time": "2023-12-16T07:46:49.197755",
     "status": "completed"
    },
    "tags": []
   },
   "source": [
    "# Model Building"
   ]
  },
  {
   "cell_type": "code",
   "execution_count": 34,
   "id": "2d6553fa",
   "metadata": {
    "execution": {
     "iopub.execute_input": "2023-12-16T07:46:49.267373Z",
     "iopub.status.busy": "2023-12-16T07:46:49.267005Z",
     "iopub.status.idle": "2023-12-16T07:46:49.272475Z",
     "shell.execute_reply": "2023-12-16T07:46:49.271724Z"
    },
    "papermill": {
     "duration": 0.031553,
     "end_time": "2023-12-16T07:46:49.274532",
     "exception": false,
     "start_time": "2023-12-16T07:46:49.242979",
     "status": "completed"
    },
    "tags": []
   },
   "outputs": [],
   "source": [
    "# you have to provide object of your machine learning classifier and this function will return the accuracy , precsion and recall of the model\n",
    "def Tester(model):\n",
    "    model.fit(x_train_processed,y_train)\n",
    "    pred=model.predict(x_test_processed)\n",
    "    a=accuracy_score(y_test,pred)\n",
    "    p=precision_score(y_test,pred)\n",
    "    r=recall_score(y_test,pred)\n",
    "    d={'model_name': str(model),'training_accuracy':a,'Training_precision': p,'Trainig_recall': r}\n",
    "    return d"
   ]
  },
  {
   "cell_type": "code",
   "execution_count": 35,
   "id": "9de4df9d",
   "metadata": {
    "execution": {
     "iopub.execute_input": "2023-12-16T07:46:49.322212Z",
     "iopub.status.busy": "2023-12-16T07:46:49.321535Z",
     "iopub.status.idle": "2023-12-16T07:46:49.713291Z",
     "shell.execute_reply": "2023-12-16T07:46:49.712205Z"
    },
    "papermill": {
     "duration": 0.418625,
     "end_time": "2023-12-16T07:46:49.715939",
     "exception": false,
     "start_time": "2023-12-16T07:46:49.297314",
     "status": "completed"
    },
    "tags": []
   },
   "outputs": [],
   "source": [
    "# importing multiple algorithms\n",
    "from sklearn.linear_model import LogisticRegression\n",
    "from sklearn.tree import DecisionTreeClassifier\n",
    "from  sklearn.ensemble import RandomForestClassifier ,VotingClassifier,AdaBoostClassifier,StackingClassifier,GradientBoostingClassifier\n",
    "from sklearn.neighbors import KNeighborsClassifier\n",
    "from sklearn.svm import SVC\n",
    "from sklearn.naive_bayes import GaussianNB,BernoulliNB\n",
    "from sklearn.metrics import accuracy_score,precision_score,recall_score\n"
   ]
  },
  {
   "cell_type": "code",
   "execution_count": 36,
   "id": "0ecc5dad",
   "metadata": {
    "execution": {
     "iopub.execute_input": "2023-12-16T07:46:49.763670Z",
     "iopub.status.busy": "2023-12-16T07:46:49.763274Z",
     "iopub.status.idle": "2023-12-16T07:46:49.771655Z",
     "shell.execute_reply": "2023-12-16T07:46:49.770513Z"
    },
    "papermill": {
     "duration": 0.034915,
     "end_time": "2023-12-16T07:46:49.773851",
     "exception": false,
     "start_time": "2023-12-16T07:46:49.738936",
     "status": "completed"
    },
    "tags": []
   },
   "outputs": [],
   "source": [
    "# create objects of all the models with suitable hyper parameters which we got by using grid search cv\n",
    "logistic=LogisticRegression(max_iter=100,penalty='l2',solver= 'lbfgs',tol= 0.0001)\n",
    "DT=DecisionTreeClassifier(criterion='log_loss',max_depth=5,min_samples_leaf=2,min_samples_split=2,splitter='random')\n",
    "randomforest=RandomForestClassifier(n_estimators=15,min_samples_split=2,min_samples_leaf=3,max_features='sqrt',max_depth=None,criterion='entropy',bootstrap=False)\n",
    "svcclf=SVC()\n",
    "GNB=GaussianNB()\n",
    "BNB=BernoulliNB()\n",
    "votingclf=VotingClassifier(estimators=[('logistic',logistic),('DT',DT),('svcclf',svcclf),('GNB',GNB)],voting='hard')\n",
    "adaboostclf=AdaBoostClassifier(algorithm='SAMME.R',learning_rate=0.5,n_estimators=20)\n",
    "stackclf=StackingClassifier(estimators=[('logistic',logistic),('DT',DT),('svcclf',svcclf),('GNB',GNB)],stack_method='predict')\n",
    "gradientboostingclf=GradientBoostingClassifier(criterion='squared_error',learning_rate= 0.1, loss='exponential')\n",
    "\n"
   ]
  },
  {
   "cell_type": "code",
   "execution_count": 37,
   "id": "d875582b",
   "metadata": {
    "execution": {
     "iopub.execute_input": "2023-12-16T07:46:49.822259Z",
     "iopub.status.busy": "2023-12-16T07:46:49.821861Z",
     "iopub.status.idle": "2023-12-16T07:46:50.844041Z",
     "shell.execute_reply": "2023-12-16T07:46:50.842857Z"
    },
    "papermill": {
     "duration": 1.050138,
     "end_time": "2023-12-16T07:46:50.846869",
     "exception": false,
     "start_time": "2023-12-16T07:46:49.796731",
     "status": "completed"
    },
    "tags": []
   },
   "outputs": [
    {
     "name": "stderr",
     "output_type": "stream",
     "text": [
      "/opt/conda/lib/python3.10/site-packages/sklearn/linear_model/_logistic.py:458: ConvergenceWarning: lbfgs failed to converge (status=1):\n",
      "STOP: TOTAL NO. of ITERATIONS REACHED LIMIT.\n",
      "\n",
      "Increase the number of iterations (max_iter) or scale the data as shown in:\n",
      "    https://scikit-learn.org/stable/modules/preprocessing.html\n",
      "Please also refer to the documentation for alternative solver options:\n",
      "    https://scikit-learn.org/stable/modules/linear_model.html#logistic-regression\n",
      "  n_iter_i = _check_optimize_result(\n",
      "/opt/conda/lib/python3.10/site-packages/sklearn/linear_model/_logistic.py:458: ConvergenceWarning: lbfgs failed to converge (status=1):\n",
      "STOP: TOTAL NO. of ITERATIONS REACHED LIMIT.\n",
      "\n",
      "Increase the number of iterations (max_iter) or scale the data as shown in:\n",
      "    https://scikit-learn.org/stable/modules/preprocessing.html\n",
      "Please also refer to the documentation for alternative solver options:\n",
      "    https://scikit-learn.org/stable/modules/linear_model.html#logistic-regression\n",
      "  n_iter_i = _check_optimize_result(\n",
      "/opt/conda/lib/python3.10/site-packages/sklearn/linear_model/_logistic.py:458: ConvergenceWarning: lbfgs failed to converge (status=1):\n",
      "STOP: TOTAL NO. of ITERATIONS REACHED LIMIT.\n",
      "\n",
      "Increase the number of iterations (max_iter) or scale the data as shown in:\n",
      "    https://scikit-learn.org/stable/modules/preprocessing.html\n",
      "Please also refer to the documentation for alternative solver options:\n",
      "    https://scikit-learn.org/stable/modules/linear_model.html#logistic-regression\n",
      "  n_iter_i = _check_optimize_result(\n",
      "/opt/conda/lib/python3.10/site-packages/sklearn/linear_model/_logistic.py:458: ConvergenceWarning: lbfgs failed to converge (status=1):\n",
      "STOP: TOTAL NO. of ITERATIONS REACHED LIMIT.\n",
      "\n",
      "Increase the number of iterations (max_iter) or scale the data as shown in:\n",
      "    https://scikit-learn.org/stable/modules/preprocessing.html\n",
      "Please also refer to the documentation for alternative solver options:\n",
      "    https://scikit-learn.org/stable/modules/linear_model.html#logistic-regression\n",
      "  n_iter_i = _check_optimize_result(\n",
      "/opt/conda/lib/python3.10/site-packages/sklearn/linear_model/_logistic.py:458: ConvergenceWarning: lbfgs failed to converge (status=1):\n",
      "STOP: TOTAL NO. of ITERATIONS REACHED LIMIT.\n",
      "\n",
      "Increase the number of iterations (max_iter) or scale the data as shown in:\n",
      "    https://scikit-learn.org/stable/modules/preprocessing.html\n",
      "Please also refer to the documentation for alternative solver options:\n",
      "    https://scikit-learn.org/stable/modules/linear_model.html#logistic-regression\n",
      "  n_iter_i = _check_optimize_result(\n",
      "/opt/conda/lib/python3.10/site-packages/sklearn/linear_model/_logistic.py:458: ConvergenceWarning: lbfgs failed to converge (status=1):\n",
      "STOP: TOTAL NO. of ITERATIONS REACHED LIMIT.\n",
      "\n",
      "Increase the number of iterations (max_iter) or scale the data as shown in:\n",
      "    https://scikit-learn.org/stable/modules/preprocessing.html\n",
      "Please also refer to the documentation for alternative solver options:\n",
      "    https://scikit-learn.org/stable/modules/linear_model.html#logistic-regression\n",
      "  n_iter_i = _check_optimize_result(\n",
      "/opt/conda/lib/python3.10/site-packages/sklearn/linear_model/_logistic.py:458: ConvergenceWarning: lbfgs failed to converge (status=1):\n",
      "STOP: TOTAL NO. of ITERATIONS REACHED LIMIT.\n",
      "\n",
      "Increase the number of iterations (max_iter) or scale the data as shown in:\n",
      "    https://scikit-learn.org/stable/modules/preprocessing.html\n",
      "Please also refer to the documentation for alternative solver options:\n",
      "    https://scikit-learn.org/stable/modules/linear_model.html#logistic-regression\n",
      "  n_iter_i = _check_optimize_result(\n",
      "/opt/conda/lib/python3.10/site-packages/sklearn/linear_model/_logistic.py:458: ConvergenceWarning: lbfgs failed to converge (status=1):\n",
      "STOP: TOTAL NO. of ITERATIONS REACHED LIMIT.\n",
      "\n",
      "Increase the number of iterations (max_iter) or scale the data as shown in:\n",
      "    https://scikit-learn.org/stable/modules/preprocessing.html\n",
      "Please also refer to the documentation for alternative solver options:\n",
      "    https://scikit-learn.org/stable/modules/linear_model.html#logistic-regression\n",
      "  n_iter_i = _check_optimize_result(\n"
     ]
    }
   ],
   "source": [
    "outputs={\n",
    "    'a':Tester(logistic),\n",
    "    'b':Tester(DT),\n",
    "    'c':Tester(randomforest),\n",
    "    'd':Tester(svcclf),\n",
    "    'e':Tester(GNB),\n",
    "    'g':Tester(BNB),\n",
    "    'h':Tester(votingclf),\n",
    "    'i':Tester(adaboostclf),\n",
    "    'j':Tester(stackclf),\n",
    "    'k':Tester(gradientboostingclf),\n",
    "}"
   ]
  },
  {
   "cell_type": "code",
   "execution_count": 38,
   "id": "27bd7318",
   "metadata": {
    "execution": {
     "iopub.execute_input": "2023-12-16T07:46:50.896353Z",
     "iopub.status.busy": "2023-12-16T07:46:50.895249Z",
     "iopub.status.idle": "2023-12-16T07:46:50.909284Z",
     "shell.execute_reply": "2023-12-16T07:46:50.908103Z"
    },
    "papermill": {
     "duration": 0.041254,
     "end_time": "2023-12-16T07:46:50.911567",
     "exception": false,
     "start_time": "2023-12-16T07:46:50.870313",
     "status": "completed"
    },
    "tags": []
   },
   "outputs": [
    {
     "data": {
      "text/html": [
       "<div>\n",
       "<style scoped>\n",
       "    .dataframe tbody tr th:only-of-type {\n",
       "        vertical-align: middle;\n",
       "    }\n",
       "\n",
       "    .dataframe tbody tr th {\n",
       "        vertical-align: top;\n",
       "    }\n",
       "\n",
       "    .dataframe thead th {\n",
       "        text-align: right;\n",
       "    }\n",
       "</style>\n",
       "<table border=\"1\" class=\"dataframe\">\n",
       "  <thead>\n",
       "    <tr style=\"text-align: right;\">\n",
       "      <th></th>\n",
       "      <th>model_name</th>\n",
       "      <th>training_accuracy</th>\n",
       "      <th>Training_precision</th>\n",
       "      <th>Trainig_recall</th>\n",
       "    </tr>\n",
       "  </thead>\n",
       "  <tbody>\n",
       "    <tr>\n",
       "      <th>0</th>\n",
       "      <td>LogisticRegression()</td>\n",
       "      <td>0.853261</td>\n",
       "      <td>0.900000</td>\n",
       "      <td>0.841121</td>\n",
       "    </tr>\n",
       "    <tr>\n",
       "      <th>1</th>\n",
       "      <td>DecisionTreeClassifier(criterion='log_loss', m...</td>\n",
       "      <td>0.864130</td>\n",
       "      <td>0.901961</td>\n",
       "      <td>0.859813</td>\n",
       "    </tr>\n",
       "    <tr>\n",
       "      <th>2</th>\n",
       "      <td>RandomForestClassifier(bootstrap=False, criter...</td>\n",
       "      <td>0.880435</td>\n",
       "      <td>0.904762</td>\n",
       "      <td>0.887850</td>\n",
       "    </tr>\n",
       "    <tr>\n",
       "      <th>3</th>\n",
       "      <td>SVC()</td>\n",
       "      <td>0.684783</td>\n",
       "      <td>0.757895</td>\n",
       "      <td>0.672897</td>\n",
       "    </tr>\n",
       "    <tr>\n",
       "      <th>4</th>\n",
       "      <td>GaussianNB()</td>\n",
       "      <td>0.869565</td>\n",
       "      <td>0.927835</td>\n",
       "      <td>0.841121</td>\n",
       "    </tr>\n",
       "    <tr>\n",
       "      <th>5</th>\n",
       "      <td>BernoulliNB()</td>\n",
       "      <td>0.858696</td>\n",
       "      <td>0.909091</td>\n",
       "      <td>0.841121</td>\n",
       "    </tr>\n",
       "    <tr>\n",
       "      <th>6</th>\n",
       "      <td>VotingClassifier(estimators=[('logistic', Logi...</td>\n",
       "      <td>0.880435</td>\n",
       "      <td>0.938144</td>\n",
       "      <td>0.850467</td>\n",
       "    </tr>\n",
       "    <tr>\n",
       "      <th>7</th>\n",
       "      <td>AdaBoostClassifier(learning_rate=0.5, n_estima...</td>\n",
       "      <td>0.875000</td>\n",
       "      <td>0.911765</td>\n",
       "      <td>0.869159</td>\n",
       "    </tr>\n",
       "    <tr>\n",
       "      <th>8</th>\n",
       "      <td>StackingClassifier(estimators=[('logistic', Lo...</td>\n",
       "      <td>0.880435</td>\n",
       "      <td>0.904762</td>\n",
       "      <td>0.887850</td>\n",
       "    </tr>\n",
       "    <tr>\n",
       "      <th>9</th>\n",
       "      <td>GradientBoostingClassifier(criterion='squared_...</td>\n",
       "      <td>0.891304</td>\n",
       "      <td>0.914286</td>\n",
       "      <td>0.897196</td>\n",
       "    </tr>\n",
       "  </tbody>\n",
       "</table>\n",
       "</div>"
      ],
      "text/plain": [
       "                                          model_name  training_accuracy  \\\n",
       "0                               LogisticRegression()           0.853261   \n",
       "1  DecisionTreeClassifier(criterion='log_loss', m...           0.864130   \n",
       "2  RandomForestClassifier(bootstrap=False, criter...           0.880435   \n",
       "3                                              SVC()           0.684783   \n",
       "4                                       GaussianNB()           0.869565   \n",
       "5                                      BernoulliNB()           0.858696   \n",
       "6  VotingClassifier(estimators=[('logistic', Logi...           0.880435   \n",
       "7  AdaBoostClassifier(learning_rate=0.5, n_estima...           0.875000   \n",
       "8  StackingClassifier(estimators=[('logistic', Lo...           0.880435   \n",
       "9  GradientBoostingClassifier(criterion='squared_...           0.891304   \n",
       "\n",
       "   Training_precision  Trainig_recall  \n",
       "0            0.900000        0.841121  \n",
       "1            0.901961        0.859813  \n",
       "2            0.904762        0.887850  \n",
       "3            0.757895        0.672897  \n",
       "4            0.927835        0.841121  \n",
       "5            0.909091        0.841121  \n",
       "6            0.938144        0.850467  \n",
       "7            0.911765        0.869159  \n",
       "8            0.904762        0.887850  \n",
       "9            0.914286        0.897196  "
      ]
     },
     "execution_count": 38,
     "metadata": {},
     "output_type": "execute_result"
    }
   ],
   "source": [
    "res=pd.DataFrame(outputs.values())\n",
    "res"
   ]
  },
  {
   "cell_type": "markdown",
   "id": "b86e5e9a",
   "metadata": {
    "papermill": {
     "duration": 0.023318,
     "end_time": "2023-12-16T07:46:50.958616",
     "exception": false,
     "start_time": "2023-12-16T07:46:50.935298",
     "status": "completed"
    },
    "tags": []
   },
   "source": [
    "⬆️ here is the performance of all the models\n",
    "\n",
    "Now we'll see  how i found out optimal parameters for the model.\n",
    "\n",
    "## **Grid Search CV**,:\n",
    "GridSearchCV, is a technique used for hyperparameter tuning in machine learning. It's a method for systematically working through multiple combinations of hyperparameter values to find the best parameters for a model."
   ]
  },
  {
   "cell_type": "code",
   "execution_count": 39,
   "id": "90ee4b0d",
   "metadata": {
    "execution": {
     "iopub.execute_input": "2023-12-16T07:46:51.008107Z",
     "iopub.status.busy": "2023-12-16T07:46:51.006951Z",
     "iopub.status.idle": "2023-12-16T07:46:51.011780Z",
     "shell.execute_reply": "2023-12-16T07:46:51.011037Z"
    },
    "papermill": {
     "duration": 0.031743,
     "end_time": "2023-12-16T07:46:51.013695",
     "exception": false,
     "start_time": "2023-12-16T07:46:50.981952",
     "status": "completed"
    },
    "tags": []
   },
   "outputs": [],
   "source": [
    "from sklearn.model_selection import GridSearchCV , RandomizedSearchCV"
   ]
  },
  {
   "cell_type": "code",
   "execution_count": 40,
   "id": "655cf898",
   "metadata": {
    "execution": {
     "iopub.execute_input": "2023-12-16T07:46:51.064235Z",
     "iopub.status.busy": "2023-12-16T07:46:51.063281Z",
     "iopub.status.idle": "2023-12-16T07:46:55.254990Z",
     "shell.execute_reply": "2023-12-16T07:46:55.253393Z"
    },
    "papermill": {
     "duration": 4.22326,
     "end_time": "2023-12-16T07:46:55.260870",
     "exception": false,
     "start_time": "2023-12-16T07:46:51.037610",
     "status": "completed"
    },
    "tags": []
   },
   "outputs": [
    {
     "name": "stderr",
     "output_type": "stream",
     "text": [
      "/opt/conda/lib/python3.10/site-packages/sklearn/linear_model/_logistic.py:458: ConvergenceWarning: lbfgs failed to converge (status=1):\n",
      "STOP: TOTAL NO. of ITERATIONS REACHED LIMIT.\n",
      "\n",
      "Increase the number of iterations (max_iter) or scale the data as shown in:\n",
      "    https://scikit-learn.org/stable/modules/preprocessing.html\n",
      "Please also refer to the documentation for alternative solver options:\n",
      "    https://scikit-learn.org/stable/modules/linear_model.html#logistic-regression\n",
      "  n_iter_i = _check_optimize_result(\n",
      "/opt/conda/lib/python3.10/site-packages/sklearn/linear_model/_logistic.py:458: ConvergenceWarning: lbfgs failed to converge (status=1):\n",
      "STOP: TOTAL NO. of ITERATIONS REACHED LIMIT.\n",
      "\n",
      "Increase the number of iterations (max_iter) or scale the data as shown in:\n",
      "    https://scikit-learn.org/stable/modules/preprocessing.html\n",
      "Please also refer to the documentation for alternative solver options:\n",
      "    https://scikit-learn.org/stable/modules/linear_model.html#logistic-regression\n",
      "  n_iter_i = _check_optimize_result(\n",
      "/opt/conda/lib/python3.10/site-packages/sklearn/linear_model/_logistic.py:458: ConvergenceWarning: lbfgs failed to converge (status=1):\n",
      "STOP: TOTAL NO. of ITERATIONS REACHED LIMIT.\n",
      "\n",
      "Increase the number of iterations (max_iter) or scale the data as shown in:\n",
      "    https://scikit-learn.org/stable/modules/preprocessing.html\n",
      "Please also refer to the documentation for alternative solver options:\n",
      "    https://scikit-learn.org/stable/modules/linear_model.html#logistic-regression\n",
      "  n_iter_i = _check_optimize_result(\n",
      "/opt/conda/lib/python3.10/site-packages/sklearn/linear_model/_logistic.py:458: ConvergenceWarning: lbfgs failed to converge (status=1):\n",
      "STOP: TOTAL NO. of ITERATIONS REACHED LIMIT.\n",
      "\n",
      "Increase the number of iterations (max_iter) or scale the data as shown in:\n",
      "    https://scikit-learn.org/stable/modules/preprocessing.html\n",
      "Please also refer to the documentation for alternative solver options:\n",
      "    https://scikit-learn.org/stable/modules/linear_model.html#logistic-regression\n",
      "  n_iter_i = _check_optimize_result(\n",
      "/opt/conda/lib/python3.10/site-packages/sklearn/linear_model/_logistic.py:458: ConvergenceWarning: lbfgs failed to converge (status=1):\n",
      "STOP: TOTAL NO. of ITERATIONS REACHED LIMIT.\n",
      "\n",
      "Increase the number of iterations (max_iter) or scale the data as shown in:\n",
      "    https://scikit-learn.org/stable/modules/preprocessing.html\n",
      "Please also refer to the documentation for alternative solver options:\n",
      "    https://scikit-learn.org/stable/modules/linear_model.html#logistic-regression\n",
      "  n_iter_i = _check_optimize_result(\n",
      "/opt/conda/lib/python3.10/site-packages/sklearn/linear_model/_logistic.py:458: ConvergenceWarning: lbfgs failed to converge (status=1):\n",
      "STOP: TOTAL NO. of ITERATIONS REACHED LIMIT.\n",
      "\n",
      "Increase the number of iterations (max_iter) or scale the data as shown in:\n",
      "    https://scikit-learn.org/stable/modules/preprocessing.html\n",
      "Please also refer to the documentation for alternative solver options:\n",
      "    https://scikit-learn.org/stable/modules/linear_model.html#logistic-regression\n",
      "  n_iter_i = _check_optimize_result(\n",
      "/opt/conda/lib/python3.10/site-packages/sklearn/linear_model/_logistic.py:458: ConvergenceWarning: lbfgs failed to converge (status=1):\n",
      "STOP: TOTAL NO. of ITERATIONS REACHED LIMIT.\n",
      "\n",
      "Increase the number of iterations (max_iter) or scale the data as shown in:\n",
      "    https://scikit-learn.org/stable/modules/preprocessing.html\n",
      "Please also refer to the documentation for alternative solver options:\n",
      "    https://scikit-learn.org/stable/modules/linear_model.html#logistic-regression\n",
      "  n_iter_i = _check_optimize_result(\n",
      "/opt/conda/lib/python3.10/site-packages/sklearn/linear_model/_logistic.py:458: ConvergenceWarning: lbfgs failed to converge (status=1):\n",
      "STOP: TOTAL NO. of ITERATIONS REACHED LIMIT.\n",
      "\n",
      "Increase the number of iterations (max_iter) or scale the data as shown in:\n",
      "    https://scikit-learn.org/stable/modules/preprocessing.html\n",
      "Please also refer to the documentation for alternative solver options:\n",
      "    https://scikit-learn.org/stable/modules/linear_model.html#logistic-regression\n",
      "  n_iter_i = _check_optimize_result(\n",
      "/opt/conda/lib/python3.10/site-packages/sklearn/linear_model/_logistic.py:458: ConvergenceWarning: lbfgs failed to converge (status=1):\n",
      "STOP: TOTAL NO. of ITERATIONS REACHED LIMIT.\n",
      "\n",
      "Increase the number of iterations (max_iter) or scale the data as shown in:\n",
      "    https://scikit-learn.org/stable/modules/preprocessing.html\n",
      "Please also refer to the documentation for alternative solver options:\n",
      "    https://scikit-learn.org/stable/modules/linear_model.html#logistic-regression\n",
      "  n_iter_i = _check_optimize_result(\n",
      "/opt/conda/lib/python3.10/site-packages/sklearn/linear_model/_logistic.py:458: ConvergenceWarning: lbfgs failed to converge (status=1):\n",
      "STOP: TOTAL NO. of ITERATIONS REACHED LIMIT.\n",
      "\n",
      "Increase the number of iterations (max_iter) or scale the data as shown in:\n",
      "    https://scikit-learn.org/stable/modules/preprocessing.html\n",
      "Please also refer to the documentation for alternative solver options:\n",
      "    https://scikit-learn.org/stable/modules/linear_model.html#logistic-regression\n",
      "  n_iter_i = _check_optimize_result(\n",
      "/opt/conda/lib/python3.10/site-packages/sklearn/linear_model/_logistic.py:458: ConvergenceWarning: lbfgs failed to converge (status=1):\n",
      "STOP: TOTAL NO. of ITERATIONS REACHED LIMIT.\n",
      "\n",
      "Increase the number of iterations (max_iter) or scale the data as shown in:\n",
      "    https://scikit-learn.org/stable/modules/preprocessing.html\n",
      "Please also refer to the documentation for alternative solver options:\n",
      "    https://scikit-learn.org/stable/modules/linear_model.html#logistic-regression\n",
      "  n_iter_i = _check_optimize_result(\n",
      "/opt/conda/lib/python3.10/site-packages/sklearn/linear_model/_logistic.py:458: ConvergenceWarning: lbfgs failed to converge (status=1):\n",
      "STOP: TOTAL NO. of ITERATIONS REACHED LIMIT.\n",
      "\n",
      "Increase the number of iterations (max_iter) or scale the data as shown in:\n",
      "    https://scikit-learn.org/stable/modules/preprocessing.html\n",
      "Please also refer to the documentation for alternative solver options:\n",
      "    https://scikit-learn.org/stable/modules/linear_model.html#logistic-regression\n",
      "  n_iter_i = _check_optimize_result(\n",
      "/opt/conda/lib/python3.10/site-packages/sklearn/linear_model/_logistic.py:458: ConvergenceWarning: lbfgs failed to converge (status=1):\n",
      "STOP: TOTAL NO. of ITERATIONS REACHED LIMIT.\n",
      "\n",
      "Increase the number of iterations (max_iter) or scale the data as shown in:\n",
      "    https://scikit-learn.org/stable/modules/preprocessing.html\n",
      "Please also refer to the documentation for alternative solver options:\n",
      "    https://scikit-learn.org/stable/modules/linear_model.html#logistic-regression\n",
      "  n_iter_i = _check_optimize_result(\n",
      "/opt/conda/lib/python3.10/site-packages/sklearn/linear_model/_logistic.py:458: ConvergenceWarning: lbfgs failed to converge (status=1):\n",
      "STOP: TOTAL NO. of ITERATIONS REACHED LIMIT.\n",
      "\n",
      "Increase the number of iterations (max_iter) or scale the data as shown in:\n",
      "    https://scikit-learn.org/stable/modules/preprocessing.html\n",
      "Please also refer to the documentation for alternative solver options:\n",
      "    https://scikit-learn.org/stable/modules/linear_model.html#logistic-regression\n",
      "  n_iter_i = _check_optimize_result(\n",
      "/opt/conda/lib/python3.10/site-packages/sklearn/linear_model/_logistic.py:458: ConvergenceWarning: lbfgs failed to converge (status=1):\n",
      "STOP: TOTAL NO. of ITERATIONS REACHED LIMIT.\n",
      "\n",
      "Increase the number of iterations (max_iter) or scale the data as shown in:\n",
      "    https://scikit-learn.org/stable/modules/preprocessing.html\n",
      "Please also refer to the documentation for alternative solver options:\n",
      "    https://scikit-learn.org/stable/modules/linear_model.html#logistic-regression\n",
      "  n_iter_i = _check_optimize_result(\n",
      "/opt/conda/lib/python3.10/site-packages/sklearn/linear_model/_logistic.py:458: ConvergenceWarning: lbfgs failed to converge (status=1):\n",
      "STOP: TOTAL NO. of ITERATIONS REACHED LIMIT.\n",
      "\n",
      "Increase the number of iterations (max_iter) or scale the data as shown in:\n",
      "    https://scikit-learn.org/stable/modules/preprocessing.html\n",
      "Please also refer to the documentation for alternative solver options:\n",
      "    https://scikit-learn.org/stable/modules/linear_model.html#logistic-regression\n",
      "  n_iter_i = _check_optimize_result(\n",
      "/opt/conda/lib/python3.10/site-packages/sklearn/linear_model/_logistic.py:458: ConvergenceWarning: lbfgs failed to converge (status=1):\n",
      "STOP: TOTAL NO. of ITERATIONS REACHED LIMIT.\n",
      "\n",
      "Increase the number of iterations (max_iter) or scale the data as shown in:\n",
      "    https://scikit-learn.org/stable/modules/preprocessing.html\n",
      "Please also refer to the documentation for alternative solver options:\n",
      "    https://scikit-learn.org/stable/modules/linear_model.html#logistic-regression\n",
      "  n_iter_i = _check_optimize_result(\n",
      "/opt/conda/lib/python3.10/site-packages/sklearn/linear_model/_logistic.py:458: ConvergenceWarning: lbfgs failed to converge (status=1):\n",
      "STOP: TOTAL NO. of ITERATIONS REACHED LIMIT.\n",
      "\n",
      "Increase the number of iterations (max_iter) or scale the data as shown in:\n",
      "    https://scikit-learn.org/stable/modules/preprocessing.html\n",
      "Please also refer to the documentation for alternative solver options:\n",
      "    https://scikit-learn.org/stable/modules/linear_model.html#logistic-regression\n",
      "  n_iter_i = _check_optimize_result(\n",
      "/opt/conda/lib/python3.10/site-packages/sklearn/linear_model/_logistic.py:458: ConvergenceWarning: lbfgs failed to converge (status=1):\n",
      "STOP: TOTAL NO. of ITERATIONS REACHED LIMIT.\n",
      "\n",
      "Increase the number of iterations (max_iter) or scale the data as shown in:\n",
      "    https://scikit-learn.org/stable/modules/preprocessing.html\n",
      "Please also refer to the documentation for alternative solver options:\n",
      "    https://scikit-learn.org/stable/modules/linear_model.html#logistic-regression\n",
      "  n_iter_i = _check_optimize_result(\n",
      "/opt/conda/lib/python3.10/site-packages/sklearn/linear_model/_logistic.py:458: ConvergenceWarning: lbfgs failed to converge (status=1):\n",
      "STOP: TOTAL NO. of ITERATIONS REACHED LIMIT.\n",
      "\n",
      "Increase the number of iterations (max_iter) or scale the data as shown in:\n",
      "    https://scikit-learn.org/stable/modules/preprocessing.html\n",
      "Please also refer to the documentation for alternative solver options:\n",
      "    https://scikit-learn.org/stable/modules/linear_model.html#logistic-regression\n",
      "  n_iter_i = _check_optimize_result(\n",
      "/opt/conda/lib/python3.10/site-packages/sklearn/linear_model/_logistic.py:458: ConvergenceWarning: lbfgs failed to converge (status=1):\n",
      "STOP: TOTAL NO. of ITERATIONS REACHED LIMIT.\n",
      "\n",
      "Increase the number of iterations (max_iter) or scale the data as shown in:\n",
      "    https://scikit-learn.org/stable/modules/preprocessing.html\n",
      "Please also refer to the documentation for alternative solver options:\n",
      "    https://scikit-learn.org/stable/modules/linear_model.html#logistic-regression\n",
      "  n_iter_i = _check_optimize_result(\n",
      "/opt/conda/lib/python3.10/site-packages/sklearn/linear_model/_logistic.py:458: ConvergenceWarning: lbfgs failed to converge (status=1):\n",
      "STOP: TOTAL NO. of ITERATIONS REACHED LIMIT.\n",
      "\n",
      "Increase the number of iterations (max_iter) or scale the data as shown in:\n",
      "    https://scikit-learn.org/stable/modules/preprocessing.html\n",
      "Please also refer to the documentation for alternative solver options:\n",
      "    https://scikit-learn.org/stable/modules/linear_model.html#logistic-regression\n",
      "  n_iter_i = _check_optimize_result(\n",
      "/opt/conda/lib/python3.10/site-packages/sklearn/linear_model/_logistic.py:458: ConvergenceWarning: lbfgs failed to converge (status=1):\n",
      "STOP: TOTAL NO. of ITERATIONS REACHED LIMIT.\n",
      "\n",
      "Increase the number of iterations (max_iter) or scale the data as shown in:\n",
      "    https://scikit-learn.org/stable/modules/preprocessing.html\n",
      "Please also refer to the documentation for alternative solver options:\n",
      "    https://scikit-learn.org/stable/modules/linear_model.html#logistic-regression\n",
      "  n_iter_i = _check_optimize_result(\n",
      "/opt/conda/lib/python3.10/site-packages/sklearn/linear_model/_logistic.py:458: ConvergenceWarning: lbfgs failed to converge (status=1):\n",
      "STOP: TOTAL NO. of ITERATIONS REACHED LIMIT.\n",
      "\n",
      "Increase the number of iterations (max_iter) or scale the data as shown in:\n",
      "    https://scikit-learn.org/stable/modules/preprocessing.html\n",
      "Please also refer to the documentation for alternative solver options:\n",
      "    https://scikit-learn.org/stable/modules/linear_model.html#logistic-regression\n",
      "  n_iter_i = _check_optimize_result(\n",
      "/opt/conda/lib/python3.10/site-packages/sklearn/linear_model/_logistic.py:458: ConvergenceWarning: lbfgs failed to converge (status=1):\n",
      "STOP: TOTAL NO. of ITERATIONS REACHED LIMIT.\n",
      "\n",
      "Increase the number of iterations (max_iter) or scale the data as shown in:\n",
      "    https://scikit-learn.org/stable/modules/preprocessing.html\n",
      "Please also refer to the documentation for alternative solver options:\n",
      "    https://scikit-learn.org/stable/modules/linear_model.html#logistic-regression\n",
      "  n_iter_i = _check_optimize_result(\n",
      "/opt/conda/lib/python3.10/site-packages/sklearn/linear_model/_logistic.py:458: ConvergenceWarning: lbfgs failed to converge (status=1):\n",
      "STOP: TOTAL NO. of ITERATIONS REACHED LIMIT.\n",
      "\n",
      "Increase the number of iterations (max_iter) or scale the data as shown in:\n",
      "    https://scikit-learn.org/stable/modules/preprocessing.html\n",
      "Please also refer to the documentation for alternative solver options:\n",
      "    https://scikit-learn.org/stable/modules/linear_model.html#logistic-regression\n",
      "  n_iter_i = _check_optimize_result(\n",
      "/opt/conda/lib/python3.10/site-packages/sklearn/linear_model/_logistic.py:458: ConvergenceWarning: lbfgs failed to converge (status=1):\n",
      "STOP: TOTAL NO. of ITERATIONS REACHED LIMIT.\n",
      "\n",
      "Increase the number of iterations (max_iter) or scale the data as shown in:\n",
      "    https://scikit-learn.org/stable/modules/preprocessing.html\n",
      "Please also refer to the documentation for alternative solver options:\n",
      "    https://scikit-learn.org/stable/modules/linear_model.html#logistic-regression\n",
      "  n_iter_i = _check_optimize_result(\n",
      "/opt/conda/lib/python3.10/site-packages/sklearn/linear_model/_logistic.py:458: ConvergenceWarning: lbfgs failed to converge (status=1):\n",
      "STOP: TOTAL NO. of ITERATIONS REACHED LIMIT.\n",
      "\n",
      "Increase the number of iterations (max_iter) or scale the data as shown in:\n",
      "    https://scikit-learn.org/stable/modules/preprocessing.html\n",
      "Please also refer to the documentation for alternative solver options:\n",
      "    https://scikit-learn.org/stable/modules/linear_model.html#logistic-regression\n",
      "  n_iter_i = _check_optimize_result(\n",
      "/opt/conda/lib/python3.10/site-packages/sklearn/linear_model/_logistic.py:458: ConvergenceWarning: lbfgs failed to converge (status=1):\n",
      "STOP: TOTAL NO. of ITERATIONS REACHED LIMIT.\n",
      "\n",
      "Increase the number of iterations (max_iter) or scale the data as shown in:\n",
      "    https://scikit-learn.org/stable/modules/preprocessing.html\n",
      "Please also refer to the documentation for alternative solver options:\n",
      "    https://scikit-learn.org/stable/modules/linear_model.html#logistic-regression\n",
      "  n_iter_i = _check_optimize_result(\n",
      "/opt/conda/lib/python3.10/site-packages/sklearn/linear_model/_logistic.py:458: ConvergenceWarning: lbfgs failed to converge (status=1):\n",
      "STOP: TOTAL NO. of ITERATIONS REACHED LIMIT.\n",
      "\n",
      "Increase the number of iterations (max_iter) or scale the data as shown in:\n",
      "    https://scikit-learn.org/stable/modules/preprocessing.html\n",
      "Please also refer to the documentation for alternative solver options:\n",
      "    https://scikit-learn.org/stable/modules/linear_model.html#logistic-regression\n",
      "  n_iter_i = _check_optimize_result(\n",
      "/opt/conda/lib/python3.10/site-packages/sklearn/linear_model/_logistic.py:458: ConvergenceWarning: lbfgs failed to converge (status=1):\n",
      "STOP: TOTAL NO. of ITERATIONS REACHED LIMIT.\n",
      "\n",
      "Increase the number of iterations (max_iter) or scale the data as shown in:\n",
      "    https://scikit-learn.org/stable/modules/preprocessing.html\n",
      "Please also refer to the documentation for alternative solver options:\n",
      "    https://scikit-learn.org/stable/modules/linear_model.html#logistic-regression\n",
      "  n_iter_i = _check_optimize_result(\n",
      "/opt/conda/lib/python3.10/site-packages/sklearn/linear_model/_logistic.py:458: ConvergenceWarning: lbfgs failed to converge (status=1):\n",
      "STOP: TOTAL NO. of ITERATIONS REACHED LIMIT.\n",
      "\n",
      "Increase the number of iterations (max_iter) or scale the data as shown in:\n",
      "    https://scikit-learn.org/stable/modules/preprocessing.html\n",
      "Please also refer to the documentation for alternative solver options:\n",
      "    https://scikit-learn.org/stable/modules/linear_model.html#logistic-regression\n",
      "  n_iter_i = _check_optimize_result(\n",
      "/opt/conda/lib/python3.10/site-packages/sklearn/linear_model/_logistic.py:458: ConvergenceWarning: lbfgs failed to converge (status=1):\n",
      "STOP: TOTAL NO. of ITERATIONS REACHED LIMIT.\n",
      "\n",
      "Increase the number of iterations (max_iter) or scale the data as shown in:\n",
      "    https://scikit-learn.org/stable/modules/preprocessing.html\n",
      "Please also refer to the documentation for alternative solver options:\n",
      "    https://scikit-learn.org/stable/modules/linear_model.html#logistic-regression\n",
      "  n_iter_i = _check_optimize_result(\n",
      "/opt/conda/lib/python3.10/site-packages/sklearn/linear_model/_logistic.py:458: ConvergenceWarning: lbfgs failed to converge (status=1):\n",
      "STOP: TOTAL NO. of ITERATIONS REACHED LIMIT.\n",
      "\n",
      "Increase the number of iterations (max_iter) or scale the data as shown in:\n",
      "    https://scikit-learn.org/stable/modules/preprocessing.html\n",
      "Please also refer to the documentation for alternative solver options:\n",
      "    https://scikit-learn.org/stable/modules/linear_model.html#logistic-regression\n",
      "  n_iter_i = _check_optimize_result(\n",
      "/opt/conda/lib/python3.10/site-packages/sklearn/linear_model/_logistic.py:458: ConvergenceWarning: lbfgs failed to converge (status=1):\n",
      "STOP: TOTAL NO. of ITERATIONS REACHED LIMIT.\n",
      "\n",
      "Increase the number of iterations (max_iter) or scale the data as shown in:\n",
      "    https://scikit-learn.org/stable/modules/preprocessing.html\n",
      "Please also refer to the documentation for alternative solver options:\n",
      "    https://scikit-learn.org/stable/modules/linear_model.html#logistic-regression\n",
      "  n_iter_i = _check_optimize_result(\n",
      "/opt/conda/lib/python3.10/site-packages/sklearn/linear_model/_logistic.py:458: ConvergenceWarning: lbfgs failed to converge (status=1):\n",
      "STOP: TOTAL NO. of ITERATIONS REACHED LIMIT.\n",
      "\n",
      "Increase the number of iterations (max_iter) or scale the data as shown in:\n",
      "    https://scikit-learn.org/stable/modules/preprocessing.html\n",
      "Please also refer to the documentation for alternative solver options:\n",
      "    https://scikit-learn.org/stable/modules/linear_model.html#logistic-regression\n",
      "  n_iter_i = _check_optimize_result(\n",
      "/opt/conda/lib/python3.10/site-packages/sklearn/linear_model/_logistic.py:458: ConvergenceWarning: lbfgs failed to converge (status=1):\n",
      "STOP: TOTAL NO. of ITERATIONS REACHED LIMIT.\n",
      "\n",
      "Increase the number of iterations (max_iter) or scale the data as shown in:\n",
      "    https://scikit-learn.org/stable/modules/preprocessing.html\n",
      "Please also refer to the documentation for alternative solver options:\n",
      "    https://scikit-learn.org/stable/modules/linear_model.html#logistic-regression\n",
      "  n_iter_i = _check_optimize_result(\n",
      "/opt/conda/lib/python3.10/site-packages/sklearn/linear_model/_logistic.py:458: ConvergenceWarning: lbfgs failed to converge (status=1):\n",
      "STOP: TOTAL NO. of ITERATIONS REACHED LIMIT.\n",
      "\n",
      "Increase the number of iterations (max_iter) or scale the data as shown in:\n",
      "    https://scikit-learn.org/stable/modules/preprocessing.html\n",
      "Please also refer to the documentation for alternative solver options:\n",
      "    https://scikit-learn.org/stable/modules/linear_model.html#logistic-regression\n",
      "  n_iter_i = _check_optimize_result(\n",
      "/opt/conda/lib/python3.10/site-packages/sklearn/linear_model/_logistic.py:458: ConvergenceWarning: lbfgs failed to converge (status=1):\n",
      "STOP: TOTAL NO. of ITERATIONS REACHED LIMIT.\n",
      "\n",
      "Increase the number of iterations (max_iter) or scale the data as shown in:\n",
      "    https://scikit-learn.org/stable/modules/preprocessing.html\n",
      "Please also refer to the documentation for alternative solver options:\n",
      "    https://scikit-learn.org/stable/modules/linear_model.html#logistic-regression\n",
      "  n_iter_i = _check_optimize_result(\n",
      "/opt/conda/lib/python3.10/site-packages/sklearn/linear_model/_logistic.py:458: ConvergenceWarning: lbfgs failed to converge (status=1):\n",
      "STOP: TOTAL NO. of ITERATIONS REACHED LIMIT.\n",
      "\n",
      "Increase the number of iterations (max_iter) or scale the data as shown in:\n",
      "    https://scikit-learn.org/stable/modules/preprocessing.html\n",
      "Please also refer to the documentation for alternative solver options:\n",
      "    https://scikit-learn.org/stable/modules/linear_model.html#logistic-regression\n",
      "  n_iter_i = _check_optimize_result(\n",
      "/opt/conda/lib/python3.10/site-packages/sklearn/linear_model/_logistic.py:458: ConvergenceWarning: lbfgs failed to converge (status=1):\n",
      "STOP: TOTAL NO. of ITERATIONS REACHED LIMIT.\n",
      "\n",
      "Increase the number of iterations (max_iter) or scale the data as shown in:\n",
      "    https://scikit-learn.org/stable/modules/preprocessing.html\n",
      "Please also refer to the documentation for alternative solver options:\n",
      "    https://scikit-learn.org/stable/modules/linear_model.html#logistic-regression\n",
      "  n_iter_i = _check_optimize_result(\n",
      "/opt/conda/lib/python3.10/site-packages/sklearn/linear_model/_logistic.py:458: ConvergenceWarning: lbfgs failed to converge (status=1):\n",
      "STOP: TOTAL NO. of ITERATIONS REACHED LIMIT.\n",
      "\n",
      "Increase the number of iterations (max_iter) or scale the data as shown in:\n",
      "    https://scikit-learn.org/stable/modules/preprocessing.html\n",
      "Please also refer to the documentation for alternative solver options:\n",
      "    https://scikit-learn.org/stable/modules/linear_model.html#logistic-regression\n",
      "  n_iter_i = _check_optimize_result(\n",
      "/opt/conda/lib/python3.10/site-packages/sklearn/linear_model/_logistic.py:458: ConvergenceWarning: lbfgs failed to converge (status=1):\n",
      "STOP: TOTAL NO. of ITERATIONS REACHED LIMIT.\n",
      "\n",
      "Increase the number of iterations (max_iter) or scale the data as shown in:\n",
      "    https://scikit-learn.org/stable/modules/preprocessing.html\n",
      "Please also refer to the documentation for alternative solver options:\n",
      "    https://scikit-learn.org/stable/modules/linear_model.html#logistic-regression\n",
      "  n_iter_i = _check_optimize_result(\n",
      "/opt/conda/lib/python3.10/site-packages/sklearn/linear_model/_logistic.py:458: ConvergenceWarning: lbfgs failed to converge (status=1):\n",
      "STOP: TOTAL NO. of ITERATIONS REACHED LIMIT.\n",
      "\n",
      "Increase the number of iterations (max_iter) or scale the data as shown in:\n",
      "    https://scikit-learn.org/stable/modules/preprocessing.html\n",
      "Please also refer to the documentation for alternative solver options:\n",
      "    https://scikit-learn.org/stable/modules/linear_model.html#logistic-regression\n",
      "  n_iter_i = _check_optimize_result(\n",
      "/opt/conda/lib/python3.10/site-packages/sklearn/linear_model/_logistic.py:458: ConvergenceWarning: lbfgs failed to converge (status=1):\n",
      "STOP: TOTAL NO. of ITERATIONS REACHED LIMIT.\n",
      "\n",
      "Increase the number of iterations (max_iter) or scale the data as shown in:\n",
      "    https://scikit-learn.org/stable/modules/preprocessing.html\n",
      "Please also refer to the documentation for alternative solver options:\n",
      "    https://scikit-learn.org/stable/modules/linear_model.html#logistic-regression\n",
      "  n_iter_i = _check_optimize_result(\n",
      "/opt/conda/lib/python3.10/site-packages/sklearn/linear_model/_logistic.py:458: ConvergenceWarning: lbfgs failed to converge (status=1):\n",
      "STOP: TOTAL NO. of ITERATIONS REACHED LIMIT.\n",
      "\n",
      "Increase the number of iterations (max_iter) or scale the data as shown in:\n",
      "    https://scikit-learn.org/stable/modules/preprocessing.html\n",
      "Please also refer to the documentation for alternative solver options:\n",
      "    https://scikit-learn.org/stable/modules/linear_model.html#logistic-regression\n",
      "  n_iter_i = _check_optimize_result(\n",
      "/opt/conda/lib/python3.10/site-packages/sklearn/linear_model/_logistic.py:458: ConvergenceWarning: lbfgs failed to converge (status=1):\n",
      "STOP: TOTAL NO. of ITERATIONS REACHED LIMIT.\n",
      "\n",
      "Increase the number of iterations (max_iter) or scale the data as shown in:\n",
      "    https://scikit-learn.org/stable/modules/preprocessing.html\n",
      "Please also refer to the documentation for alternative solver options:\n",
      "    https://scikit-learn.org/stable/modules/linear_model.html#logistic-regression\n",
      "  n_iter_i = _check_optimize_result(\n",
      "/opt/conda/lib/python3.10/site-packages/sklearn/linear_model/_logistic.py:458: ConvergenceWarning: lbfgs failed to converge (status=1):\n",
      "STOP: TOTAL NO. of ITERATIONS REACHED LIMIT.\n",
      "\n",
      "Increase the number of iterations (max_iter) or scale the data as shown in:\n",
      "    https://scikit-learn.org/stable/modules/preprocessing.html\n",
      "Please also refer to the documentation for alternative solver options:\n",
      "    https://scikit-learn.org/stable/modules/linear_model.html#logistic-regression\n",
      "  n_iter_i = _check_optimize_result(\n",
      "/opt/conda/lib/python3.10/site-packages/sklearn/linear_model/_logistic.py:458: ConvergenceWarning: lbfgs failed to converge (status=1):\n",
      "STOP: TOTAL NO. of ITERATIONS REACHED LIMIT.\n",
      "\n",
      "Increase the number of iterations (max_iter) or scale the data as shown in:\n",
      "    https://scikit-learn.org/stable/modules/preprocessing.html\n",
      "Please also refer to the documentation for alternative solver options:\n",
      "    https://scikit-learn.org/stable/modules/linear_model.html#logistic-regression\n",
      "  n_iter_i = _check_optimize_result(\n",
      "/opt/conda/lib/python3.10/site-packages/sklearn/linear_model/_logistic.py:458: ConvergenceWarning: lbfgs failed to converge (status=1):\n",
      "STOP: TOTAL NO. of ITERATIONS REACHED LIMIT.\n",
      "\n",
      "Increase the number of iterations (max_iter) or scale the data as shown in:\n",
      "    https://scikit-learn.org/stable/modules/preprocessing.html\n",
      "Please also refer to the documentation for alternative solver options:\n",
      "    https://scikit-learn.org/stable/modules/linear_model.html#logistic-regression\n",
      "  n_iter_i = _check_optimize_result(\n",
      "/opt/conda/lib/python3.10/site-packages/sklearn/linear_model/_logistic.py:458: ConvergenceWarning: lbfgs failed to converge (status=1):\n",
      "STOP: TOTAL NO. of ITERATIONS REACHED LIMIT.\n",
      "\n",
      "Increase the number of iterations (max_iter) or scale the data as shown in:\n",
      "    https://scikit-learn.org/stable/modules/preprocessing.html\n",
      "Please also refer to the documentation for alternative solver options:\n",
      "    https://scikit-learn.org/stable/modules/linear_model.html#logistic-regression\n",
      "  n_iter_i = _check_optimize_result(\n",
      "/opt/conda/lib/python3.10/site-packages/sklearn/linear_model/_logistic.py:458: ConvergenceWarning: lbfgs failed to converge (status=1):\n",
      "STOP: TOTAL NO. of ITERATIONS REACHED LIMIT.\n",
      "\n",
      "Increase the number of iterations (max_iter) or scale the data as shown in:\n",
      "    https://scikit-learn.org/stable/modules/preprocessing.html\n",
      "Please also refer to the documentation for alternative solver options:\n",
      "    https://scikit-learn.org/stable/modules/linear_model.html#logistic-regression\n",
      "  n_iter_i = _check_optimize_result(\n",
      "/opt/conda/lib/python3.10/site-packages/sklearn/linear_model/_logistic.py:458: ConvergenceWarning: lbfgs failed to converge (status=1):\n",
      "STOP: TOTAL NO. of ITERATIONS REACHED LIMIT.\n",
      "\n",
      "Increase the number of iterations (max_iter) or scale the data as shown in:\n",
      "    https://scikit-learn.org/stable/modules/preprocessing.html\n",
      "Please also refer to the documentation for alternative solver options:\n",
      "    https://scikit-learn.org/stable/modules/linear_model.html#logistic-regression\n",
      "  n_iter_i = _check_optimize_result(\n",
      "/opt/conda/lib/python3.10/site-packages/sklearn/linear_model/_logistic.py:458: ConvergenceWarning: lbfgs failed to converge (status=1):\n",
      "STOP: TOTAL NO. of ITERATIONS REACHED LIMIT.\n",
      "\n",
      "Increase the number of iterations (max_iter) or scale the data as shown in:\n",
      "    https://scikit-learn.org/stable/modules/preprocessing.html\n",
      "Please also refer to the documentation for alternative solver options:\n",
      "    https://scikit-learn.org/stable/modules/linear_model.html#logistic-regression\n",
      "  n_iter_i = _check_optimize_result(\n",
      "/opt/conda/lib/python3.10/site-packages/sklearn/model_selection/_validation.py:378: FitFailedWarning: \n",
      "120 fits failed out of a total of 240.\n",
      "The score on these train-test partitions for these parameters will be set to nan.\n",
      "If these failures are not expected, you can try to debug them by setting error_score='raise'.\n",
      "\n",
      "Below are more details about the failures:\n",
      "--------------------------------------------------------------------------------\n",
      "60 fits failed with the following error:\n",
      "Traceback (most recent call last):\n",
      "  File \"/opt/conda/lib/python3.10/site-packages/sklearn/model_selection/_validation.py\", line 686, in _fit_and_score\n",
      "    estimator.fit(X_train, y_train, **fit_params)\n",
      "  File \"/opt/conda/lib/python3.10/site-packages/sklearn/linear_model/_logistic.py\", line 1162, in fit\n",
      "    solver = _check_solver(self.solver, self.penalty, self.dual)\n",
      "  File \"/opt/conda/lib/python3.10/site-packages/sklearn/linear_model/_logistic.py\", line 54, in _check_solver\n",
      "    raise ValueError(\n",
      "ValueError: Solver lbfgs supports only 'l2' or 'none' penalties, got l1 penalty.\n",
      "\n",
      "--------------------------------------------------------------------------------\n",
      "60 fits failed with the following error:\n",
      "Traceback (most recent call last):\n",
      "  File \"/opt/conda/lib/python3.10/site-packages/sklearn/model_selection/_validation.py\", line 686, in _fit_and_score\n",
      "    estimator.fit(X_train, y_train, **fit_params)\n",
      "  File \"/opt/conda/lib/python3.10/site-packages/sklearn/linear_model/_logistic.py\", line 1162, in fit\n",
      "    solver = _check_solver(self.solver, self.penalty, self.dual)\n",
      "  File \"/opt/conda/lib/python3.10/site-packages/sklearn/linear_model/_logistic.py\", line 54, in _check_solver\n",
      "    raise ValueError(\n",
      "ValueError: Solver newton-cholesky supports only 'l2' or 'none' penalties, got l1 penalty.\n",
      "\n",
      "  warnings.warn(some_fits_failed_message, FitFailedWarning)\n",
      "/opt/conda/lib/python3.10/site-packages/sklearn/model_selection/_search.py:952: UserWarning: One or more of the test scores are non-finite: [       nan        nan        nan        nan        nan        nan\n",
      " 0.86783152 0.86783152 0.86783152 0.8610288  0.8610288  0.8610288\n",
      "        nan        nan        nan        nan        nan        nan\n",
      " 0.86511043 0.86511043 0.86511043 0.8610288  0.8610288  0.8610288\n",
      "        nan        nan        nan        nan        nan        nan\n",
      " 0.86647097 0.86647097 0.86647097 0.8610288  0.8610288  0.8610288\n",
      "        nan        nan        nan        nan        nan        nan\n",
      " 0.86511043 0.86511043 0.86511043 0.8610288  0.8610288  0.8610288 ]\n",
      "  warnings.warn(\n",
      "/opt/conda/lib/python3.10/site-packages/sklearn/linear_model/_logistic.py:458: ConvergenceWarning: lbfgs failed to converge (status=1):\n",
      "STOP: TOTAL NO. of ITERATIONS REACHED LIMIT.\n",
      "\n",
      "Increase the number of iterations (max_iter) or scale the data as shown in:\n",
      "    https://scikit-learn.org/stable/modules/preprocessing.html\n",
      "Please also refer to the documentation for alternative solver options:\n",
      "    https://scikit-learn.org/stable/modules/linear_model.html#logistic-regression\n",
      "  n_iter_i = _check_optimize_result(\n"
     ]
    },
    {
     "data": {
      "text/plain": [
       "{'max_iter': 100, 'penalty': 'l2', 'solver': 'lbfgs', 'tol': 0.0001}"
      ]
     },
     "execution_count": 40,
     "metadata": {},
     "output_type": "execute_result"
    }
   ],
   "source": [
    "# applying grid search cv for logistic regression class\n",
    "para_grid={\n",
    "    'penalty':['l1','l2'],\n",
    "    'tol':[0.0001,0.0005,0.001],\n",
    "    'solver':['lbfgs','newton-cholesky'],\n",
    "    'max_iter':[100,150,200,300]\n",
    "    \n",
    "}\n",
    "logi_reg_gridcv=GridSearchCV(estimator=logistic,\n",
    "                           param_grid=para_grid,\n",
    "                           cv=5)\n",
    "logi_reg_gridcv.fit(x_train_processed,y_train)\n",
    "logi_reg_gridcv.best_params_"
   ]
  },
  {
   "cell_type": "markdown",
   "id": "729d822a",
   "metadata": {
    "papermill": {
     "duration": 0.043475,
     "end_time": "2023-12-16T07:46:55.349723",
     "exception": false,
     "start_time": "2023-12-16T07:46:55.306248",
     "status": "completed"
    },
    "tags": []
   },
   "source": [
    "⬆️ these are the optimal hyper parameteres for logistic regression "
   ]
  },
  {
   "cell_type": "code",
   "execution_count": 41,
   "id": "1668437a",
   "metadata": {
    "execution": {
     "iopub.execute_input": "2023-12-16T07:46:55.410565Z",
     "iopub.status.busy": "2023-12-16T07:46:55.410197Z",
     "iopub.status.idle": "2023-12-16T07:47:07.512237Z",
     "shell.execute_reply": "2023-12-16T07:47:07.510985Z"
    },
    "papermill": {
     "duration": 12.131163,
     "end_time": "2023-12-16T07:47:07.514575",
     "exception": false,
     "start_time": "2023-12-16T07:46:55.383412",
     "status": "completed"
    },
    "tags": []
   },
   "outputs": [
    {
     "data": {
      "text/plain": [
       "{'criterion': 'entropy',\n",
       " 'max_depth': 5,\n",
       " 'min_samples_leaf': 1,\n",
       " 'min_samples_split': 10,\n",
       " 'splitter': 'random'}"
      ]
     },
     "execution_count": 41,
     "metadata": {},
     "output_type": "execute_result"
    }
   ],
   "source": [
    "# applying grid search cv for Decision tree class\n",
    "DT_gridcv=GridSearchCV(estimator=DT,\n",
    "    param_grid={'criterion':['gini','entropy','log_loss'],\n",
    "               'splitter':['best','random'],\n",
    "               'max_depth':[None,1,5,10,20,25],\n",
    "               'min_samples_split':[2,5,8,10],\n",
    "               'min_samples_leaf':[1,2,3,4,5]},\n",
    "    cv=5)\n",
    "DT_gridcv.fit(x_train_processed,y_train)\n",
    "DT_gridcv.best_params_"
   ]
  },
  {
   "cell_type": "code",
   "execution_count": 42,
   "id": "07ce5dc0",
   "metadata": {
    "execution": {
     "iopub.execute_input": "2023-12-16T07:47:07.569548Z",
     "iopub.status.busy": "2023-12-16T07:47:07.568798Z",
     "iopub.status.idle": "2023-12-16T07:47:09.276889Z",
     "shell.execute_reply": "2023-12-16T07:47:09.275825Z"
    },
    "papermill": {
     "duration": 1.737832,
     "end_time": "2023-12-16T07:47:09.279227",
     "exception": false,
     "start_time": "2023-12-16T07:47:07.541395",
     "status": "completed"
    },
    "tags": []
   },
   "outputs": [
    {
     "data": {
      "text/plain": [
       "{'n_estimators': 20,\n",
       " 'min_samples_split': 5,\n",
       " 'min_samples_leaf': 1,\n",
       " 'max_features': 'log2',\n",
       " 'max_depth': None,\n",
       " 'criterion': 'gini',\n",
       " 'bootstrap': True}"
      ]
     },
     "execution_count": 42,
     "metadata": {},
     "output_type": "execute_result"
    }
   ],
   "source": [
    "# applying random search cv for random forest class\n",
    "from sklearn.model_selection import RandomizedSearchCV\n",
    "randomforest_cv=RandomizedSearchCV(estimator=randomforest,\n",
    "    param_distributions={'n_estimators':[10,15,20,25],\n",
    "               'criterion':['gini','entropy','log_loss'],\n",
    "                'max_features':['sqrt','log2',None],\n",
    "               'max_depth':[None,1,3],\n",
    "               'min_samples_split':[2,3,5],\n",
    "               'min_samples_leaf':[1,2,3],\n",
    "               'bootstrap':[True,False]},\n",
    "    cv=5)\n",
    "randomforest_cv.fit(x_train_processed,y_train)\n",
    "randomforest_cv.best_params_"
   ]
  },
  {
   "cell_type": "code",
   "execution_count": 43,
   "id": "139919e9",
   "metadata": {
    "execution": {
     "iopub.execute_input": "2023-12-16T07:47:09.332961Z",
     "iopub.status.busy": "2023-12-16T07:47:09.332517Z",
     "iopub.status.idle": "2023-12-16T07:47:10.198232Z",
     "shell.execute_reply": "2023-12-16T07:47:10.196496Z"
    },
    "papermill": {
     "duration": 0.897416,
     "end_time": "2023-12-16T07:47:10.202768",
     "exception": false,
     "start_time": "2023-12-16T07:47:09.305352",
     "status": "completed"
    },
    "tags": []
   },
   "outputs": [
    {
     "name": "stderr",
     "output_type": "stream",
     "text": [
      "/opt/conda/lib/python3.10/site-packages/sklearn/linear_model/_logistic.py:458: ConvergenceWarning: lbfgs failed to converge (status=1):\n",
      "STOP: TOTAL NO. of ITERATIONS REACHED LIMIT.\n",
      "\n",
      "Increase the number of iterations (max_iter) or scale the data as shown in:\n",
      "    https://scikit-learn.org/stable/modules/preprocessing.html\n",
      "Please also refer to the documentation for alternative solver options:\n",
      "    https://scikit-learn.org/stable/modules/linear_model.html#logistic-regression\n",
      "  n_iter_i = _check_optimize_result(\n",
      "/opt/conda/lib/python3.10/site-packages/sklearn/linear_model/_logistic.py:458: ConvergenceWarning: lbfgs failed to converge (status=1):\n",
      "STOP: TOTAL NO. of ITERATIONS REACHED LIMIT.\n",
      "\n",
      "Increase the number of iterations (max_iter) or scale the data as shown in:\n",
      "    https://scikit-learn.org/stable/modules/preprocessing.html\n",
      "Please also refer to the documentation for alternative solver options:\n",
      "    https://scikit-learn.org/stable/modules/linear_model.html#logistic-regression\n",
      "  n_iter_i = _check_optimize_result(\n",
      "/opt/conda/lib/python3.10/site-packages/sklearn/linear_model/_logistic.py:458: ConvergenceWarning: lbfgs failed to converge (status=1):\n",
      "STOP: TOTAL NO. of ITERATIONS REACHED LIMIT.\n",
      "\n",
      "Increase the number of iterations (max_iter) or scale the data as shown in:\n",
      "    https://scikit-learn.org/stable/modules/preprocessing.html\n",
      "Please also refer to the documentation for alternative solver options:\n",
      "    https://scikit-learn.org/stable/modules/linear_model.html#logistic-regression\n",
      "  n_iter_i = _check_optimize_result(\n",
      "/opt/conda/lib/python3.10/site-packages/sklearn/linear_model/_logistic.py:458: ConvergenceWarning: lbfgs failed to converge (status=1):\n",
      "STOP: TOTAL NO. of ITERATIONS REACHED LIMIT.\n",
      "\n",
      "Increase the number of iterations (max_iter) or scale the data as shown in:\n",
      "    https://scikit-learn.org/stable/modules/preprocessing.html\n",
      "Please also refer to the documentation for alternative solver options:\n",
      "    https://scikit-learn.org/stable/modules/linear_model.html#logistic-regression\n",
      "  n_iter_i = _check_optimize_result(\n",
      "/opt/conda/lib/python3.10/site-packages/sklearn/linear_model/_logistic.py:458: ConvergenceWarning: lbfgs failed to converge (status=1):\n",
      "STOP: TOTAL NO. of ITERATIONS REACHED LIMIT.\n",
      "\n",
      "Increase the number of iterations (max_iter) or scale the data as shown in:\n",
      "    https://scikit-learn.org/stable/modules/preprocessing.html\n",
      "Please also refer to the documentation for alternative solver options:\n",
      "    https://scikit-learn.org/stable/modules/linear_model.html#logistic-regression\n",
      "  n_iter_i = _check_optimize_result(\n",
      "/opt/conda/lib/python3.10/site-packages/sklearn/linear_model/_logistic.py:458: ConvergenceWarning: lbfgs failed to converge (status=1):\n",
      "STOP: TOTAL NO. of ITERATIONS REACHED LIMIT.\n",
      "\n",
      "Increase the number of iterations (max_iter) or scale the data as shown in:\n",
      "    https://scikit-learn.org/stable/modules/preprocessing.html\n",
      "Please also refer to the documentation for alternative solver options:\n",
      "    https://scikit-learn.org/stable/modules/linear_model.html#logistic-regression\n",
      "  n_iter_i = _check_optimize_result(\n",
      "/opt/conda/lib/python3.10/site-packages/sklearn/model_selection/_validation.py:778: UserWarning: Scoring failed. The score on this train-test partition for these parameters will be set to nan. Details: \n",
      "Traceback (most recent call last):\n",
      "  File \"/opt/conda/lib/python3.10/site-packages/sklearn/model_selection/_validation.py\", line 767, in _score\n",
      "    scores = scorer(estimator, X_test, y_test)\n",
      "  File \"/opt/conda/lib/python3.10/site-packages/sklearn/metrics/_scorer.py\", line 444, in _passthrough_scorer\n",
      "    return estimator.score(*args, **kwargs)\n",
      "  File \"/opt/conda/lib/python3.10/site-packages/sklearn/base.py\", line 668, in score\n",
      "    return accuracy_score(y, self.predict(X), sample_weight=sample_weight)\n",
      "  File \"/opt/conda/lib/python3.10/site-packages/sklearn/ensemble/_voting.py\", line 363, in predict\n",
      "    maj = np.argmax(self.predict_proba(X), axis=1)\n",
      "  File \"/opt/conda/lib/python3.10/site-packages/sklearn/ensemble/_voting.py\", line 404, in predict_proba\n",
      "    self._collect_probas(X), axis=0, weights=self._weights_not_none\n",
      "  File \"/opt/conda/lib/python3.10/site-packages/sklearn/ensemble/_voting.py\", line 379, in _collect_probas\n",
      "    return np.asarray([clf.predict_proba(X) for clf in self.estimators_])\n",
      "  File \"/opt/conda/lib/python3.10/site-packages/sklearn/ensemble/_voting.py\", line 379, in <listcomp>\n",
      "    return np.asarray([clf.predict_proba(X) for clf in self.estimators_])\n",
      "  File \"/opt/conda/lib/python3.10/site-packages/sklearn/utils/_available_if.py\", line 32, in __get__\n",
      "    if not self.check(obj):\n",
      "  File \"/opt/conda/lib/python3.10/site-packages/sklearn/svm/_base.py\", line 829, in _check_proba\n",
      "    raise AttributeError(\n",
      "AttributeError: predict_proba is not available when  probability=False\n",
      "\n",
      "  warnings.warn(\n",
      "/opt/conda/lib/python3.10/site-packages/sklearn/linear_model/_logistic.py:458: ConvergenceWarning: lbfgs failed to converge (status=1):\n",
      "STOP: TOTAL NO. of ITERATIONS REACHED LIMIT.\n",
      "\n",
      "Increase the number of iterations (max_iter) or scale the data as shown in:\n",
      "    https://scikit-learn.org/stable/modules/preprocessing.html\n",
      "Please also refer to the documentation for alternative solver options:\n",
      "    https://scikit-learn.org/stable/modules/linear_model.html#logistic-regression\n",
      "  n_iter_i = _check_optimize_result(\n",
      "/opt/conda/lib/python3.10/site-packages/sklearn/model_selection/_validation.py:778: UserWarning: Scoring failed. The score on this train-test partition for these parameters will be set to nan. Details: \n",
      "Traceback (most recent call last):\n",
      "  File \"/opt/conda/lib/python3.10/site-packages/sklearn/model_selection/_validation.py\", line 767, in _score\n",
      "    scores = scorer(estimator, X_test, y_test)\n",
      "  File \"/opt/conda/lib/python3.10/site-packages/sklearn/metrics/_scorer.py\", line 444, in _passthrough_scorer\n",
      "    return estimator.score(*args, **kwargs)\n",
      "  File \"/opt/conda/lib/python3.10/site-packages/sklearn/base.py\", line 668, in score\n",
      "    return accuracy_score(y, self.predict(X), sample_weight=sample_weight)\n",
      "  File \"/opt/conda/lib/python3.10/site-packages/sklearn/ensemble/_voting.py\", line 363, in predict\n",
      "    maj = np.argmax(self.predict_proba(X), axis=1)\n",
      "  File \"/opt/conda/lib/python3.10/site-packages/sklearn/ensemble/_voting.py\", line 404, in predict_proba\n",
      "    self._collect_probas(X), axis=0, weights=self._weights_not_none\n",
      "  File \"/opt/conda/lib/python3.10/site-packages/sklearn/ensemble/_voting.py\", line 379, in _collect_probas\n",
      "    return np.asarray([clf.predict_proba(X) for clf in self.estimators_])\n",
      "  File \"/opt/conda/lib/python3.10/site-packages/sklearn/ensemble/_voting.py\", line 379, in <listcomp>\n",
      "    return np.asarray([clf.predict_proba(X) for clf in self.estimators_])\n",
      "  File \"/opt/conda/lib/python3.10/site-packages/sklearn/utils/_available_if.py\", line 32, in __get__\n",
      "    if not self.check(obj):\n",
      "  File \"/opt/conda/lib/python3.10/site-packages/sklearn/svm/_base.py\", line 829, in _check_proba\n",
      "    raise AttributeError(\n",
      "AttributeError: predict_proba is not available when  probability=False\n",
      "\n",
      "  warnings.warn(\n",
      "/opt/conda/lib/python3.10/site-packages/sklearn/linear_model/_logistic.py:458: ConvergenceWarning: lbfgs failed to converge (status=1):\n",
      "STOP: TOTAL NO. of ITERATIONS REACHED LIMIT.\n",
      "\n",
      "Increase the number of iterations (max_iter) or scale the data as shown in:\n",
      "    https://scikit-learn.org/stable/modules/preprocessing.html\n",
      "Please also refer to the documentation for alternative solver options:\n",
      "    https://scikit-learn.org/stable/modules/linear_model.html#logistic-regression\n",
      "  n_iter_i = _check_optimize_result(\n",
      "/opt/conda/lib/python3.10/site-packages/sklearn/model_selection/_validation.py:778: UserWarning: Scoring failed. The score on this train-test partition for these parameters will be set to nan. Details: \n",
      "Traceback (most recent call last):\n",
      "  File \"/opt/conda/lib/python3.10/site-packages/sklearn/model_selection/_validation.py\", line 767, in _score\n",
      "    scores = scorer(estimator, X_test, y_test)\n",
      "  File \"/opt/conda/lib/python3.10/site-packages/sklearn/metrics/_scorer.py\", line 444, in _passthrough_scorer\n",
      "    return estimator.score(*args, **kwargs)\n",
      "  File \"/opt/conda/lib/python3.10/site-packages/sklearn/base.py\", line 668, in score\n",
      "    return accuracy_score(y, self.predict(X), sample_weight=sample_weight)\n",
      "  File \"/opt/conda/lib/python3.10/site-packages/sklearn/ensemble/_voting.py\", line 363, in predict\n",
      "    maj = np.argmax(self.predict_proba(X), axis=1)\n",
      "  File \"/opt/conda/lib/python3.10/site-packages/sklearn/ensemble/_voting.py\", line 404, in predict_proba\n",
      "    self._collect_probas(X), axis=0, weights=self._weights_not_none\n",
      "  File \"/opt/conda/lib/python3.10/site-packages/sklearn/ensemble/_voting.py\", line 379, in _collect_probas\n",
      "    return np.asarray([clf.predict_proba(X) for clf in self.estimators_])\n",
      "  File \"/opt/conda/lib/python3.10/site-packages/sklearn/ensemble/_voting.py\", line 379, in <listcomp>\n",
      "    return np.asarray([clf.predict_proba(X) for clf in self.estimators_])\n",
      "  File \"/opt/conda/lib/python3.10/site-packages/sklearn/utils/_available_if.py\", line 32, in __get__\n",
      "    if not self.check(obj):\n",
      "  File \"/opt/conda/lib/python3.10/site-packages/sklearn/svm/_base.py\", line 829, in _check_proba\n",
      "    raise AttributeError(\n",
      "AttributeError: predict_proba is not available when  probability=False\n",
      "\n",
      "  warnings.warn(\n",
      "/opt/conda/lib/python3.10/site-packages/sklearn/linear_model/_logistic.py:458: ConvergenceWarning: lbfgs failed to converge (status=1):\n",
      "STOP: TOTAL NO. of ITERATIONS REACHED LIMIT.\n",
      "\n",
      "Increase the number of iterations (max_iter) or scale the data as shown in:\n",
      "    https://scikit-learn.org/stable/modules/preprocessing.html\n",
      "Please also refer to the documentation for alternative solver options:\n",
      "    https://scikit-learn.org/stable/modules/linear_model.html#logistic-regression\n",
      "  n_iter_i = _check_optimize_result(\n",
      "/opt/conda/lib/python3.10/site-packages/sklearn/model_selection/_validation.py:778: UserWarning: Scoring failed. The score on this train-test partition for these parameters will be set to nan. Details: \n",
      "Traceback (most recent call last):\n",
      "  File \"/opt/conda/lib/python3.10/site-packages/sklearn/model_selection/_validation.py\", line 767, in _score\n",
      "    scores = scorer(estimator, X_test, y_test)\n",
      "  File \"/opt/conda/lib/python3.10/site-packages/sklearn/metrics/_scorer.py\", line 444, in _passthrough_scorer\n",
      "    return estimator.score(*args, **kwargs)\n",
      "  File \"/opt/conda/lib/python3.10/site-packages/sklearn/base.py\", line 668, in score\n",
      "    return accuracy_score(y, self.predict(X), sample_weight=sample_weight)\n",
      "  File \"/opt/conda/lib/python3.10/site-packages/sklearn/ensemble/_voting.py\", line 363, in predict\n",
      "    maj = np.argmax(self.predict_proba(X), axis=1)\n",
      "  File \"/opt/conda/lib/python3.10/site-packages/sklearn/ensemble/_voting.py\", line 404, in predict_proba\n",
      "    self._collect_probas(X), axis=0, weights=self._weights_not_none\n",
      "  File \"/opt/conda/lib/python3.10/site-packages/sklearn/ensemble/_voting.py\", line 379, in _collect_probas\n",
      "    return np.asarray([clf.predict_proba(X) for clf in self.estimators_])\n",
      "  File \"/opt/conda/lib/python3.10/site-packages/sklearn/ensemble/_voting.py\", line 379, in <listcomp>\n",
      "    return np.asarray([clf.predict_proba(X) for clf in self.estimators_])\n",
      "  File \"/opt/conda/lib/python3.10/site-packages/sklearn/utils/_available_if.py\", line 32, in __get__\n",
      "    if not self.check(obj):\n",
      "  File \"/opt/conda/lib/python3.10/site-packages/sklearn/svm/_base.py\", line 829, in _check_proba\n",
      "    raise AttributeError(\n",
      "AttributeError: predict_proba is not available when  probability=False\n",
      "\n",
      "  warnings.warn(\n",
      "/opt/conda/lib/python3.10/site-packages/sklearn/linear_model/_logistic.py:458: ConvergenceWarning: lbfgs failed to converge (status=1):\n",
      "STOP: TOTAL NO. of ITERATIONS REACHED LIMIT.\n",
      "\n",
      "Increase the number of iterations (max_iter) or scale the data as shown in:\n",
      "    https://scikit-learn.org/stable/modules/preprocessing.html\n",
      "Please also refer to the documentation for alternative solver options:\n",
      "    https://scikit-learn.org/stable/modules/linear_model.html#logistic-regression\n",
      "  n_iter_i = _check_optimize_result(\n",
      "/opt/conda/lib/python3.10/site-packages/sklearn/model_selection/_validation.py:778: UserWarning: Scoring failed. The score on this train-test partition for these parameters will be set to nan. Details: \n",
      "Traceback (most recent call last):\n",
      "  File \"/opt/conda/lib/python3.10/site-packages/sklearn/model_selection/_validation.py\", line 767, in _score\n",
      "    scores = scorer(estimator, X_test, y_test)\n",
      "  File \"/opt/conda/lib/python3.10/site-packages/sklearn/metrics/_scorer.py\", line 444, in _passthrough_scorer\n",
      "    return estimator.score(*args, **kwargs)\n",
      "  File \"/opt/conda/lib/python3.10/site-packages/sklearn/base.py\", line 668, in score\n",
      "    return accuracy_score(y, self.predict(X), sample_weight=sample_weight)\n",
      "  File \"/opt/conda/lib/python3.10/site-packages/sklearn/ensemble/_voting.py\", line 363, in predict\n",
      "    maj = np.argmax(self.predict_proba(X), axis=1)\n",
      "  File \"/opt/conda/lib/python3.10/site-packages/sklearn/ensemble/_voting.py\", line 404, in predict_proba\n",
      "    self._collect_probas(X), axis=0, weights=self._weights_not_none\n",
      "  File \"/opt/conda/lib/python3.10/site-packages/sklearn/ensemble/_voting.py\", line 379, in _collect_probas\n",
      "    return np.asarray([clf.predict_proba(X) for clf in self.estimators_])\n",
      "  File \"/opt/conda/lib/python3.10/site-packages/sklearn/ensemble/_voting.py\", line 379, in <listcomp>\n",
      "    return np.asarray([clf.predict_proba(X) for clf in self.estimators_])\n",
      "  File \"/opt/conda/lib/python3.10/site-packages/sklearn/utils/_available_if.py\", line 32, in __get__\n",
      "    if not self.check(obj):\n",
      "  File \"/opt/conda/lib/python3.10/site-packages/sklearn/svm/_base.py\", line 829, in _check_proba\n",
      "    raise AttributeError(\n",
      "AttributeError: predict_proba is not available when  probability=False\n",
      "\n",
      "  warnings.warn(\n",
      "/opt/conda/lib/python3.10/site-packages/sklearn/model_selection/_search.py:952: UserWarning: One or more of the test scores are non-finite: [0.8637592       nan]\n",
      "  warnings.warn(\n",
      "/opt/conda/lib/python3.10/site-packages/sklearn/linear_model/_logistic.py:458: ConvergenceWarning: lbfgs failed to converge (status=1):\n",
      "STOP: TOTAL NO. of ITERATIONS REACHED LIMIT.\n",
      "\n",
      "Increase the number of iterations (max_iter) or scale the data as shown in:\n",
      "    https://scikit-learn.org/stable/modules/preprocessing.html\n",
      "Please also refer to the documentation for alternative solver options:\n",
      "    https://scikit-learn.org/stable/modules/linear_model.html#logistic-regression\n",
      "  n_iter_i = _check_optimize_result(\n"
     ]
    },
    {
     "data": {
      "text/plain": [
       "{'voting': 'hard'}"
      ]
     },
     "execution_count": 43,
     "metadata": {},
     "output_type": "execute_result"
    }
   ],
   "source": [
    "# applying grid search cv for voting classifier class\n",
    "Voting_gridcv=GridSearchCV(estimator=votingclf,\n",
    "    param_grid={'voting':['hard','soft']},\n",
    "    cv=5)\n",
    "Voting_gridcv.fit(x_train_processed,y_train)\n",
    "Voting_gridcv.best_params_"
   ]
  },
  {
   "cell_type": "code",
   "execution_count": 44,
   "id": "184c1052",
   "metadata": {
    "execution": {
     "iopub.execute_input": "2023-12-16T07:47:10.284749Z",
     "iopub.status.busy": "2023-12-16T07:47:10.284312Z",
     "iopub.status.idle": "2023-12-16T07:47:14.688025Z",
     "shell.execute_reply": "2023-12-16T07:47:14.686934Z"
    },
    "papermill": {
     "duration": 4.442807,
     "end_time": "2023-12-16T07:47:14.690486",
     "exception": false,
     "start_time": "2023-12-16T07:47:10.247679",
     "status": "completed"
    },
    "tags": []
   },
   "outputs": [
    {
     "data": {
      "text/plain": [
       "{'algorithm': 'SAMME.R', 'learning_rate': 0.5, 'n_estimators': 20}"
      ]
     },
     "execution_count": 44,
     "metadata": {},
     "output_type": "execute_result"
    }
   ],
   "source": [
    "# applying grid search cv for ADABoost\n",
    "ADAboost_gridcv=GridSearchCV(estimator=adaboostclf,\n",
    "    param_grid={'n_estimators':[1,5,10,20],\n",
    "               'learning_rate':[0.001,0.01,0.1,0.5,1],\n",
    "               'algorithm':['SAMME','SAMME.R']},\n",
    "    cv=5)\n",
    "ADAboost_gridcv.fit(x_train_processed,y_train)\n",
    "ADAboost_gridcv.best_params_"
   ]
  },
  {
   "cell_type": "code",
   "execution_count": 45,
   "id": "d3bf74bb",
   "metadata": {
    "execution": {
     "iopub.execute_input": "2023-12-16T07:47:14.744950Z",
     "iopub.status.busy": "2023-12-16T07:47:14.744312Z",
     "iopub.status.idle": "2023-12-16T07:47:19.707517Z",
     "shell.execute_reply": "2023-12-16T07:47:19.706750Z"
    },
    "papermill": {
     "duration": 4.992803,
     "end_time": "2023-12-16T07:47:19.709638",
     "exception": false,
     "start_time": "2023-12-16T07:47:14.716835",
     "status": "completed"
    },
    "tags": []
   },
   "outputs": [
    {
     "name": "stderr",
     "output_type": "stream",
     "text": [
      "/opt/conda/lib/python3.10/site-packages/sklearn/linear_model/_logistic.py:458: ConvergenceWarning: lbfgs failed to converge (status=1):\n",
      "STOP: TOTAL NO. of ITERATIONS REACHED LIMIT.\n",
      "\n",
      "Increase the number of iterations (max_iter) or scale the data as shown in:\n",
      "    https://scikit-learn.org/stable/modules/preprocessing.html\n",
      "Please also refer to the documentation for alternative solver options:\n",
      "    https://scikit-learn.org/stable/modules/linear_model.html#logistic-regression\n",
      "  n_iter_i = _check_optimize_result(\n",
      "/opt/conda/lib/python3.10/site-packages/sklearn/linear_model/_logistic.py:458: ConvergenceWarning: lbfgs failed to converge (status=1):\n",
      "STOP: TOTAL NO. of ITERATIONS REACHED LIMIT.\n",
      "\n",
      "Increase the number of iterations (max_iter) or scale the data as shown in:\n",
      "    https://scikit-learn.org/stable/modules/preprocessing.html\n",
      "Please also refer to the documentation for alternative solver options:\n",
      "    https://scikit-learn.org/stable/modules/linear_model.html#logistic-regression\n",
      "  n_iter_i = _check_optimize_result(\n",
      "/opt/conda/lib/python3.10/site-packages/sklearn/linear_model/_logistic.py:458: ConvergenceWarning: lbfgs failed to converge (status=1):\n",
      "STOP: TOTAL NO. of ITERATIONS REACHED LIMIT.\n",
      "\n",
      "Increase the number of iterations (max_iter) or scale the data as shown in:\n",
      "    https://scikit-learn.org/stable/modules/preprocessing.html\n",
      "Please also refer to the documentation for alternative solver options:\n",
      "    https://scikit-learn.org/stable/modules/linear_model.html#logistic-regression\n",
      "  n_iter_i = _check_optimize_result(\n",
      "/opt/conda/lib/python3.10/site-packages/sklearn/linear_model/_logistic.py:458: ConvergenceWarning: lbfgs failed to converge (status=1):\n",
      "STOP: TOTAL NO. of ITERATIONS REACHED LIMIT.\n",
      "\n",
      "Increase the number of iterations (max_iter) or scale the data as shown in:\n",
      "    https://scikit-learn.org/stable/modules/preprocessing.html\n",
      "Please also refer to the documentation for alternative solver options:\n",
      "    https://scikit-learn.org/stable/modules/linear_model.html#logistic-regression\n",
      "  n_iter_i = _check_optimize_result(\n",
      "/opt/conda/lib/python3.10/site-packages/sklearn/linear_model/_logistic.py:458: ConvergenceWarning: lbfgs failed to converge (status=1):\n",
      "STOP: TOTAL NO. of ITERATIONS REACHED LIMIT.\n",
      "\n",
      "Increase the number of iterations (max_iter) or scale the data as shown in:\n",
      "    https://scikit-learn.org/stable/modules/preprocessing.html\n",
      "Please also refer to the documentation for alternative solver options:\n",
      "    https://scikit-learn.org/stable/modules/linear_model.html#logistic-regression\n",
      "  n_iter_i = _check_optimize_result(\n",
      "/opt/conda/lib/python3.10/site-packages/sklearn/linear_model/_logistic.py:458: ConvergenceWarning: lbfgs failed to converge (status=1):\n",
      "STOP: TOTAL NO. of ITERATIONS REACHED LIMIT.\n",
      "\n",
      "Increase the number of iterations (max_iter) or scale the data as shown in:\n",
      "    https://scikit-learn.org/stable/modules/preprocessing.html\n",
      "Please also refer to the documentation for alternative solver options:\n",
      "    https://scikit-learn.org/stable/modules/linear_model.html#logistic-regression\n",
      "  n_iter_i = _check_optimize_result(\n",
      "/opt/conda/lib/python3.10/site-packages/sklearn/linear_model/_logistic.py:458: ConvergenceWarning: lbfgs failed to converge (status=1):\n",
      "STOP: TOTAL NO. of ITERATIONS REACHED LIMIT.\n",
      "\n",
      "Increase the number of iterations (max_iter) or scale the data as shown in:\n",
      "    https://scikit-learn.org/stable/modules/preprocessing.html\n",
      "Please also refer to the documentation for alternative solver options:\n",
      "    https://scikit-learn.org/stable/modules/linear_model.html#logistic-regression\n",
      "  n_iter_i = _check_optimize_result(\n",
      "/opt/conda/lib/python3.10/site-packages/sklearn/linear_model/_logistic.py:458: ConvergenceWarning: lbfgs failed to converge (status=1):\n",
      "STOP: TOTAL NO. of ITERATIONS REACHED LIMIT.\n",
      "\n",
      "Increase the number of iterations (max_iter) or scale the data as shown in:\n",
      "    https://scikit-learn.org/stable/modules/preprocessing.html\n",
      "Please also refer to the documentation for alternative solver options:\n",
      "    https://scikit-learn.org/stable/modules/linear_model.html#logistic-regression\n",
      "  n_iter_i = _check_optimize_result(\n",
      "/opt/conda/lib/python3.10/site-packages/sklearn/linear_model/_logistic.py:458: ConvergenceWarning: lbfgs failed to converge (status=1):\n",
      "STOP: TOTAL NO. of ITERATIONS REACHED LIMIT.\n",
      "\n",
      "Increase the number of iterations (max_iter) or scale the data as shown in:\n",
      "    https://scikit-learn.org/stable/modules/preprocessing.html\n",
      "Please also refer to the documentation for alternative solver options:\n",
      "    https://scikit-learn.org/stable/modules/linear_model.html#logistic-regression\n",
      "  n_iter_i = _check_optimize_result(\n",
      "/opt/conda/lib/python3.10/site-packages/sklearn/linear_model/_logistic.py:458: ConvergenceWarning: lbfgs failed to converge (status=1):\n",
      "STOP: TOTAL NO. of ITERATIONS REACHED LIMIT.\n",
      "\n",
      "Increase the number of iterations (max_iter) or scale the data as shown in:\n",
      "    https://scikit-learn.org/stable/modules/preprocessing.html\n",
      "Please also refer to the documentation for alternative solver options:\n",
      "    https://scikit-learn.org/stable/modules/linear_model.html#logistic-regression\n",
      "  n_iter_i = _check_optimize_result(\n",
      "/opt/conda/lib/python3.10/site-packages/sklearn/linear_model/_logistic.py:458: ConvergenceWarning: lbfgs failed to converge (status=1):\n",
      "STOP: TOTAL NO. of ITERATIONS REACHED LIMIT.\n",
      "\n",
      "Increase the number of iterations (max_iter) or scale the data as shown in:\n",
      "    https://scikit-learn.org/stable/modules/preprocessing.html\n",
      "Please also refer to the documentation for alternative solver options:\n",
      "    https://scikit-learn.org/stable/modules/linear_model.html#logistic-regression\n",
      "  n_iter_i = _check_optimize_result(\n",
      "/opt/conda/lib/python3.10/site-packages/sklearn/linear_model/_logistic.py:458: ConvergenceWarning: lbfgs failed to converge (status=1):\n",
      "STOP: TOTAL NO. of ITERATIONS REACHED LIMIT.\n",
      "\n",
      "Increase the number of iterations (max_iter) or scale the data as shown in:\n",
      "    https://scikit-learn.org/stable/modules/preprocessing.html\n",
      "Please also refer to the documentation for alternative solver options:\n",
      "    https://scikit-learn.org/stable/modules/linear_model.html#logistic-regression\n",
      "  n_iter_i = _check_optimize_result(\n",
      "/opt/conda/lib/python3.10/site-packages/sklearn/linear_model/_logistic.py:458: ConvergenceWarning: lbfgs failed to converge (status=1):\n",
      "STOP: TOTAL NO. of ITERATIONS REACHED LIMIT.\n",
      "\n",
      "Increase the number of iterations (max_iter) or scale the data as shown in:\n",
      "    https://scikit-learn.org/stable/modules/preprocessing.html\n",
      "Please also refer to the documentation for alternative solver options:\n",
      "    https://scikit-learn.org/stable/modules/linear_model.html#logistic-regression\n",
      "  n_iter_i = _check_optimize_result(\n",
      "/opt/conda/lib/python3.10/site-packages/sklearn/linear_model/_logistic.py:458: ConvergenceWarning: lbfgs failed to converge (status=1):\n",
      "STOP: TOTAL NO. of ITERATIONS REACHED LIMIT.\n",
      "\n",
      "Increase the number of iterations (max_iter) or scale the data as shown in:\n",
      "    https://scikit-learn.org/stable/modules/preprocessing.html\n",
      "Please also refer to the documentation for alternative solver options:\n",
      "    https://scikit-learn.org/stable/modules/linear_model.html#logistic-regression\n",
      "  n_iter_i = _check_optimize_result(\n",
      "/opt/conda/lib/python3.10/site-packages/sklearn/linear_model/_logistic.py:458: ConvergenceWarning: lbfgs failed to converge (status=1):\n",
      "STOP: TOTAL NO. of ITERATIONS REACHED LIMIT.\n",
      "\n",
      "Increase the number of iterations (max_iter) or scale the data as shown in:\n",
      "    https://scikit-learn.org/stable/modules/preprocessing.html\n",
      "Please also refer to the documentation for alternative solver options:\n",
      "    https://scikit-learn.org/stable/modules/linear_model.html#logistic-regression\n",
      "  n_iter_i = _check_optimize_result(\n",
      "/opt/conda/lib/python3.10/site-packages/sklearn/linear_model/_logistic.py:458: ConvergenceWarning: lbfgs failed to converge (status=1):\n",
      "STOP: TOTAL NO. of ITERATIONS REACHED LIMIT.\n",
      "\n",
      "Increase the number of iterations (max_iter) or scale the data as shown in:\n",
      "    https://scikit-learn.org/stable/modules/preprocessing.html\n",
      "Please also refer to the documentation for alternative solver options:\n",
      "    https://scikit-learn.org/stable/modules/linear_model.html#logistic-regression\n",
      "  n_iter_i = _check_optimize_result(\n",
      "/opt/conda/lib/python3.10/site-packages/sklearn/linear_model/_logistic.py:458: ConvergenceWarning: lbfgs failed to converge (status=1):\n",
      "STOP: TOTAL NO. of ITERATIONS REACHED LIMIT.\n",
      "\n",
      "Increase the number of iterations (max_iter) or scale the data as shown in:\n",
      "    https://scikit-learn.org/stable/modules/preprocessing.html\n",
      "Please also refer to the documentation for alternative solver options:\n",
      "    https://scikit-learn.org/stable/modules/linear_model.html#logistic-regression\n",
      "  n_iter_i = _check_optimize_result(\n",
      "/opt/conda/lib/python3.10/site-packages/sklearn/linear_model/_logistic.py:458: ConvergenceWarning: lbfgs failed to converge (status=1):\n",
      "STOP: TOTAL NO. of ITERATIONS REACHED LIMIT.\n",
      "\n",
      "Increase the number of iterations (max_iter) or scale the data as shown in:\n",
      "    https://scikit-learn.org/stable/modules/preprocessing.html\n",
      "Please also refer to the documentation for alternative solver options:\n",
      "    https://scikit-learn.org/stable/modules/linear_model.html#logistic-regression\n",
      "  n_iter_i = _check_optimize_result(\n",
      "/opt/conda/lib/python3.10/site-packages/sklearn/linear_model/_logistic.py:458: ConvergenceWarning: lbfgs failed to converge (status=1):\n",
      "STOP: TOTAL NO. of ITERATIONS REACHED LIMIT.\n",
      "\n",
      "Increase the number of iterations (max_iter) or scale the data as shown in:\n",
      "    https://scikit-learn.org/stable/modules/preprocessing.html\n",
      "Please also refer to the documentation for alternative solver options:\n",
      "    https://scikit-learn.org/stable/modules/linear_model.html#logistic-regression\n",
      "  n_iter_i = _check_optimize_result(\n",
      "/opt/conda/lib/python3.10/site-packages/sklearn/linear_model/_logistic.py:458: ConvergenceWarning: lbfgs failed to converge (status=1):\n",
      "STOP: TOTAL NO. of ITERATIONS REACHED LIMIT.\n",
      "\n",
      "Increase the number of iterations (max_iter) or scale the data as shown in:\n",
      "    https://scikit-learn.org/stable/modules/preprocessing.html\n",
      "Please also refer to the documentation for alternative solver options:\n",
      "    https://scikit-learn.org/stable/modules/linear_model.html#logistic-regression\n",
      "  n_iter_i = _check_optimize_result(\n",
      "/opt/conda/lib/python3.10/site-packages/sklearn/linear_model/_logistic.py:458: ConvergenceWarning: lbfgs failed to converge (status=1):\n",
      "STOP: TOTAL NO. of ITERATIONS REACHED LIMIT.\n",
      "\n",
      "Increase the number of iterations (max_iter) or scale the data as shown in:\n",
      "    https://scikit-learn.org/stable/modules/preprocessing.html\n",
      "Please also refer to the documentation for alternative solver options:\n",
      "    https://scikit-learn.org/stable/modules/linear_model.html#logistic-regression\n",
      "  n_iter_i = _check_optimize_result(\n",
      "/opt/conda/lib/python3.10/site-packages/sklearn/linear_model/_logistic.py:458: ConvergenceWarning: lbfgs failed to converge (status=1):\n",
      "STOP: TOTAL NO. of ITERATIONS REACHED LIMIT.\n",
      "\n",
      "Increase the number of iterations (max_iter) or scale the data as shown in:\n",
      "    https://scikit-learn.org/stable/modules/preprocessing.html\n",
      "Please also refer to the documentation for alternative solver options:\n",
      "    https://scikit-learn.org/stable/modules/linear_model.html#logistic-regression\n",
      "  n_iter_i = _check_optimize_result(\n",
      "/opt/conda/lib/python3.10/site-packages/sklearn/linear_model/_logistic.py:458: ConvergenceWarning: lbfgs failed to converge (status=1):\n",
      "STOP: TOTAL NO. of ITERATIONS REACHED LIMIT.\n",
      "\n",
      "Increase the number of iterations (max_iter) or scale the data as shown in:\n",
      "    https://scikit-learn.org/stable/modules/preprocessing.html\n",
      "Please also refer to the documentation for alternative solver options:\n",
      "    https://scikit-learn.org/stable/modules/linear_model.html#logistic-regression\n",
      "  n_iter_i = _check_optimize_result(\n",
      "/opt/conda/lib/python3.10/site-packages/sklearn/linear_model/_logistic.py:458: ConvergenceWarning: lbfgs failed to converge (status=1):\n",
      "STOP: TOTAL NO. of ITERATIONS REACHED LIMIT.\n",
      "\n",
      "Increase the number of iterations (max_iter) or scale the data as shown in:\n",
      "    https://scikit-learn.org/stable/modules/preprocessing.html\n",
      "Please also refer to the documentation for alternative solver options:\n",
      "    https://scikit-learn.org/stable/modules/linear_model.html#logistic-regression\n",
      "  n_iter_i = _check_optimize_result(\n",
      "/opt/conda/lib/python3.10/site-packages/sklearn/linear_model/_logistic.py:458: ConvergenceWarning: lbfgs failed to converge (status=1):\n",
      "STOP: TOTAL NO. of ITERATIONS REACHED LIMIT.\n",
      "\n",
      "Increase the number of iterations (max_iter) or scale the data as shown in:\n",
      "    https://scikit-learn.org/stable/modules/preprocessing.html\n",
      "Please also refer to the documentation for alternative solver options:\n",
      "    https://scikit-learn.org/stable/modules/linear_model.html#logistic-regression\n",
      "  n_iter_i = _check_optimize_result(\n",
      "/opt/conda/lib/python3.10/site-packages/sklearn/linear_model/_logistic.py:458: ConvergenceWarning: lbfgs failed to converge (status=1):\n",
      "STOP: TOTAL NO. of ITERATIONS REACHED LIMIT.\n",
      "\n",
      "Increase the number of iterations (max_iter) or scale the data as shown in:\n",
      "    https://scikit-learn.org/stable/modules/preprocessing.html\n",
      "Please also refer to the documentation for alternative solver options:\n",
      "    https://scikit-learn.org/stable/modules/linear_model.html#logistic-regression\n",
      "  n_iter_i = _check_optimize_result(\n",
      "/opt/conda/lib/python3.10/site-packages/sklearn/linear_model/_logistic.py:458: ConvergenceWarning: lbfgs failed to converge (status=1):\n",
      "STOP: TOTAL NO. of ITERATIONS REACHED LIMIT.\n",
      "\n",
      "Increase the number of iterations (max_iter) or scale the data as shown in:\n",
      "    https://scikit-learn.org/stable/modules/preprocessing.html\n",
      "Please also refer to the documentation for alternative solver options:\n",
      "    https://scikit-learn.org/stable/modules/linear_model.html#logistic-regression\n",
      "  n_iter_i = _check_optimize_result(\n",
      "/opt/conda/lib/python3.10/site-packages/sklearn/linear_model/_logistic.py:458: ConvergenceWarning: lbfgs failed to converge (status=1):\n",
      "STOP: TOTAL NO. of ITERATIONS REACHED LIMIT.\n",
      "\n",
      "Increase the number of iterations (max_iter) or scale the data as shown in:\n",
      "    https://scikit-learn.org/stable/modules/preprocessing.html\n",
      "Please also refer to the documentation for alternative solver options:\n",
      "    https://scikit-learn.org/stable/modules/linear_model.html#logistic-regression\n",
      "  n_iter_i = _check_optimize_result(\n",
      "/opt/conda/lib/python3.10/site-packages/sklearn/linear_model/_logistic.py:458: ConvergenceWarning: lbfgs failed to converge (status=1):\n",
      "STOP: TOTAL NO. of ITERATIONS REACHED LIMIT.\n",
      "\n",
      "Increase the number of iterations (max_iter) or scale the data as shown in:\n",
      "    https://scikit-learn.org/stable/modules/preprocessing.html\n",
      "Please also refer to the documentation for alternative solver options:\n",
      "    https://scikit-learn.org/stable/modules/linear_model.html#logistic-regression\n",
      "  n_iter_i = _check_optimize_result(\n",
      "/opt/conda/lib/python3.10/site-packages/sklearn/linear_model/_logistic.py:458: ConvergenceWarning: lbfgs failed to converge (status=1):\n",
      "STOP: TOTAL NO. of ITERATIONS REACHED LIMIT.\n",
      "\n",
      "Increase the number of iterations (max_iter) or scale the data as shown in:\n",
      "    https://scikit-learn.org/stable/modules/preprocessing.html\n",
      "Please also refer to the documentation for alternative solver options:\n",
      "    https://scikit-learn.org/stable/modules/linear_model.html#logistic-regression\n",
      "  n_iter_i = _check_optimize_result(\n",
      "/opt/conda/lib/python3.10/site-packages/sklearn/linear_model/_logistic.py:458: ConvergenceWarning: lbfgs failed to converge (status=1):\n",
      "STOP: TOTAL NO. of ITERATIONS REACHED LIMIT.\n",
      "\n",
      "Increase the number of iterations (max_iter) or scale the data as shown in:\n",
      "    https://scikit-learn.org/stable/modules/preprocessing.html\n",
      "Please also refer to the documentation for alternative solver options:\n",
      "    https://scikit-learn.org/stable/modules/linear_model.html#logistic-regression\n",
      "  n_iter_i = _check_optimize_result(\n",
      "/opt/conda/lib/python3.10/site-packages/sklearn/linear_model/_logistic.py:458: ConvergenceWarning: lbfgs failed to converge (status=1):\n",
      "STOP: TOTAL NO. of ITERATIONS REACHED LIMIT.\n",
      "\n",
      "Increase the number of iterations (max_iter) or scale the data as shown in:\n",
      "    https://scikit-learn.org/stable/modules/preprocessing.html\n",
      "Please also refer to the documentation for alternative solver options:\n",
      "    https://scikit-learn.org/stable/modules/linear_model.html#logistic-regression\n",
      "  n_iter_i = _check_optimize_result(\n",
      "/opt/conda/lib/python3.10/site-packages/sklearn/linear_model/_logistic.py:458: ConvergenceWarning: lbfgs failed to converge (status=1):\n",
      "STOP: TOTAL NO. of ITERATIONS REACHED LIMIT.\n",
      "\n",
      "Increase the number of iterations (max_iter) or scale the data as shown in:\n",
      "    https://scikit-learn.org/stable/modules/preprocessing.html\n",
      "Please also refer to the documentation for alternative solver options:\n",
      "    https://scikit-learn.org/stable/modules/linear_model.html#logistic-regression\n",
      "  n_iter_i = _check_optimize_result(\n",
      "/opt/conda/lib/python3.10/site-packages/sklearn/linear_model/_logistic.py:458: ConvergenceWarning: lbfgs failed to converge (status=1):\n",
      "STOP: TOTAL NO. of ITERATIONS REACHED LIMIT.\n",
      "\n",
      "Increase the number of iterations (max_iter) or scale the data as shown in:\n",
      "    https://scikit-learn.org/stable/modules/preprocessing.html\n",
      "Please also refer to the documentation for alternative solver options:\n",
      "    https://scikit-learn.org/stable/modules/linear_model.html#logistic-regression\n",
      "  n_iter_i = _check_optimize_result(\n",
      "/opt/conda/lib/python3.10/site-packages/sklearn/linear_model/_logistic.py:458: ConvergenceWarning: lbfgs failed to converge (status=1):\n",
      "STOP: TOTAL NO. of ITERATIONS REACHED LIMIT.\n",
      "\n",
      "Increase the number of iterations (max_iter) or scale the data as shown in:\n",
      "    https://scikit-learn.org/stable/modules/preprocessing.html\n",
      "Please also refer to the documentation for alternative solver options:\n",
      "    https://scikit-learn.org/stable/modules/linear_model.html#logistic-regression\n",
      "  n_iter_i = _check_optimize_result(\n",
      "/opt/conda/lib/python3.10/site-packages/sklearn/linear_model/_logistic.py:458: ConvergenceWarning: lbfgs failed to converge (status=1):\n",
      "STOP: TOTAL NO. of ITERATIONS REACHED LIMIT.\n",
      "\n",
      "Increase the number of iterations (max_iter) or scale the data as shown in:\n",
      "    https://scikit-learn.org/stable/modules/preprocessing.html\n",
      "Please also refer to the documentation for alternative solver options:\n",
      "    https://scikit-learn.org/stable/modules/linear_model.html#logistic-regression\n",
      "  n_iter_i = _check_optimize_result(\n",
      "/opt/conda/lib/python3.10/site-packages/sklearn/linear_model/_logistic.py:458: ConvergenceWarning: lbfgs failed to converge (status=1):\n",
      "STOP: TOTAL NO. of ITERATIONS REACHED LIMIT.\n",
      "\n",
      "Increase the number of iterations (max_iter) or scale the data as shown in:\n",
      "    https://scikit-learn.org/stable/modules/preprocessing.html\n",
      "Please also refer to the documentation for alternative solver options:\n",
      "    https://scikit-learn.org/stable/modules/linear_model.html#logistic-regression\n",
      "  n_iter_i = _check_optimize_result(\n",
      "/opt/conda/lib/python3.10/site-packages/sklearn/linear_model/_logistic.py:458: ConvergenceWarning: lbfgs failed to converge (status=1):\n",
      "STOP: TOTAL NO. of ITERATIONS REACHED LIMIT.\n",
      "\n",
      "Increase the number of iterations (max_iter) or scale the data as shown in:\n",
      "    https://scikit-learn.org/stable/modules/preprocessing.html\n",
      "Please also refer to the documentation for alternative solver options:\n",
      "    https://scikit-learn.org/stable/modules/linear_model.html#logistic-regression\n",
      "  n_iter_i = _check_optimize_result(\n",
      "/opt/conda/lib/python3.10/site-packages/sklearn/linear_model/_logistic.py:458: ConvergenceWarning: lbfgs failed to converge (status=1):\n",
      "STOP: TOTAL NO. of ITERATIONS REACHED LIMIT.\n",
      "\n",
      "Increase the number of iterations (max_iter) or scale the data as shown in:\n",
      "    https://scikit-learn.org/stable/modules/preprocessing.html\n",
      "Please also refer to the documentation for alternative solver options:\n",
      "    https://scikit-learn.org/stable/modules/linear_model.html#logistic-regression\n",
      "  n_iter_i = _check_optimize_result(\n",
      "/opt/conda/lib/python3.10/site-packages/sklearn/linear_model/_logistic.py:458: ConvergenceWarning: lbfgs failed to converge (status=1):\n",
      "STOP: TOTAL NO. of ITERATIONS REACHED LIMIT.\n",
      "\n",
      "Increase the number of iterations (max_iter) or scale the data as shown in:\n",
      "    https://scikit-learn.org/stable/modules/preprocessing.html\n",
      "Please also refer to the documentation for alternative solver options:\n",
      "    https://scikit-learn.org/stable/modules/linear_model.html#logistic-regression\n",
      "  n_iter_i = _check_optimize_result(\n",
      "/opt/conda/lib/python3.10/site-packages/sklearn/linear_model/_logistic.py:458: ConvergenceWarning: lbfgs failed to converge (status=1):\n",
      "STOP: TOTAL NO. of ITERATIONS REACHED LIMIT.\n",
      "\n",
      "Increase the number of iterations (max_iter) or scale the data as shown in:\n",
      "    https://scikit-learn.org/stable/modules/preprocessing.html\n",
      "Please also refer to the documentation for alternative solver options:\n",
      "    https://scikit-learn.org/stable/modules/linear_model.html#logistic-regression\n",
      "  n_iter_i = _check_optimize_result(\n",
      "/opt/conda/lib/python3.10/site-packages/sklearn/linear_model/_logistic.py:458: ConvergenceWarning: lbfgs failed to converge (status=1):\n",
      "STOP: TOTAL NO. of ITERATIONS REACHED LIMIT.\n",
      "\n",
      "Increase the number of iterations (max_iter) or scale the data as shown in:\n",
      "    https://scikit-learn.org/stable/modules/preprocessing.html\n",
      "Please also refer to the documentation for alternative solver options:\n",
      "    https://scikit-learn.org/stable/modules/linear_model.html#logistic-regression\n",
      "  n_iter_i = _check_optimize_result(\n",
      "/opt/conda/lib/python3.10/site-packages/sklearn/linear_model/_logistic.py:458: ConvergenceWarning: lbfgs failed to converge (status=1):\n",
      "STOP: TOTAL NO. of ITERATIONS REACHED LIMIT.\n",
      "\n",
      "Increase the number of iterations (max_iter) or scale the data as shown in:\n",
      "    https://scikit-learn.org/stable/modules/preprocessing.html\n",
      "Please also refer to the documentation for alternative solver options:\n",
      "    https://scikit-learn.org/stable/modules/linear_model.html#logistic-regression\n",
      "  n_iter_i = _check_optimize_result(\n",
      "/opt/conda/lib/python3.10/site-packages/sklearn/linear_model/_logistic.py:458: ConvergenceWarning: lbfgs failed to converge (status=1):\n",
      "STOP: TOTAL NO. of ITERATIONS REACHED LIMIT.\n",
      "\n",
      "Increase the number of iterations (max_iter) or scale the data as shown in:\n",
      "    https://scikit-learn.org/stable/modules/preprocessing.html\n",
      "Please also refer to the documentation for alternative solver options:\n",
      "    https://scikit-learn.org/stable/modules/linear_model.html#logistic-regression\n",
      "  n_iter_i = _check_optimize_result(\n",
      "/opt/conda/lib/python3.10/site-packages/sklearn/linear_model/_logistic.py:458: ConvergenceWarning: lbfgs failed to converge (status=1):\n",
      "STOP: TOTAL NO. of ITERATIONS REACHED LIMIT.\n",
      "\n",
      "Increase the number of iterations (max_iter) or scale the data as shown in:\n",
      "    https://scikit-learn.org/stable/modules/preprocessing.html\n",
      "Please also refer to the documentation for alternative solver options:\n",
      "    https://scikit-learn.org/stable/modules/linear_model.html#logistic-regression\n",
      "  n_iter_i = _check_optimize_result(\n",
      "/opt/conda/lib/python3.10/site-packages/sklearn/linear_model/_logistic.py:458: ConvergenceWarning: lbfgs failed to converge (status=1):\n",
      "STOP: TOTAL NO. of ITERATIONS REACHED LIMIT.\n",
      "\n",
      "Increase the number of iterations (max_iter) or scale the data as shown in:\n",
      "    https://scikit-learn.org/stable/modules/preprocessing.html\n",
      "Please also refer to the documentation for alternative solver options:\n",
      "    https://scikit-learn.org/stable/modules/linear_model.html#logistic-regression\n",
      "  n_iter_i = _check_optimize_result(\n",
      "/opt/conda/lib/python3.10/site-packages/sklearn/linear_model/_logistic.py:458: ConvergenceWarning: lbfgs failed to converge (status=1):\n",
      "STOP: TOTAL NO. of ITERATIONS REACHED LIMIT.\n",
      "\n",
      "Increase the number of iterations (max_iter) or scale the data as shown in:\n",
      "    https://scikit-learn.org/stable/modules/preprocessing.html\n",
      "Please also refer to the documentation for alternative solver options:\n",
      "    https://scikit-learn.org/stable/modules/linear_model.html#logistic-regression\n",
      "  n_iter_i = _check_optimize_result(\n",
      "/opt/conda/lib/python3.10/site-packages/sklearn/linear_model/_logistic.py:458: ConvergenceWarning: lbfgs failed to converge (status=1):\n",
      "STOP: TOTAL NO. of ITERATIONS REACHED LIMIT.\n",
      "\n",
      "Increase the number of iterations (max_iter) or scale the data as shown in:\n",
      "    https://scikit-learn.org/stable/modules/preprocessing.html\n",
      "Please also refer to the documentation for alternative solver options:\n",
      "    https://scikit-learn.org/stable/modules/linear_model.html#logistic-regression\n",
      "  n_iter_i = _check_optimize_result(\n",
      "/opt/conda/lib/python3.10/site-packages/sklearn/linear_model/_logistic.py:458: ConvergenceWarning: lbfgs failed to converge (status=1):\n",
      "STOP: TOTAL NO. of ITERATIONS REACHED LIMIT.\n",
      "\n",
      "Increase the number of iterations (max_iter) or scale the data as shown in:\n",
      "    https://scikit-learn.org/stable/modules/preprocessing.html\n",
      "Please also refer to the documentation for alternative solver options:\n",
      "    https://scikit-learn.org/stable/modules/linear_model.html#logistic-regression\n",
      "  n_iter_i = _check_optimize_result(\n",
      "/opt/conda/lib/python3.10/site-packages/sklearn/linear_model/_logistic.py:458: ConvergenceWarning: lbfgs failed to converge (status=1):\n",
      "STOP: TOTAL NO. of ITERATIONS REACHED LIMIT.\n",
      "\n",
      "Increase the number of iterations (max_iter) or scale the data as shown in:\n",
      "    https://scikit-learn.org/stable/modules/preprocessing.html\n",
      "Please also refer to the documentation for alternative solver options:\n",
      "    https://scikit-learn.org/stable/modules/linear_model.html#logistic-regression\n",
      "  n_iter_i = _check_optimize_result(\n",
      "/opt/conda/lib/python3.10/site-packages/sklearn/linear_model/_logistic.py:458: ConvergenceWarning: lbfgs failed to converge (status=1):\n",
      "STOP: TOTAL NO. of ITERATIONS REACHED LIMIT.\n",
      "\n",
      "Increase the number of iterations (max_iter) or scale the data as shown in:\n",
      "    https://scikit-learn.org/stable/modules/preprocessing.html\n",
      "Please also refer to the documentation for alternative solver options:\n",
      "    https://scikit-learn.org/stable/modules/linear_model.html#logistic-regression\n",
      "  n_iter_i = _check_optimize_result(\n",
      "/opt/conda/lib/python3.10/site-packages/sklearn/linear_model/_logistic.py:458: ConvergenceWarning: lbfgs failed to converge (status=1):\n",
      "STOP: TOTAL NO. of ITERATIONS REACHED LIMIT.\n",
      "\n",
      "Increase the number of iterations (max_iter) or scale the data as shown in:\n",
      "    https://scikit-learn.org/stable/modules/preprocessing.html\n",
      "Please also refer to the documentation for alternative solver options:\n",
      "    https://scikit-learn.org/stable/modules/linear_model.html#logistic-regression\n",
      "  n_iter_i = _check_optimize_result(\n",
      "/opt/conda/lib/python3.10/site-packages/sklearn/linear_model/_logistic.py:458: ConvergenceWarning: lbfgs failed to converge (status=1):\n",
      "STOP: TOTAL NO. of ITERATIONS REACHED LIMIT.\n",
      "\n",
      "Increase the number of iterations (max_iter) or scale the data as shown in:\n",
      "    https://scikit-learn.org/stable/modules/preprocessing.html\n",
      "Please also refer to the documentation for alternative solver options:\n",
      "    https://scikit-learn.org/stable/modules/linear_model.html#logistic-regression\n",
      "  n_iter_i = _check_optimize_result(\n",
      "/opt/conda/lib/python3.10/site-packages/sklearn/linear_model/_logistic.py:458: ConvergenceWarning: lbfgs failed to converge (status=1):\n",
      "STOP: TOTAL NO. of ITERATIONS REACHED LIMIT.\n",
      "\n",
      "Increase the number of iterations (max_iter) or scale the data as shown in:\n",
      "    https://scikit-learn.org/stable/modules/preprocessing.html\n",
      "Please also refer to the documentation for alternative solver options:\n",
      "    https://scikit-learn.org/stable/modules/linear_model.html#logistic-regression\n",
      "  n_iter_i = _check_optimize_result(\n",
      "/opt/conda/lib/python3.10/site-packages/sklearn/linear_model/_logistic.py:458: ConvergenceWarning: lbfgs failed to converge (status=1):\n",
      "STOP: TOTAL NO. of ITERATIONS REACHED LIMIT.\n",
      "\n",
      "Increase the number of iterations (max_iter) or scale the data as shown in:\n",
      "    https://scikit-learn.org/stable/modules/preprocessing.html\n",
      "Please also refer to the documentation for alternative solver options:\n",
      "    https://scikit-learn.org/stable/modules/linear_model.html#logistic-regression\n",
      "  n_iter_i = _check_optimize_result(\n",
      "/opt/conda/lib/python3.10/site-packages/sklearn/linear_model/_logistic.py:458: ConvergenceWarning: lbfgs failed to converge (status=1):\n",
      "STOP: TOTAL NO. of ITERATIONS REACHED LIMIT.\n",
      "\n",
      "Increase the number of iterations (max_iter) or scale the data as shown in:\n",
      "    https://scikit-learn.org/stable/modules/preprocessing.html\n",
      "Please also refer to the documentation for alternative solver options:\n",
      "    https://scikit-learn.org/stable/modules/linear_model.html#logistic-regression\n",
      "  n_iter_i = _check_optimize_result(\n",
      "/opt/conda/lib/python3.10/site-packages/sklearn/linear_model/_logistic.py:458: ConvergenceWarning: lbfgs failed to converge (status=1):\n",
      "STOP: TOTAL NO. of ITERATIONS REACHED LIMIT.\n",
      "\n",
      "Increase the number of iterations (max_iter) or scale the data as shown in:\n",
      "    https://scikit-learn.org/stable/modules/preprocessing.html\n",
      "Please also refer to the documentation for alternative solver options:\n",
      "    https://scikit-learn.org/stable/modules/linear_model.html#logistic-regression\n",
      "  n_iter_i = _check_optimize_result(\n",
      "/opt/conda/lib/python3.10/site-packages/sklearn/linear_model/_logistic.py:458: ConvergenceWarning: lbfgs failed to converge (status=1):\n",
      "STOP: TOTAL NO. of ITERATIONS REACHED LIMIT.\n",
      "\n",
      "Increase the number of iterations (max_iter) or scale the data as shown in:\n",
      "    https://scikit-learn.org/stable/modules/preprocessing.html\n",
      "Please also refer to the documentation for alternative solver options:\n",
      "    https://scikit-learn.org/stable/modules/linear_model.html#logistic-regression\n",
      "  n_iter_i = _check_optimize_result(\n",
      "/opt/conda/lib/python3.10/site-packages/sklearn/linear_model/_logistic.py:458: ConvergenceWarning: lbfgs failed to converge (status=1):\n",
      "STOP: TOTAL NO. of ITERATIONS REACHED LIMIT.\n",
      "\n",
      "Increase the number of iterations (max_iter) or scale the data as shown in:\n",
      "    https://scikit-learn.org/stable/modules/preprocessing.html\n",
      "Please also refer to the documentation for alternative solver options:\n",
      "    https://scikit-learn.org/stable/modules/linear_model.html#logistic-regression\n",
      "  n_iter_i = _check_optimize_result(\n",
      "/opt/conda/lib/python3.10/site-packages/sklearn/linear_model/_logistic.py:458: ConvergenceWarning: lbfgs failed to converge (status=1):\n",
      "STOP: TOTAL NO. of ITERATIONS REACHED LIMIT.\n",
      "\n",
      "Increase the number of iterations (max_iter) or scale the data as shown in:\n",
      "    https://scikit-learn.org/stable/modules/preprocessing.html\n",
      "Please also refer to the documentation for alternative solver options:\n",
      "    https://scikit-learn.org/stable/modules/linear_model.html#logistic-regression\n",
      "  n_iter_i = _check_optimize_result(\n",
      "/opt/conda/lib/python3.10/site-packages/sklearn/linear_model/_logistic.py:458: ConvergenceWarning: lbfgs failed to converge (status=1):\n",
      "STOP: TOTAL NO. of ITERATIONS REACHED LIMIT.\n",
      "\n",
      "Increase the number of iterations (max_iter) or scale the data as shown in:\n",
      "    https://scikit-learn.org/stable/modules/preprocessing.html\n",
      "Please also refer to the documentation for alternative solver options:\n",
      "    https://scikit-learn.org/stable/modules/linear_model.html#logistic-regression\n",
      "  n_iter_i = _check_optimize_result(\n",
      "/opt/conda/lib/python3.10/site-packages/sklearn/linear_model/_logistic.py:458: ConvergenceWarning: lbfgs failed to converge (status=1):\n",
      "STOP: TOTAL NO. of ITERATIONS REACHED LIMIT.\n",
      "\n",
      "Increase the number of iterations (max_iter) or scale the data as shown in:\n",
      "    https://scikit-learn.org/stable/modules/preprocessing.html\n",
      "Please also refer to the documentation for alternative solver options:\n",
      "    https://scikit-learn.org/stable/modules/linear_model.html#logistic-regression\n",
      "  n_iter_i = _check_optimize_result(\n",
      "/opt/conda/lib/python3.10/site-packages/sklearn/linear_model/_logistic.py:458: ConvergenceWarning: lbfgs failed to converge (status=1):\n",
      "STOP: TOTAL NO. of ITERATIONS REACHED LIMIT.\n",
      "\n",
      "Increase the number of iterations (max_iter) or scale the data as shown in:\n",
      "    https://scikit-learn.org/stable/modules/preprocessing.html\n",
      "Please also refer to the documentation for alternative solver options:\n",
      "    https://scikit-learn.org/stable/modules/linear_model.html#logistic-regression\n",
      "  n_iter_i = _check_optimize_result(\n",
      "/opt/conda/lib/python3.10/site-packages/sklearn/linear_model/_logistic.py:458: ConvergenceWarning: lbfgs failed to converge (status=1):\n",
      "STOP: TOTAL NO. of ITERATIONS REACHED LIMIT.\n",
      "\n",
      "Increase the number of iterations (max_iter) or scale the data as shown in:\n",
      "    https://scikit-learn.org/stable/modules/preprocessing.html\n",
      "Please also refer to the documentation for alternative solver options:\n",
      "    https://scikit-learn.org/stable/modules/linear_model.html#logistic-regression\n",
      "  n_iter_i = _check_optimize_result(\n",
      "/opt/conda/lib/python3.10/site-packages/sklearn/linear_model/_logistic.py:458: ConvergenceWarning: lbfgs failed to converge (status=1):\n",
      "STOP: TOTAL NO. of ITERATIONS REACHED LIMIT.\n",
      "\n",
      "Increase the number of iterations (max_iter) or scale the data as shown in:\n",
      "    https://scikit-learn.org/stable/modules/preprocessing.html\n",
      "Please also refer to the documentation for alternative solver options:\n",
      "    https://scikit-learn.org/stable/modules/linear_model.html#logistic-regression\n",
      "  n_iter_i = _check_optimize_result(\n",
      "/opt/conda/lib/python3.10/site-packages/sklearn/linear_model/_logistic.py:458: ConvergenceWarning: lbfgs failed to converge (status=1):\n",
      "STOP: TOTAL NO. of ITERATIONS REACHED LIMIT.\n",
      "\n",
      "Increase the number of iterations (max_iter) or scale the data as shown in:\n",
      "    https://scikit-learn.org/stable/modules/preprocessing.html\n",
      "Please also refer to the documentation for alternative solver options:\n",
      "    https://scikit-learn.org/stable/modules/linear_model.html#logistic-regression\n",
      "  n_iter_i = _check_optimize_result(\n",
      "/opt/conda/lib/python3.10/site-packages/sklearn/linear_model/_logistic.py:458: ConvergenceWarning: lbfgs failed to converge (status=1):\n",
      "STOP: TOTAL NO. of ITERATIONS REACHED LIMIT.\n",
      "\n",
      "Increase the number of iterations (max_iter) or scale the data as shown in:\n",
      "    https://scikit-learn.org/stable/modules/preprocessing.html\n",
      "Please also refer to the documentation for alternative solver options:\n",
      "    https://scikit-learn.org/stable/modules/linear_model.html#logistic-regression\n",
      "  n_iter_i = _check_optimize_result(\n",
      "/opt/conda/lib/python3.10/site-packages/sklearn/linear_model/_logistic.py:458: ConvergenceWarning: lbfgs failed to converge (status=1):\n",
      "STOP: TOTAL NO. of ITERATIONS REACHED LIMIT.\n",
      "\n",
      "Increase the number of iterations (max_iter) or scale the data as shown in:\n",
      "    https://scikit-learn.org/stable/modules/preprocessing.html\n",
      "Please also refer to the documentation for alternative solver options:\n",
      "    https://scikit-learn.org/stable/modules/linear_model.html#logistic-regression\n",
      "  n_iter_i = _check_optimize_result(\n",
      "/opt/conda/lib/python3.10/site-packages/sklearn/linear_model/_logistic.py:458: ConvergenceWarning: lbfgs failed to converge (status=1):\n",
      "STOP: TOTAL NO. of ITERATIONS REACHED LIMIT.\n",
      "\n",
      "Increase the number of iterations (max_iter) or scale the data as shown in:\n",
      "    https://scikit-learn.org/stable/modules/preprocessing.html\n",
      "Please also refer to the documentation for alternative solver options:\n",
      "    https://scikit-learn.org/stable/modules/linear_model.html#logistic-regression\n",
      "  n_iter_i = _check_optimize_result(\n",
      "/opt/conda/lib/python3.10/site-packages/sklearn/linear_model/_logistic.py:458: ConvergenceWarning: lbfgs failed to converge (status=1):\n",
      "STOP: TOTAL NO. of ITERATIONS REACHED LIMIT.\n",
      "\n",
      "Increase the number of iterations (max_iter) or scale the data as shown in:\n",
      "    https://scikit-learn.org/stable/modules/preprocessing.html\n",
      "Please also refer to the documentation for alternative solver options:\n",
      "    https://scikit-learn.org/stable/modules/linear_model.html#logistic-regression\n",
      "  n_iter_i = _check_optimize_result(\n",
      "/opt/conda/lib/python3.10/site-packages/sklearn/model_selection/_validation.py:378: FitFailedWarning: \n",
      "10 fits failed out of a total of 20.\n",
      "The score on these train-test partitions for these parameters will be set to nan.\n",
      "If these failures are not expected, you can try to debug them by setting error_score='raise'.\n",
      "\n",
      "Below are more details about the failures:\n",
      "--------------------------------------------------------------------------------\n",
      "5 fits failed with the following error:\n",
      "Traceback (most recent call last):\n",
      "  File \"/opt/conda/lib/python3.10/site-packages/sklearn/model_selection/_validation.py\", line 686, in _fit_and_score\n",
      "    estimator.fit(X_train, y_train, **fit_params)\n",
      "  File \"/opt/conda/lib/python3.10/site-packages/sklearn/ensemble/_stacking.py\", line 660, in fit\n",
      "    return super().fit(X, y_encoded, sample_weight)\n",
      "  File \"/opt/conda/lib/python3.10/site-packages/sklearn/ensemble/_stacking.py\", line 227, in fit\n",
      "    self.stack_method_ = [\n",
      "  File \"/opt/conda/lib/python3.10/site-packages/sklearn/ensemble/_stacking.py\", line 228, in <listcomp>\n",
      "    self._method_name(name, est, meth)\n",
      "  File \"/opt/conda/lib/python3.10/site-packages/sklearn/ensemble/_stacking.py\", line 157, in _method_name\n",
      "    raise ValueError(\n",
      "ValueError: Underlying estimator svcclf does not implement the method predict_proba.\n",
      "\n",
      "--------------------------------------------------------------------------------\n",
      "5 fits failed with the following error:\n",
      "Traceback (most recent call last):\n",
      "  File \"/opt/conda/lib/python3.10/site-packages/sklearn/model_selection/_validation.py\", line 686, in _fit_and_score\n",
      "    estimator.fit(X_train, y_train, **fit_params)\n",
      "  File \"/opt/conda/lib/python3.10/site-packages/sklearn/ensemble/_stacking.py\", line 660, in fit\n",
      "    return super().fit(X, y_encoded, sample_weight)\n",
      "  File \"/opt/conda/lib/python3.10/site-packages/sklearn/ensemble/_stacking.py\", line 227, in fit\n",
      "    self.stack_method_ = [\n",
      "  File \"/opt/conda/lib/python3.10/site-packages/sklearn/ensemble/_stacking.py\", line 228, in <listcomp>\n",
      "    self._method_name(name, est, meth)\n",
      "  File \"/opt/conda/lib/python3.10/site-packages/sklearn/ensemble/_stacking.py\", line 157, in _method_name\n",
      "    raise ValueError(\n",
      "ValueError: Underlying estimator DT does not implement the method decision_function.\n",
      "\n",
      "  warnings.warn(some_fits_failed_message, FitFailedWarning)\n",
      "/opt/conda/lib/python3.10/site-packages/sklearn/model_selection/_search.py:952: UserWarning: One or more of the test scores are non-finite: [0.86648029        nan        nan 0.86509179]\n",
      "  warnings.warn(\n",
      "/opt/conda/lib/python3.10/site-packages/sklearn/linear_model/_logistic.py:458: ConvergenceWarning: lbfgs failed to converge (status=1):\n",
      "STOP: TOTAL NO. of ITERATIONS REACHED LIMIT.\n",
      "\n",
      "Increase the number of iterations (max_iter) or scale the data as shown in:\n",
      "    https://scikit-learn.org/stable/modules/preprocessing.html\n",
      "Please also refer to the documentation for alternative solver options:\n",
      "    https://scikit-learn.org/stable/modules/linear_model.html#logistic-regression\n",
      "  n_iter_i = _check_optimize_result(\n",
      "/opt/conda/lib/python3.10/site-packages/sklearn/linear_model/_logistic.py:458: ConvergenceWarning: lbfgs failed to converge (status=1):\n",
      "STOP: TOTAL NO. of ITERATIONS REACHED LIMIT.\n",
      "\n",
      "Increase the number of iterations (max_iter) or scale the data as shown in:\n",
      "    https://scikit-learn.org/stable/modules/preprocessing.html\n",
      "Please also refer to the documentation for alternative solver options:\n",
      "    https://scikit-learn.org/stable/modules/linear_model.html#logistic-regression\n",
      "  n_iter_i = _check_optimize_result(\n",
      "/opt/conda/lib/python3.10/site-packages/sklearn/linear_model/_logistic.py:458: ConvergenceWarning: lbfgs failed to converge (status=1):\n",
      "STOP: TOTAL NO. of ITERATIONS REACHED LIMIT.\n",
      "\n",
      "Increase the number of iterations (max_iter) or scale the data as shown in:\n",
      "    https://scikit-learn.org/stable/modules/preprocessing.html\n",
      "Please also refer to the documentation for alternative solver options:\n",
      "    https://scikit-learn.org/stable/modules/linear_model.html#logistic-regression\n",
      "  n_iter_i = _check_optimize_result(\n",
      "/opt/conda/lib/python3.10/site-packages/sklearn/linear_model/_logistic.py:458: ConvergenceWarning: lbfgs failed to converge (status=1):\n",
      "STOP: TOTAL NO. of ITERATIONS REACHED LIMIT.\n",
      "\n",
      "Increase the number of iterations (max_iter) or scale the data as shown in:\n",
      "    https://scikit-learn.org/stable/modules/preprocessing.html\n",
      "Please also refer to the documentation for alternative solver options:\n",
      "    https://scikit-learn.org/stable/modules/linear_model.html#logistic-regression\n",
      "  n_iter_i = _check_optimize_result(\n",
      "/opt/conda/lib/python3.10/site-packages/sklearn/linear_model/_logistic.py:458: ConvergenceWarning: lbfgs failed to converge (status=1):\n",
      "STOP: TOTAL NO. of ITERATIONS REACHED LIMIT.\n",
      "\n",
      "Increase the number of iterations (max_iter) or scale the data as shown in:\n",
      "    https://scikit-learn.org/stable/modules/preprocessing.html\n",
      "Please also refer to the documentation for alternative solver options:\n",
      "    https://scikit-learn.org/stable/modules/linear_model.html#logistic-regression\n",
      "  n_iter_i = _check_optimize_result(\n",
      "/opt/conda/lib/python3.10/site-packages/sklearn/linear_model/_logistic.py:458: ConvergenceWarning: lbfgs failed to converge (status=1):\n",
      "STOP: TOTAL NO. of ITERATIONS REACHED LIMIT.\n",
      "\n",
      "Increase the number of iterations (max_iter) or scale the data as shown in:\n",
      "    https://scikit-learn.org/stable/modules/preprocessing.html\n",
      "Please also refer to the documentation for alternative solver options:\n",
      "    https://scikit-learn.org/stable/modules/linear_model.html#logistic-regression\n",
      "  n_iter_i = _check_optimize_result(\n"
     ]
    },
    {
     "data": {
      "text/plain": [
       "{'stack_method': 'auto'}"
      ]
     },
     "execution_count": 45,
     "metadata": {},
     "output_type": "execute_result"
    }
   ],
   "source": [
    "# applying grid search cv for stacking classifier\n",
    "stackclf_gridcv=GridSearchCV(estimator=stackclf,\n",
    "    param_grid={'stack_method':['auto','predict_proba','decision_function','predict']},\n",
    "    cv=5)\n",
    "stackclf_gridcv.fit(x_train_processed,y_train)\n",
    "stackclf_gridcv.best_params_"
   ]
  },
  {
   "cell_type": "code",
   "execution_count": 46,
   "id": "e7c80b83",
   "metadata": {
    "execution": {
     "iopub.execute_input": "2023-12-16T07:47:19.770267Z",
     "iopub.status.busy": "2023-12-16T07:47:19.769275Z",
     "iopub.status.idle": "2023-12-16T07:47:32.622742Z",
     "shell.execute_reply": "2023-12-16T07:47:32.621612Z"
    },
    "papermill": {
     "duration": 12.886758,
     "end_time": "2023-12-16T07:47:32.625308",
     "exception": false,
     "start_time": "2023-12-16T07:47:19.738550",
     "status": "completed"
    },
    "tags": []
   },
   "outputs": [
    {
     "data": {
      "text/plain": [
       "{'criterion': 'friedman_mse', 'learning_rate': 0.1, 'loss': 'log_loss'}"
      ]
     },
     "execution_count": 46,
     "metadata": {},
     "output_type": "execute_result"
    }
   ],
   "source": [
    "# applying grid search cv for Gradient Boosting \n",
    "gradientboostingclf_gridcv=GridSearchCV(estimator=gradientboostingclf,\n",
    "    param_grid={'loss':['log_loss','exponential']\n",
    "               ,'learning_rate':[0.0001,0.001,0.01,0.1],\n",
    "               'criterion':['friedman_mse','squared_error']\n",
    "               },\n",
    "    cv=5)\n",
    "gradientboostingclf_gridcv.fit(x_train_processed,y_train)\n",
    "gradientboostingclf_gridcv.best_params_"
   ]
  },
  {
   "cell_type": "markdown",
   "id": "c71921fd",
   "metadata": {
    "papermill": {
     "duration": 0.028598,
     "end_time": "2023-12-16T07:47:32.682849",
     "exception": false,
     "start_time": "2023-12-16T07:47:32.654251",
     "status": "completed"
    },
    "tags": []
   },
   "source": [
    "Now Lets test the algorithms"
   ]
  },
  {
   "cell_type": "code",
   "execution_count": null,
   "id": "224d3648",
   "metadata": {
    "papermill": {
     "duration": 0.027989,
     "end_time": "2023-12-16T07:47:32.740272",
     "exception": false,
     "start_time": "2023-12-16T07:47:32.712283",
     "status": "completed"
    },
    "tags": []
   },
   "outputs": [],
   "source": []
  },
  {
   "cell_type": "code",
   "execution_count": null,
   "id": "4c8d3bf8",
   "metadata": {
    "papermill": {
     "duration": 0.027996,
     "end_time": "2023-12-16T07:47:32.796403",
     "exception": false,
     "start_time": "2023-12-16T07:47:32.768407",
     "status": "completed"
    },
    "tags": []
   },
   "outputs": [],
   "source": []
  },
  {
   "cell_type": "code",
   "execution_count": null,
   "id": "04fd993c",
   "metadata": {
    "papermill": {
     "duration": 0.027991,
     "end_time": "2023-12-16T07:47:32.853299",
     "exception": false,
     "start_time": "2023-12-16T07:47:32.825308",
     "status": "completed"
    },
    "tags": []
   },
   "outputs": [],
   "source": []
  },
  {
   "cell_type": "markdown",
   "id": "b53ebb8a",
   "metadata": {
    "papermill": {
     "duration": 0.028084,
     "end_time": "2023-12-16T07:47:32.909732",
     "exception": false,
     "start_time": "2023-12-16T07:47:32.881648",
     "status": "completed"
    },
    "tags": []
   },
   "source": [
    "# Performance measurement on all the models"
   ]
  },
  {
   "cell_type": "code",
   "execution_count": 47,
   "id": "263d1478",
   "metadata": {
    "execution": {
     "iopub.execute_input": "2023-12-16T07:47:32.968252Z",
     "iopub.status.busy": "2023-12-16T07:47:32.967839Z",
     "iopub.status.idle": "2023-12-16T07:47:32.973360Z",
     "shell.execute_reply": "2023-12-16T07:47:32.972079Z"
    },
    "papermill": {
     "duration": 0.037433,
     "end_time": "2023-12-16T07:47:32.975558",
     "exception": false,
     "start_time": "2023-12-16T07:47:32.938125",
     "status": "completed"
    },
    "tags": []
   },
   "outputs": [],
   "source": [
    "# this function will return accuracy of the model on test data set \n",
    "def performance_checker(model,x_test,y_test):\n",
    "    y_prediction=model.predict(x_test)\n",
    "    accuracy = accuracy_score(y_test, y_prediction)\n",
    "    return accuracy"
   ]
  },
  {
   "cell_type": "code",
   "execution_count": 48,
   "id": "0f76b775",
   "metadata": {
    "execution": {
     "iopub.execute_input": "2023-12-16T07:47:33.035614Z",
     "iopub.status.busy": "2023-12-16T07:47:33.035186Z",
     "iopub.status.idle": "2023-12-16T07:47:33.040621Z",
     "shell.execute_reply": "2023-12-16T07:47:33.039181Z"
    },
    "papermill": {
     "duration": 0.037888,
     "end_time": "2023-12-16T07:47:33.043100",
     "exception": false,
     "start_time": "2023-12-16T07:47:33.005212",
     "status": "completed"
    },
    "tags": []
   },
   "outputs": [],
   "source": [
    "models=[logistic,DT,randomforest,svcclf,GNB,BNB,votingclf,adaboostclf,stackclf,gradientboostingclf]"
   ]
  },
  {
   "cell_type": "code",
   "execution_count": 49,
   "id": "797e3e1a",
   "metadata": {
    "execution": {
     "iopub.execute_input": "2023-12-16T07:47:33.101874Z",
     "iopub.status.busy": "2023-12-16T07:47:33.101424Z",
     "iopub.status.idle": "2023-12-16T07:47:33.147470Z",
     "shell.execute_reply": "2023-12-16T07:47:33.146372Z"
    },
    "papermill": {
     "duration": 0.078547,
     "end_time": "2023-12-16T07:47:33.150093",
     "exception": false,
     "start_time": "2023-12-16T07:47:33.071546",
     "status": "completed"
    },
    "tags": []
   },
   "outputs": [],
   "source": [
    "res['Tested_accuracy']=None\n",
    "z=0\n",
    "for i in models:\n",
    "    acc=performance_checker(i,x_test_processed,y_test)\n",
    "    res.loc[z,'Tested_accuracy']=acc\n",
    "    z+=1"
   ]
  },
  {
   "cell_type": "code",
   "execution_count": 50,
   "id": "6acb529e",
   "metadata": {
    "execution": {
     "iopub.execute_input": "2023-12-16T07:47:33.209256Z",
     "iopub.status.busy": "2023-12-16T07:47:33.208858Z",
     "iopub.status.idle": "2023-12-16T07:47:33.221391Z",
     "shell.execute_reply": "2023-12-16T07:47:33.220654Z"
    },
    "papermill": {
     "duration": 0.044659,
     "end_time": "2023-12-16T07:47:33.223299",
     "exception": false,
     "start_time": "2023-12-16T07:47:33.178640",
     "status": "completed"
    },
    "tags": []
   },
   "outputs": [
    {
     "data": {
      "text/html": [
       "<div>\n",
       "<style scoped>\n",
       "    .dataframe tbody tr th:only-of-type {\n",
       "        vertical-align: middle;\n",
       "    }\n",
       "\n",
       "    .dataframe tbody tr th {\n",
       "        vertical-align: top;\n",
       "    }\n",
       "\n",
       "    .dataframe thead th {\n",
       "        text-align: right;\n",
       "    }\n",
       "</style>\n",
       "<table border=\"1\" class=\"dataframe\">\n",
       "  <thead>\n",
       "    <tr style=\"text-align: right;\">\n",
       "      <th></th>\n",
       "      <th>model_name</th>\n",
       "      <th>training_accuracy</th>\n",
       "      <th>Training_precision</th>\n",
       "      <th>Trainig_recall</th>\n",
       "      <th>Tested_accuracy</th>\n",
       "    </tr>\n",
       "  </thead>\n",
       "  <tbody>\n",
       "    <tr>\n",
       "      <th>0</th>\n",
       "      <td>LogisticRegression()</td>\n",
       "      <td>0.853261</td>\n",
       "      <td>0.900000</td>\n",
       "      <td>0.841121</td>\n",
       "      <td>0.853261</td>\n",
       "    </tr>\n",
       "    <tr>\n",
       "      <th>1</th>\n",
       "      <td>DecisionTreeClassifier(criterion='log_loss', m...</td>\n",
       "      <td>0.864130</td>\n",
       "      <td>0.901961</td>\n",
       "      <td>0.859813</td>\n",
       "      <td>0.86413</td>\n",
       "    </tr>\n",
       "    <tr>\n",
       "      <th>2</th>\n",
       "      <td>RandomForestClassifier(bootstrap=False, criter...</td>\n",
       "      <td>0.880435</td>\n",
       "      <td>0.904762</td>\n",
       "      <td>0.887850</td>\n",
       "      <td>0.880435</td>\n",
       "    </tr>\n",
       "    <tr>\n",
       "      <th>3</th>\n",
       "      <td>SVC()</td>\n",
       "      <td>0.684783</td>\n",
       "      <td>0.757895</td>\n",
       "      <td>0.672897</td>\n",
       "      <td>0.684783</td>\n",
       "    </tr>\n",
       "    <tr>\n",
       "      <th>4</th>\n",
       "      <td>GaussianNB()</td>\n",
       "      <td>0.869565</td>\n",
       "      <td>0.927835</td>\n",
       "      <td>0.841121</td>\n",
       "      <td>0.869565</td>\n",
       "    </tr>\n",
       "    <tr>\n",
       "      <th>5</th>\n",
       "      <td>BernoulliNB()</td>\n",
       "      <td>0.858696</td>\n",
       "      <td>0.909091</td>\n",
       "      <td>0.841121</td>\n",
       "      <td>0.858696</td>\n",
       "    </tr>\n",
       "    <tr>\n",
       "      <th>6</th>\n",
       "      <td>VotingClassifier(estimators=[('logistic', Logi...</td>\n",
       "      <td>0.880435</td>\n",
       "      <td>0.938144</td>\n",
       "      <td>0.850467</td>\n",
       "      <td>0.880435</td>\n",
       "    </tr>\n",
       "    <tr>\n",
       "      <th>7</th>\n",
       "      <td>AdaBoostClassifier(learning_rate=0.5, n_estima...</td>\n",
       "      <td>0.875000</td>\n",
       "      <td>0.911765</td>\n",
       "      <td>0.869159</td>\n",
       "      <td>0.875</td>\n",
       "    </tr>\n",
       "    <tr>\n",
       "      <th>8</th>\n",
       "      <td>StackingClassifier(estimators=[('logistic', Lo...</td>\n",
       "      <td>0.880435</td>\n",
       "      <td>0.904762</td>\n",
       "      <td>0.887850</td>\n",
       "      <td>0.880435</td>\n",
       "    </tr>\n",
       "    <tr>\n",
       "      <th>9</th>\n",
       "      <td>GradientBoostingClassifier(criterion='squared_...</td>\n",
       "      <td>0.891304</td>\n",
       "      <td>0.914286</td>\n",
       "      <td>0.897196</td>\n",
       "      <td>0.891304</td>\n",
       "    </tr>\n",
       "  </tbody>\n",
       "</table>\n",
       "</div>"
      ],
      "text/plain": [
       "                                          model_name  training_accuracy  \\\n",
       "0                               LogisticRegression()           0.853261   \n",
       "1  DecisionTreeClassifier(criterion='log_loss', m...           0.864130   \n",
       "2  RandomForestClassifier(bootstrap=False, criter...           0.880435   \n",
       "3                                              SVC()           0.684783   \n",
       "4                                       GaussianNB()           0.869565   \n",
       "5                                      BernoulliNB()           0.858696   \n",
       "6  VotingClassifier(estimators=[('logistic', Logi...           0.880435   \n",
       "7  AdaBoostClassifier(learning_rate=0.5, n_estima...           0.875000   \n",
       "8  StackingClassifier(estimators=[('logistic', Lo...           0.880435   \n",
       "9  GradientBoostingClassifier(criterion='squared_...           0.891304   \n",
       "\n",
       "   Training_precision  Trainig_recall Tested_accuracy  \n",
       "0            0.900000        0.841121        0.853261  \n",
       "1            0.901961        0.859813         0.86413  \n",
       "2            0.904762        0.887850        0.880435  \n",
       "3            0.757895        0.672897        0.684783  \n",
       "4            0.927835        0.841121        0.869565  \n",
       "5            0.909091        0.841121        0.858696  \n",
       "6            0.938144        0.850467        0.880435  \n",
       "7            0.911765        0.869159           0.875  \n",
       "8            0.904762        0.887850        0.880435  \n",
       "9            0.914286        0.897196        0.891304  "
      ]
     },
     "execution_count": 50,
     "metadata": {},
     "output_type": "execute_result"
    }
   ],
   "source": [
    "res"
   ]
  },
  {
   "cell_type": "markdown",
   "id": "e6440323",
   "metadata": {
    "papermill": {
     "duration": 0.02817,
     "end_time": "2023-12-16T07:47:33.280113",
     "exception": false,
     "start_time": "2023-12-16T07:47:33.251943",
     "status": "completed"
    },
    "tags": []
   },
   "source": [
    "#  Conclusion \n",
    "From the above dataframe we can see that Gradient boosting classifier is giving us the most optimal performance in terms of accuracy , precision and recall.\n",
    "\n",
    "* **classifier**: Gradient Boosting Classifier \n",
    "* **accuracy**:89.13%\n",
    "* **precision**:91.42%\n",
    "* **racall:**89.72%\n",
    "* **testing_accuracy** : 89.13%\n"
   ]
  },
  {
   "cell_type": "code",
   "execution_count": null,
   "id": "3349b2ff",
   "metadata": {
    "papermill": {
     "duration": 0.028607,
     "end_time": "2023-12-16T07:47:33.337426",
     "exception": false,
     "start_time": "2023-12-16T07:47:33.308819",
     "status": "completed"
    },
    "tags": []
   },
   "outputs": [],
   "source": []
  },
  {
   "cell_type": "markdown",
   "id": "fb1f3b67",
   "metadata": {
    "papermill": {
     "duration": 0.028838,
     "end_time": "2023-12-16T07:47:33.395104",
     "exception": false,
     "start_time": "2023-12-16T07:47:33.366266",
     "status": "completed"
    },
    "tags": []
   },
   "source": []
  }
 ],
 "metadata": {
  "kaggle": {
   "accelerator": "none",
   "dataSources": [
    {
     "datasetId": 1582403,
     "sourceId": 2603715,
     "sourceType": "datasetVersion"
    }
   ],
   "dockerImageVersionId": 30626,
   "isGpuEnabled": false,
   "isInternetEnabled": true,
   "language": "python",
   "sourceType": "notebook"
  },
  "kernelspec": {
   "display_name": "Python 3",
   "language": "python",
   "name": "python3"
  },
  "language_info": {
   "codemirror_mode": {
    "name": "ipython",
    "version": 3
   },
   "file_extension": ".py",
   "mimetype": "text/x-python",
   "name": "python",
   "nbconvert_exporter": "python",
   "pygments_lexer": "ipython3",
   "version": "3.10.12"
  },
  "papermill": {
   "default_parameters": {},
   "duration": 56.225961,
   "end_time": "2023-12-16T07:47:34.145508",
   "environment_variables": {},
   "exception": null,
   "input_path": "__notebook__.ipynb",
   "output_path": "__notebook__.ipynb",
   "parameters": {},
   "start_time": "2023-12-16T07:46:37.919547",
   "version": "2.4.0"
  }
 },
 "nbformat": 4,
 "nbformat_minor": 5
}
